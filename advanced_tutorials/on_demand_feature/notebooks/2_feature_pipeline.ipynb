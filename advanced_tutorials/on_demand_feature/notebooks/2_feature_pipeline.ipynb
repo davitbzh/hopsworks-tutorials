{
 "cells": [
  {
   "cell_type": "code",
   "execution_count": null,
   "metadata": {
    "_cell_guid": "b1076dfc-b9ad-4769-8c92-a6c4dae69d19",
    "_uuid": "8f2839f25d086af736a60e9eeb907d3b93b6e0e5"
   },
   "outputs": [],
   "source": [
    "import os\n",
    "import numpy as np\n",
    "import pandas as pd\n",
    "import matplotlib.pyplot as plt\n",
    "\n",
    "from features import coord_to_postcode"
   ]
  },
  {
   "cell_type": "code",
   "execution_count": null,
   "metadata": {},
   "outputs": [],
   "source": [
    "df = pd.read_csv(\"../data/housing.csv\")\n",
    "df[\"income_cat\"] = pd.to_numeric(pd.cut(df[\"median_income\"], bins=[0.,1.5,3.0,4.5,6.,np.inf],labels=[1,2,3,4,5]), errors='coerce').astype('Int64')\n",
    "df[\"houseid\"]=df.index\n",
    "df = df.sample(10)"
   ]
  },
  {
   "cell_type": "code",
   "execution_count": null,
   "metadata": {},
   "outputs": [],
   "source": [
    "df[\"zipcode\"] = df.apply(lambda x : coord_to_postcode.coord2zipcode(x), axis = 1)\n",
    "df.drop([\"longitude\", \"latitude\"], axis=1, inplace=True)"
   ]
  },
  {
   "cell_type": "code",
   "execution_count": null,
   "metadata": {},
   "outputs": [],
   "source": [
    "os.environ['HOPSWORKS_PROJECT']=\"ondemad_feature\"\n",
    "os.environ['HOPSWORKS_HOST']=\"8c7943b0-a2d3-11ed-8cee-11db34df42ef.cloud.hopsworks.ai\"\n",
    "os.environ['HOPSWORKS_API_KEY']=\"rYKP15t4AHy0x9Xp.5EhDC1aatYdbm5JG4f8SCZzGTFXH254PVZ33BsiGjJ8KRU3vMifnGAU5idZWRLtP\""
   ]
  },
  {
   "cell_type": "code",
   "execution_count": null,
   "metadata": {},
   "outputs": [],
   "source": [
    "import hopsworks\n",
    "\n",
    "project = hopsworks.login()\n",
    "\n",
    "fs = project.get_feature_store()"
   ]
  },
  {
   "cell_type": "code",
   "execution_count": null,
   "metadata": {},
   "outputs": [],
   "source": [
    "profile_fg = fs.get_or_create_feature_group(\n",
    "    name=\"housing_fg\",\n",
    "    version=1,\n",
    "    description=\"housing data\",\n",
    "    primary_key = [\"houseid\"],\n",
    "    online_enabled=True\n",
    ")\n",
    "profile_fg.insert(df)"
   ]
  },
  {
   "cell_type": "code",
   "execution_count": null,
   "metadata": {},
   "outputs": [],
   "source": []
  }
 ],
 "metadata": {
  "kernelspec": {
   "display_name": "Python 3 (ipykernel)",
   "language": "python",
   "name": "python3"
  },
  "language_info": {
   "codemirror_mode": {
    "name": "ipython",
    "version": 3
   },
   "file_extension": ".py",
   "mimetype": "text/x-python",
   "name": "python",
   "nbconvert_exporter": "python",
   "pygments_lexer": "ipython3",
   "version": "3.8.16"
  }
 },
 "nbformat": 4,
 "nbformat_minor": 4
}
