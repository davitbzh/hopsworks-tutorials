{
 "cells": [
  {
   "cell_type": "code",
   "execution_count": 1,
   "metadata": {
    "_cell_guid": "b1076dfc-b9ad-4769-8c92-a6c4dae69d19",
    "_uuid": "8f2839f25d086af736a60e9eeb907d3b93b6e0e5"
   },
   "outputs": [],
   "source": [
    "import os\n",
    "import numpy as np\n",
    "import pandas as pd\n",
    "import matplotlib.pyplot as plt"
   ]
  },
  {
   "cell_type": "code",
   "execution_count": 8,
   "metadata": {},
   "outputs": [
    {
     "name": "stdout",
     "output_type": "stream",
     "text": [
      "/Users/davitbzhalava/opt/anaconda3/bin/python\n"
     ]
    }
   ],
   "source": [
    "!which python"
   ]
  },
  {
   "cell_type": "code",
   "execution_count": 7,
   "metadata": {},
   "outputs": [
    {
     "ename": "ModuleNotFoundError",
     "evalue": "No module named 'on_demand_feature'",
     "output_type": "error",
     "traceback": [
      "\u001b[0;31m---------------------------------------------------------------------------\u001b[0m",
      "\u001b[0;31mModuleNotFoundError\u001b[0m                       Traceback (most recent call last)",
      "Cell \u001b[0;32mIn[7], line 1\u001b[0m\n\u001b[0;32m----> 1\u001b[0m \u001b[38;5;28;01mfrom\u001b[39;00m \u001b[38;5;21;01mon_demand_feature\u001b[39;00m \u001b[38;5;28;01mimport\u001b[39;00m \u001b[38;5;241m*\u001b[39m\n\u001b[1;32m      2\u001b[0m \u001b[38;5;66;03m#from features import coord_to_postcode\u001b[39;00m\n\u001b[1;32m      3\u001b[0m \u001b[38;5;66;03m#from on_demand_feature import coord_to_postcode\u001b[39;00m\n",
      "\u001b[0;31mModuleNotFoundError\u001b[0m: No module named 'on_demand_feature'"
     ]
    }
   ],
   "source": [
    "from on_demand_feature import *\n",
    "#from features import coord_to_postcode\n",
    "#from on_demand_feature import coord_to_postcode"
   ]
  },
  {
   "cell_type": "raw",
   "metadata": {},
   "source": [
    "import geopy\n",
    "\n",
    "def get_zip_code(x):\n",
    "    geolocator = geopy.Nominatim(user_agent=\"check_1\")\n",
    "    location = geolocator.reverse(\"{}, {}\".format(x['latitude'],x['longitude']))\n",
    "    if 'address' in location.raw:\n",
    "        if 'postcode' in location.raw['address']:        \n",
    "            return int(location.raw['address']['postcode'])\n",
    "        else:\n",
    "            return 0\n",
    "    else:\n",
    "        return 0        \n",
    "\n",
    "df=pd.read_csv(\"../data/housing.csv\")\n",
    "df\n",
    "#df['ZIPCODE'] = df.apply(lambda x: get_zip_code(x), axis = 1)\n",
    "#df.to_csv(\"../data/housing_zip.csv\", index=False)\n",
    "\n",
    "inputs=[0, -122.23, 37.88]\n",
    "zipcode = get_zip_code({'longitude':inputs[1], 'latitude': inputs[2]})  "
   ]
  },
  {
   "cell_type": "code",
   "execution_count": 27,
   "metadata": {},
   "outputs": [],
   "source": [
    "df = pd.read_csv(\"../data/housing_zip.csv\")"
   ]
  },
  {
   "cell_type": "code",
   "execution_count": null,
   "metadata": {},
   "outputs": [],
   "source": [
    "df"
   ]
  },
  {
   "cell_type": "code",
   "execution_count": null,
   "metadata": {},
   "outputs": [],
   "source": [
    "df.drop(['longitude', 'latitude'], axis=1, inplace=True)"
   ]
  },
  {
   "cell_type": "code",
   "execution_count": null,
   "metadata": {},
   "outputs": [],
   "source": [
    "df"
   ]
  },
  {
   "cell_type": "code",
   "execution_count": null,
   "metadata": {},
   "outputs": [],
   "source": [
    "df.info()"
   ]
  },
  {
   "cell_type": "code",
   "execution_count": null,
   "metadata": {},
   "outputs": [],
   "source": [
    "df[\"ocean_proximity\"].value_counts()"
   ]
  },
  {
   "cell_type": "code",
   "execution_count": null,
   "metadata": {},
   "outputs": [],
   "source": [
    "df.describe()"
   ]
  },
  {
   "cell_type": "code",
   "execution_count": 29,
   "metadata": {},
   "outputs": [],
   "source": [
    "df[\"pk\"] = df.index"
   ]
  },
  {
   "cell_type": "code",
   "execution_count": 2,
   "metadata": {},
   "outputs": [],
   "source": [
    "os.environ['HOPSWORKS_PROJECT']=\"ondemand_feature\"\n",
    "os.environ['HOPSWORKS_HOST']=\"8c7943b0-a2d3-11ed-8cee-11db34df42ef.cloud.hopsworks.ai/\"\n",
    "os.environ['HOPSWORKS_API_KEY']=\"rYKP15t4AHy0x9Xp.5EhDC1aatYdbm5JG4f8SCZzGTFXH254PVZ33BsiGjJ8KRU3vMifnGAU5idZWRLtP\""
   ]
  },
  {
   "cell_type": "code",
   "execution_count": 3,
   "metadata": {},
   "outputs": [
    {
     "name": "stdout",
     "output_type": "stream",
     "text": [
      "Connected. Call `.close()` to terminate connection gracefully.\n",
      "\n",
      "Logged in to project, explore it here https://c102de60-a072-11ed-9946-b5c95dfcd005.cloud.hopsworks.ai:443/p/1144\n",
      "Connected. Call `.close()` to terminate connection gracefully.\n"
     ]
    }
   ],
   "source": [
    "import hopsworks\n",
    "\n",
    "project = hopsworks.login()\n",
    "\n",
    "fs = project.get_feature_store()"
   ]
  },
  {
   "cell_type": "code",
   "execution_count": null,
   "metadata": {},
   "outputs": [],
   "source": [
    "profile_fg = fs.get_or_create_feature_group(\n",
    "    name=\"housing_fg\",\n",
    "    version=1,\n",
    "    description=\"housing data\",\n",
    "    primary_key = [\"pk\"],\n",
    "    online_enabled=True\n",
    ")\n",
    "profile_fg.insert(df)"
   ]
  },
  {
   "cell_type": "code",
   "execution_count": null,
   "metadata": {},
   "outputs": [],
   "source": [
    "query = profile_fg.select_all()"
   ]
  },
  {
   "cell_type": "code",
   "execution_count": null,
   "metadata": {},
   "outputs": [],
   "source": [
    "# Load the transformation functions.\n",
    "label_encoder = fs.get_transformation_function(name=\"label_encoder\")\n",
    "\n",
    "# Map features to transformation functions.\n",
    "transformation_functions = {\n",
    "    \"ocean_proximity\": label_encoder,\n",
    "}"
   ]
  },
  {
   "cell_type": "code",
   "execution_count": null,
   "metadata": {},
   "outputs": [],
   "source": [
    "feature_view = fs.get_or_create_feature_view(\n",
    "    name='housing_fv',\n",
    "    version=1,\n",
    "    query=query,\n",
    "    transformation_functions=transformation_functions,\n",
    "    labels=[\"median_house_value\"],\n",
    ")"
   ]
  },
  {
   "cell_type": "code",
   "execution_count": null,
   "metadata": {},
   "outputs": [],
   "source": [
    "td_version, td_job = feature_view.create_train_test_split(\n",
    "    description = 'housing_training_dataset_random_splitted',\n",
    "    data_format = 'csv',\n",
    "    test_size = 0.3,\n",
    "    write_options = {'wait_for_job': False},\n",
    "    coalesce = True,\n",
    ")"
   ]
  },
  {
   "cell_type": "code",
   "execution_count": 7,
   "metadata": {},
   "outputs": [],
   "source": [
    "feature_view = fs.get_feature_view(\n",
    "    name='housing_fv',\n",
    "    version=1)\n"
   ]
  },
  {
   "cell_type": "code",
   "execution_count": 8,
   "metadata": {},
   "outputs": [],
   "source": [
    "train_x, test_x, train_y, test_y = feature_view.get_train_test_split(1)"
   ]
  },
  {
   "cell_type": "code",
   "execution_count": 9,
   "metadata": {},
   "outputs": [],
   "source": [
    "train_x.drop(\"pk\", axis=1, inplace=True)\n",
    "test_x.drop(\"pk\", axis=1, inplace=True)"
   ]
  },
  {
   "cell_type": "code",
   "execution_count": 10,
   "metadata": {},
   "outputs": [
    {
     "data": {
      "text/html": [
       "<div>\n",
       "<style scoped>\n",
       "    .dataframe tbody tr th:only-of-type {\n",
       "        vertical-align: middle;\n",
       "    }\n",
       "\n",
       "    .dataframe tbody tr th {\n",
       "        vertical-align: top;\n",
       "    }\n",
       "\n",
       "    .dataframe thead th {\n",
       "        text-align: right;\n",
       "    }\n",
       "</style>\n",
       "<table border=\"1\" class=\"dataframe\">\n",
       "  <thead>\n",
       "    <tr style=\"text-align: right;\">\n",
       "      <th></th>\n",
       "      <th>housing_median_age</th>\n",
       "      <th>total_rooms</th>\n",
       "      <th>total_bedrooms</th>\n",
       "      <th>population</th>\n",
       "      <th>households</th>\n",
       "      <th>median_income</th>\n",
       "      <th>ocean_proximity</th>\n",
       "      <th>zipcode</th>\n",
       "      <th>income_cat</th>\n",
       "    </tr>\n",
       "  </thead>\n",
       "  <tbody>\n",
       "    <tr>\n",
       "      <th>0</th>\n",
       "      <td>1.0</td>\n",
       "      <td>83.0</td>\n",
       "      <td>15.0</td>\n",
       "      <td>32.0</td>\n",
       "      <td>15.0</td>\n",
       "      <td>4.8750</td>\n",
       "      <td>0</td>\n",
       "      <td>93505</td>\n",
       "      <td>4</td>\n",
       "    </tr>\n",
       "    <tr>\n",
       "      <th>1</th>\n",
       "      <td>1.0</td>\n",
       "      <td>2062.0</td>\n",
       "      <td>343.0</td>\n",
       "      <td>872.0</td>\n",
       "      <td>268.0</td>\n",
       "      <td>5.2636</td>\n",
       "      <td>0</td>\n",
       "      <td>0</td>\n",
       "      <td>4</td>\n",
       "    </tr>\n",
       "    <tr>\n",
       "      <th>2</th>\n",
       "      <td>1.0</td>\n",
       "      <td>2254.0</td>\n",
       "      <td>328.0</td>\n",
       "      <td>402.0</td>\n",
       "      <td>112.0</td>\n",
       "      <td>4.2500</td>\n",
       "      <td>0</td>\n",
       "      <td>95357</td>\n",
       "      <td>3</td>\n",
       "    </tr>\n",
       "    <tr>\n",
       "      <th>3</th>\n",
       "      <td>2.0</td>\n",
       "      <td>96.0</td>\n",
       "      <td>18.0</td>\n",
       "      <td>30.0</td>\n",
       "      <td>16.0</td>\n",
       "      <td>5.3374</td>\n",
       "      <td>0</td>\n",
       "      <td>0</td>\n",
       "      <td>4</td>\n",
       "    </tr>\n",
       "    <tr>\n",
       "      <th>4</th>\n",
       "      <td>2.0</td>\n",
       "      <td>158.0</td>\n",
       "      <td>43.0</td>\n",
       "      <td>94.0</td>\n",
       "      <td>57.0</td>\n",
       "      <td>2.5625</td>\n",
       "      <td>1</td>\n",
       "      <td>94608</td>\n",
       "      <td>2</td>\n",
       "    </tr>\n",
       "    <tr>\n",
       "      <th>...</th>\n",
       "      <td>...</td>\n",
       "      <td>...</td>\n",
       "      <td>...</td>\n",
       "      <td>...</td>\n",
       "      <td>...</td>\n",
       "      <td>...</td>\n",
       "      <td>...</td>\n",
       "      <td>...</td>\n",
       "      <td>...</td>\n",
       "    </tr>\n",
       "    <tr>\n",
       "      <th>14279</th>\n",
       "      <td>52.0</td>\n",
       "      <td>4513.0</td>\n",
       "      <td>985.0</td>\n",
       "      <td>1926.0</td>\n",
       "      <td>815.0</td>\n",
       "      <td>1.5923</td>\n",
       "      <td>0</td>\n",
       "      <td>96025</td>\n",
       "      <td>2</td>\n",
       "    </tr>\n",
       "    <tr>\n",
       "      <th>14280</th>\n",
       "      <td>52.0</td>\n",
       "      <td>4985.0</td>\n",
       "      <td>1355.0</td>\n",
       "      <td>1848.0</td>\n",
       "      <td>1255.0</td>\n",
       "      <td>4.9211</td>\n",
       "      <td>1</td>\n",
       "      <td>90214</td>\n",
       "      <td>4</td>\n",
       "    </tr>\n",
       "    <tr>\n",
       "      <th>14281</th>\n",
       "      <td>52.0</td>\n",
       "      <td>5486.0</td>\n",
       "      <td>1044.0</td>\n",
       "      <td>1977.0</td>\n",
       "      <td>754.0</td>\n",
       "      <td>2.1833</td>\n",
       "      <td>0</td>\n",
       "      <td>0</td>\n",
       "      <td>2</td>\n",
       "    </tr>\n",
       "    <tr>\n",
       "      <th>14282</th>\n",
       "      <td>52.0</td>\n",
       "      <td>5783.0</td>\n",
       "      <td>2747.0</td>\n",
       "      <td>4518.0</td>\n",
       "      <td>2538.0</td>\n",
       "      <td>1.7240</td>\n",
       "      <td>1</td>\n",
       "      <td>94108</td>\n",
       "      <td>2</td>\n",
       "    </tr>\n",
       "    <tr>\n",
       "      <th>14283</th>\n",
       "      <td>52.0</td>\n",
       "      <td>6186.0</td>\n",
       "      <td>1566.0</td>\n",
       "      <td>2065.0</td>\n",
       "      <td>1374.0</td>\n",
       "      <td>5.8543</td>\n",
       "      <td>1</td>\n",
       "      <td>94115</td>\n",
       "      <td>4</td>\n",
       "    </tr>\n",
       "  </tbody>\n",
       "</table>\n",
       "<p>14284 rows × 9 columns</p>\n",
       "</div>"
      ],
      "text/plain": [
       "       housing_median_age  total_rooms  total_bedrooms  population  \\\n",
       "0                     1.0         83.0            15.0        32.0   \n",
       "1                     1.0       2062.0           343.0       872.0   \n",
       "2                     1.0       2254.0           328.0       402.0   \n",
       "3                     2.0         96.0            18.0        30.0   \n",
       "4                     2.0        158.0            43.0        94.0   \n",
       "...                   ...          ...             ...         ...   \n",
       "14279                52.0       4513.0           985.0      1926.0   \n",
       "14280                52.0       4985.0          1355.0      1848.0   \n",
       "14281                52.0       5486.0          1044.0      1977.0   \n",
       "14282                52.0       5783.0          2747.0      4518.0   \n",
       "14283                52.0       6186.0          1566.0      2065.0   \n",
       "\n",
       "       households  median_income  ocean_proximity  zipcode  income_cat  \n",
       "0            15.0         4.8750                0    93505           4  \n",
       "1           268.0         5.2636                0        0           4  \n",
       "2           112.0         4.2500                0    95357           3  \n",
       "3            16.0         5.3374                0        0           4  \n",
       "4            57.0         2.5625                1    94608           2  \n",
       "...           ...            ...              ...      ...         ...  \n",
       "14279       815.0         1.5923                0    96025           2  \n",
       "14280      1255.0         4.9211                1    90214           4  \n",
       "14281       754.0         2.1833                0        0           2  \n",
       "14282      2538.0         1.7240                1    94108           2  \n",
       "14283      1374.0         5.8543                1    94115           4  \n",
       "\n",
       "[14284 rows x 9 columns]"
      ]
     },
     "execution_count": 10,
     "metadata": {},
     "output_type": "execute_result"
    }
   ],
   "source": [
    "train_x"
   ]
  },
  {
   "cell_type": "code",
   "execution_count": 11,
   "metadata": {},
   "outputs": [
    {
     "data": {
      "text/plain": [
       "XGBRegressor(base_score=None, booster=None, callbacks=None,\n",
       "             colsample_bylevel=None, colsample_bynode=None,\n",
       "             colsample_bytree=None, early_stopping_rounds=None,\n",
       "             enable_categorical=False, eval_metric=None, feature_types=None,\n",
       "             gamma=None, gpu_id=None, grow_policy=None, importance_type=None,\n",
       "             interaction_constraints=None, learning_rate=None, max_bin=None,\n",
       "             max_cat_threshold=None, max_cat_to_onehot=None,\n",
       "             max_delta_step=None, max_depth=None, max_leaves=None,\n",
       "             min_child_weight=None, missing=nan, monotone_constraints=None,\n",
       "             n_estimators=100, n_jobs=None, num_parallel_tree=None,\n",
       "             predictor=None, random_state=None, ...)"
      ]
     },
     "execution_count": 11,
     "metadata": {},
     "output_type": "execute_result"
    }
   ],
   "source": [
    "import numpy as np\n",
    "import xgboost as xgb\n",
    "\n",
    "clf = xgb.XGBRegressor(verbosity=0)\n",
    "\n",
    "clf.fit(train_x, train_y)"
   ]
  },
  {
   "cell_type": "code",
   "execution_count": 12,
   "metadata": {},
   "outputs": [
    {
     "name": "stdout",
     "output_type": "stream",
     "text": [
      "Connected. Call `.close()` to terminate connection gracefully.\n"
     ]
    }
   ],
   "source": [
    "mr = project.get_model_registry()"
   ]
  },
  {
   "cell_type": "code",
   "execution_count": 13,
   "metadata": {},
   "outputs": [
    {
     "data": {
      "application/vnd.jupyter.widget-view+json": {
       "model_id": "5821856cb6424e049d391bd9303b86dc",
       "version_major": 2,
       "version_minor": 0
      },
      "text/plain": [
       "  0%|          | 0/6 [00:00<?, ?it/s]"
      ]
     },
     "metadata": {},
     "output_type": "display_data"
    },
    {
     "name": "stdout",
     "output_type": "stream",
     "text": [
      "Model created, explore it at https://c102de60-a072-11ed-9946-b5c95dfcd005.cloud.hopsworks.ai:443/p/1144/models/hausingmodel/1\n"
     ]
    },
    {
     "data": {
      "text/plain": [
       "Model(name: 'hausingmodel', version: 1)"
      ]
     },
     "execution_count": 13,
     "metadata": {},
     "output_type": "execute_result"
    }
   ],
   "source": [
    "import joblib\n",
    "from hsml.schema import Schema\n",
    "from hsml.model_schema import ModelSchema\n",
    "\n",
    "model_dir=\"hausing_model\"\n",
    "if os.path.isdir(model_dir) == False:\n",
    "    os.mkdir(model_dir)\n",
    "\n",
    "pkl_file_name = model_dir + '/hausing_model.pkl'\n",
    "\n",
    "joblib.dump(clf, pkl_file_name)\n",
    "\n",
    "input_schema = Schema(train_x)\n",
    "output_schema = Schema(train_y)\n",
    "model_schema = ModelSchema(input_schema=input_schema, output_schema=output_schema)\n",
    "\n",
    "\n",
    "model = mr.python.create_model(\n",
    "    name=\"hausingmodel\",\n",
    "    description = \"hausing Model\",\n",
    "    input_example = train_x.sample(),\n",
    "    model_schema = model_schema\n",
    ")\n",
    "\n",
    "model.save(pkl_file_name)\n"
   ]
  },
  {
   "cell_type": "code",
   "execution_count": null,
   "metadata": {},
   "outputs": [],
   "source": []
  },
  {
   "cell_type": "raw",
   "metadata": {},
   "source": [
    "\n",
    "feature_view = fs.get_feature_view(\n",
    "    name='housing_fv',\n",
    "    version=1)\n",
    "\n",
    "inputs = [4, -122.25, 37.85]\n",
    "zipcode = get_zip_code({'longitude':inputs[1], 'latitude': inputs[2]})        \n",
    "feature_vector = feature_view.get_feature_vector({\"pk\": inputs[0]}, passed_features={\"zipcode\": zipcode})\n",
    "feature_vector\n",
    "\n",
    "indexes_to_remove = [9]\n",
    "[i for j, i in enumerate(feature_vector) if j not in indexes_to_remove]\n",
    "\n",
    "\n",
    "feature_view = fs.get_feature_view(\n",
    "    name='housing_fv',\n",
    "    version=1)\n",
    "\n",
    "mr = project.get_model_registry()\n",
    "model = mr.get_model(name=\"hausingmodel\",version=1)\n",
    "\n",
    "import joblib\n",
    "model = joblib.load(\"hausing_model/hausing_model.pkl\")\n",
    "model.predict(np.asarray(feature_vector).reshape(1, -1))"
   ]
  },
  {
   "cell_type": "code",
   "execution_count": null,
   "metadata": {},
   "outputs": [],
   "source": []
  },
  {
   "cell_type": "code",
   "execution_count": 15,
   "metadata": {},
   "outputs": [
    {
     "name": "stdout",
     "output_type": "stream",
     "text": [
      "Overwriting predict_example.py\n"
     ]
    }
   ],
   "source": [
    "%%writefile predict_example.py\n",
    "import os\n",
    "import numpy as np\n",
    "import hsfs\n",
    "import joblib\n",
    "import geopy\n",
    "\n",
    "def get_zip_code(x):\n",
    "        geolocator = geopy.Nominatim(user_agent=\"check_1\")\n",
    "        location = geolocator.reverse(\"{}, {}\".format(x['latitude'],x['longitude']))\n",
    "        if 'address' in location.raw:\n",
    "            if 'postcode' in location.raw['address']:        \n",
    "                return int(location.raw['address']['postcode'])\n",
    "            else:\n",
    "                return 0\n",
    "        else:\n",
    "            return 0  \n",
    "\n",
    "class Predict(object):      \n",
    "\n",
    "    def __init__(self):\n",
    "        \"\"\" Initializes the serving state, reads a trained model\"\"\"        \n",
    "        # get feature store handle\n",
    "        fs_conn = hsfs.connection()\n",
    "        self.fs = fs_conn.get_feature_store()\n",
    "        \n",
    "        # get feature views\n",
    "        self.fv = self.fs.get_feature_view(\"housing_fv\", 1)\n",
    "        \n",
    "        # initialise serving\n",
    "        self.fv.init_serving(1)\n",
    "\n",
    "        # load the trained model\n",
    "        self.model = joblib.load(os.environ[\"ARTIFACT_FILES_PATH\"] + \"/hausing_model.pkl\")\n",
    "        print(\"Initialization Complete\")\n",
    "\n",
    "    def predict(self, inputs):\n",
    "        \"\"\" Serves a prediction request usign a trained model\"\"\"\n",
    "        zipcode = get_zip_code({'longitude':inputs[1], 'latitude': inputs[2]})        \n",
    "        feature_vector = self.fv.get_feature_vector({\"pk\": inputs[0]}, passed_features={\"zipcode\": zipcode})\n",
    "        indexes_to_remove = [9]\n",
    "        feature_vector = [i for j, i in enumerate(feature_vector) if j not in indexes_to_remove]\n",
    "        \n",
    "        return self.model.predict(np.asarray(feature_vector).reshape(1, -1)).tolist() # Numpy Arrays are not JSON serializable\n"
   ]
  },
  {
   "cell_type": "code",
   "execution_count": null,
   "metadata": {},
   "outputs": [],
   "source": []
  },
  {
   "cell_type": "code",
   "execution_count": 16,
   "metadata": {},
   "outputs": [
    {
     "data": {
      "application/vnd.jupyter.widget-view+json": {
       "model_id": "ab53727ba5344b9d9c11d06ae90cbf12",
       "version_major": 2,
       "version_minor": 0
      },
      "text/plain": [
       "Uploading: 0.000%|          | 0/1617 elapsed<00:00 remaining<?"
      ]
     },
     "metadata": {},
     "output_type": "display_data"
    }
   ],
   "source": [
    "import os\n",
    "dataset_api = project.get_dataset_api()\n",
    "\n",
    "uploaded_file_path = dataset_api.upload(\"predict_example.py\", \"Models\", overwrite=True)\n",
    "predictor_script_path = os.path.join(\"/Projects\", project.name, uploaded_file_path)\n"
   ]
  },
  {
   "cell_type": "code",
   "execution_count": null,
   "metadata": {},
   "outputs": [],
   "source": []
  },
  {
   "cell_type": "code",
   "execution_count": 18,
   "metadata": {},
   "outputs": [
    {
     "name": "stdout",
     "output_type": "stream",
     "text": [
      "Connected. Call `.close()` to terminate connection gracefully.\n",
      "Connected. Call `.close()` to terminate connection gracefully.\n",
      "Deployment created, explore it at https://c102de60-a072-11ed-9946-b5c95dfcd005.cloud.hopsworks.ai:443/p/1144/deployments/6\n",
      "Before making predictions, start the deployment by using `.start()`\n"
     ]
    }
   ],
   "source": [
    "mr = project.get_model_registry()\n",
    "model = mr.get_model(name=\"hausingmodel\",version=1)\n",
    "\n",
    "try:\n",
    "    ms = project.get_model_serving()\n",
    "    deployment = ms.get_deployment(\"hausingmodeldeployment\")\n",
    "except:\n",
    "    deployment = model.deploy(\n",
    "        name=\"hausingmodeldeployment\", \n",
    "        serving_tool=\"KSERVE\",\n",
    "        script_file=predictor_script_path\n",
    "    )"
   ]
  },
  {
   "cell_type": "code",
   "execution_count": null,
   "metadata": {},
   "outputs": [],
   "source": []
  },
  {
   "cell_type": "code",
   "execution_count": 20,
   "metadata": {},
   "outputs": [
    {
     "name": "stdout",
     "output_type": "stream",
     "text": [
      "Deployment is in failed state. Failed to be scheduled: 0/1 nodes are available: 1 Insufficient cpu.\n",
      "{\n",
      "    \"artifact_version\": 1,\n",
      "    \"batching_configuration\": {\n",
      "        \"batching_enabled\": false\n",
      "    },\n",
      "    \"created\": \"2023-02-01T22:51:38.862Z\",\n",
      "    \"creator\": \"Davit Bzhalava\",\n",
      "    \"description\": null,\n",
      "    \"id\": 6,\n",
      "    \"inference_logging\": \"NONE\",\n",
      "    \"model_framework\": \"PYTHON\",\n",
      "    \"model_name\": \"hausingmodel\",\n",
      "    \"model_path\": \"/Projects/ondemand_feature_2/Models/hausingmodel\",\n",
      "    \"model_server\": \"PYTHON\",\n",
      "    \"model_version\": 1,\n",
      "    \"name\": \"hausingmodeldeployment\",\n",
      "    \"predictor\": \"predict_example.py\",\n",
      "    \"predictor_resources\": {\n",
      "        \"limits\": {\n",
      "            \"cores\": 0.5,\n",
      "            \"gpus\": 0,\n",
      "            \"memory\": 1024\n",
      "        },\n",
      "        \"requests\": {\n",
      "            \"cores\": 0.2,\n",
      "            \"gpus\": 0,\n",
      "            \"memory\": 32\n",
      "        }\n",
      "    },\n",
      "    \"requested_instances\": 0,\n",
      "    \"serving_tool\": \"KSERVE\"\n",
      "}\n"
     ]
    }
   ],
   "source": [
    "state = deployment.get_state()\n",
    "\n",
    "if state.status != \"Running\":\n",
    "    deployment.start()\n",
    "    deployment.describe()\n",
    "else:\n",
    "    print(\"Deployment already running\")"
   ]
  },
  {
   "cell_type": "code",
   "execution_count": 23,
   "metadata": {},
   "outputs": [
    {
     "data": {
      "text/plain": [
       "PredictorState(status: 'Idle')"
      ]
     },
     "execution_count": 23,
     "metadata": {},
     "output_type": "execute_result"
    }
   ],
   "source": [
    "deployment.get_state()"
   ]
  },
  {
   "cell_type": "code",
   "execution_count": null,
   "metadata": {},
   "outputs": [],
   "source": []
  },
  {
   "cell_type": "code",
   "execution_count": 43,
   "metadata": {},
   "outputs": [
    {
     "data": {
      "text/plain": [
       "[0.0, -122.23, 37.88]"
      ]
     },
     "execution_count": 43,
     "metadata": {},
     "output_type": "execute_result"
    }
   ],
   "source": []
  },
  {
   "cell_type": "code",
   "execution_count": null,
   "metadata": {},
   "outputs": [],
   "source": [
    "for inputs in df[[\"pk\", \"longitude\", \"latitude\"]].values:\n",
    "    data = {\n",
    "        \"inputs\": inputs.tolist()\n",
    "    }\n",
    "\n",
    "    deployment.predict(data)"
   ]
  },
  {
   "cell_type": "code",
   "execution_count": null,
   "metadata": {},
   "outputs": [],
   "source": []
  },
  {
   "cell_type": "code",
   "execution_count": null,
   "metadata": {},
   "outputs": [],
   "source": []
  }
 ],
 "metadata": {
  "kernelspec": {
   "display_name": "Python 3 (ipykernel)",
   "language": "python",
   "name": "python3"
  },
  "language_info": {
   "codemirror_mode": {
    "name": "ipython",
    "version": 3
   },
   "file_extension": ".py",
   "mimetype": "text/x-python",
   "name": "python",
   "nbconvert_exporter": "python",
   "pygments_lexer": "ipython3",
   "version": "3.8.16"
  }
 },
 "nbformat": 4,
 "nbformat_minor": 4
}
