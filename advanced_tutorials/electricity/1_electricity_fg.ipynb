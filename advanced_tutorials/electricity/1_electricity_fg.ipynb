{
 "cells": [
  {
   "cell_type": "markdown",
   "id": "b53c84dc",
   "metadata": {},
   "source": [
    "\n",
    "\n",
    "# <span style=\"color:#ff5f27;\"> 🧑🏻‍🏫 Great Expectations </span>\n",
    "\n",
    "\n",
    "Great Expectations is the leading tool for validating, documenting, and profiling your data to maintain quality and improve communication between teams. Head over to our getting started tutorial.\n",
    "\n",
    "Software developers have long known that automated testing is essential for managing complex codebases. Great Expectations brings the same discipline, confidence, and acceleration to data science and data engineering teams.\n",
    "\n",
    "With Great Expectations, you can assert what you expect from the data you load and transform, and catch data issues quickly – Expectations are basically unit tests for your data. Not only that, but Great Expectations also creates data documentation and data quality reports from those Expectations.\n",
    "\n",
    "To begin with, let's install `great_expectations` library."
   ]
  },
  {
   "cell_type": "code",
   "execution_count": null,
   "id": "3e5e8ebd",
   "metadata": {},
   "outputs": [],
   "source": [
    "!pip install great_expectations -U -qqq"
   ]
  },
  {
   "cell_type": "markdown",
   "id": "cf0616be",
   "metadata": {},
   "source": [
    "Then - import `great_expectations` library and define `ExpectationSuite`\n",
    "\n",
    "- `Expectations` are the workhorse abstraction in Great Expectations. Each Expectation is a declarative, machine-verifiable assertion about the expected format, content, or behavior of your data. Great Expectations comes with dozens of built-in Expectations, and it’s possible to develop your own custom Expectations, too.\n",
    "\n",
    "- `ExpectationSuite` - a collection of `Expectations` about data which you will use when you **Validate** data.\n",
    "\n",
    "Then create `Expectations`.\n",
    "\n",
    "You can create them using `ge.core.ExpectationConfiguration()` function with next parameters:\n",
    "\n",
    "- **expectation_type** - specify the [name of expectations](https://greatexpectations.io/expectations/) you need.\n",
    "\n",
    "- **kwargs** - specify keyword arguments of this Expectation Type.\n",
    "\n",
    "Then you should add some expectation to your suite to validate columns.\n",
    "\n",
    "You can do it by using `expectation_suite.add_expectation()` method."
   ]
  },
  {
   "cell_type": "markdown",
   "id": "2b5c193a",
   "metadata": {},
   "source": [
    "## <span style=\"color:#ff5f27;\"> 📝 Imports</span>"
   ]
  },
  {
   "cell_type": "code",
   "execution_count": null,
   "id": "07f76c55",
   "metadata": {},
   "outputs": [],
   "source": [
    "import pandas as pd\n",
    "import numpy as np\n",
    "import random\n",
    "from datetime import datetime\n",
    "\n",
    "import matplotlib.pyplot as plt\n",
    "\n",
    "import warnings\n",
    "warnings.filterwarnings('ignore')"
   ]
  },
  {
   "cell_type": "markdown",
   "id": "6eb829ee",
   "metadata": {},
   "source": [
    "## <span style=\"color:#ff5f27;\"> 🔮 Connecting to Hopsworks Feature Store </span>"
   ]
  },
  {
   "cell_type": "code",
   "execution_count": null,
   "id": "acfd1e6f",
   "metadata": {},
   "outputs": [],
   "source": [
    "import hopsworks\n",
    "\n",
    "project = hopsworks.login()\n",
    "\n",
    "fs = project.get_feature_store() "
   ]
  },
  {
   "cell_type": "markdown",
   "id": "d152fc25",
   "metadata": {},
   "source": [
    "## <span style=\"color:#ff5f27;\">🧑🏻‍🏫 Functions</span>"
   ]
  },
  {
   "cell_type": "code",
   "execution_count": null,
   "id": "c73b4d9e",
   "metadata": {},
   "outputs": [],
   "source": [
    "def get_data(data_path):\n",
    "    df = pd.read_csv(data_path,\n",
    "        index_col = 0,\n",
    "        parse_dates = ['date']\n",
    "    ).dropna()\n",
    "    return df    \n",
    "\n",
    "\n",
    "def timestamp_2_time(x):\n",
    "    dt_obj = datetime.strptime(str(x), '%Y-%m-%d %H:%M:%S')\n",
    "    dt_obj = dt_obj.timestamp() * 1000\n",
    "    return dt_obj\n",
    "\n",
    "\n",
    "def to_date(unix):\n",
    "    return datetime.utcfromtimestamp(unix / 1000).strftime('%Y-%m-%d %H:%M:%S')\n",
    "\n",
    "\n",
    "def feature_engineering(df):\n",
    "    windows = [7,14,30]\n",
    "    for window in windows:\n",
    "        df[f'demand_{window}_mean'] = df.demand.rolling(window = window).mean()\n",
    "        df[f'demand_{window}_std'] = df.demand.rolling(window = window).std()\n",
    "    if type(df.date[0]) != np.int64:\n",
    "        df.date = df.date.apply(lambda x: timestamp_2_time(str(x)[:19])).astype(np.int64)\n",
    "    df.dropna(inplace=True)\n",
    "    return df\n",
    "\n",
    "\n",
    "def create_feature_group(data = None,name='electricity_fg',fs=fs):\n",
    "    import great_expectations as ge\n",
    "    \n",
    "    expectation_suite = ge.core.ExpectationSuite(\n",
    "        expectation_suite_name=\"Expectation Suite for Electricity Feature Group\"\n",
    "    )\n",
    "    expectation = ge.core.ExpectationConfiguration(\n",
    "        expectation_type=\"expect_column_values_to_not_be_null\",\n",
    "        kwargs={\n",
    "             \"column\": \"date\",\n",
    "             \"mostly\": 1.0\n",
    "         }\n",
    "    )\n",
    "    expectation_suite.add_expectation(expectation)\n",
    "    \n",
    "    feature_group = fs.get_or_create_feature_group(\n",
    "        name=name,\n",
    "        description = 'Daily Electricity Price and Demand',\n",
    "        version = 1,\n",
    "        primary_key = ['index'],\n",
    "        online_enabled = True,\n",
    "        event_time = ['date'],\n",
    "        expectation_suite=expectation_suite\n",
    "    )\n",
    "        \n",
    "    feature_group.insert(data.reset_index())\n",
    "    \n",
    "    return feature_group\n",
    "\n",
    "\n",
    "def retrieve_feature_group(name='electricity_fg',fs=fs):\n",
    "    feature_group = fs.get_feature_group(\n",
    "        name=name,\n",
    "        version=1\n",
    "    )\n",
    "    return feature_group"
   ]
  },
  {
   "cell_type": "markdown",
   "id": "f7eb00e5",
   "metadata": {},
   "source": [
    "## <span style=\"color:#ff5f27;\">🪄 👩🏻‍🔬 Retrieving or Creating Feature Group</span>"
   ]
  },
  {
   "cell_type": "code",
   "execution_count": null,
   "id": "f60cea6d",
   "metadata": {},
   "outputs": [],
   "source": [
    "try:\n",
    "    feature_group = retrieve_feature_group()\n",
    "    df_electricity = feature_group.read()\n",
    "    df_electricity.sort_values('date',inplace=True)\n",
    "    indexes = df_electricity.pop('index')\n",
    "    \n",
    "except: \n",
    "    DATA_PATH = './data/electricity.csv'\n",
    "    \n",
    "    df_electricity = get_data(DATA_PATH)\n",
    "    feature_engineering(df_electricity)\n",
    "    \n",
    "    feature_group = create_feature_group(df_electricity)"
   ]
  },
  {
   "cell_type": "code",
   "execution_count": null,
   "id": "a46eb8da",
   "metadata": {},
   "outputs": [],
   "source": [
    "df_electricity.head()"
   ]
  },
  {
   "cell_type": "markdown",
   "id": "ec07441b",
   "metadata": {},
   "source": [
    "## <span style=\"color:#ff5f27;\">🕵🏻‍♂️ Data Exploration</span>"
   ]
  },
  {
   "cell_type": "code",
   "execution_count": null,
   "id": "35d56fd4",
   "metadata": {},
   "outputs": [],
   "source": [
    "fig,ax = plt.subplots(figsize = (16,6))\n",
    "\n",
    "df_electricity.plot('date','demand', ax = ax)\n",
    "\n",
    "ax.set_xlabel('Date',fontsize = 15)\n",
    "ax.set_ylabel('Demand MWh',fontsize = 15)\n",
    "ax.set_title('Daily electricity demand from January 2015 to October 2020',fontsize = 20)\n",
    "\n",
    "plt.show()"
   ]
  },
  {
   "cell_type": "code",
   "execution_count": null,
   "id": "95830e2b",
   "metadata": {},
   "outputs": [],
   "source": [
    "fig,ax = plt.subplots(figsize = (16,6))\n",
    "\n",
    "try:\n",
    "    df_electricity.plot('date','RRP', ax = ax)\n",
    "except:\n",
    "    df_electricity.plot('date','rrp', ax = ax)\n",
    "    \n",
    "ax.set_xlabel('Date',fontsize = 15)\n",
    "ax.set_ylabel('Price in AUD$/MWh',fontsize = 15)\n",
    "ax.set_title('Daily price in AUD$/MWh from January 2015 to October 2020',fontsize = 20)\n",
    "\n",
    "plt.yscale(\"log\")\n",
    "plt.show()"
   ]
  },
  {
   "cell_type": "markdown",
   "id": "0b6f729a",
   "metadata": {},
   "source": [
    "## <span style=\"color:#ff5f27;\">🧬 Data Generation</span>"
   ]
  },
  {
   "cell_type": "code",
   "execution_count": null,
   "id": "84fbe4a6",
   "metadata": {},
   "outputs": [],
   "source": [
    "def get_statistics(feature):\n",
    "    mean = feature.mean()\n",
    "    lower_value,upper_value = mean - feature.std() * 3,mean + feature.std() * 3\n",
    "    return lower_value,upper_value"
   ]
  },
  {
   "cell_type": "code",
   "execution_count": null,
   "id": "6d245aca",
   "metadata": {},
   "outputs": [],
   "source": [
    "statistics = {col:get_statistics(df_electricity[col]) for col in df_electricity.columns[1:]}\n",
    "\n",
    "date_window = 24*60*60*1000"
   ]
  },
  {
   "cell_type": "code",
   "execution_count": null,
   "id": "71d7a83d",
   "metadata": {},
   "outputs": [],
   "source": [
    "def generate_observation(statistics):\n",
    "    return [round(random.uniform(lower_value, upper_value),1) for lower_value, upper_value in statistics.values()]\n",
    "\n",
    "def generate_data(df,amount = 1,date_window = date_window,statistics=statistics):\n",
    "    df_last = df.sort_values('date').date.iloc[-1]\n",
    "    df_generated = pd.DataFrame(columns = ['date',*statistics.keys()])\n",
    "    for i in range(1, amount + 1):\n",
    "        df_generated.loc[len(df_generated)] = [df_last + date_window * i,*generate_observation(statistics)]\n",
    "    return df_generated.astype({'date':int})\n",
    "\n",
    "def append_generated_data(df,amount = 1,date_window = date_window,statistics=statistics):\n",
    "    df_last = df.sort_values('date').date.iloc[-1]\n",
    "    for i in range(1, amount + 1):\n",
    "        df.loc[len(df)] = [df_last + date_window,*generate_observation(statistics)]\n",
    "    df.date = df.date.apply(int)\n",
    "    return df"
   ]
  },
  {
   "cell_type": "code",
   "execution_count": null,
   "id": "4ae46682",
   "metadata": {},
   "outputs": [],
   "source": [
    "append_generated_data(df_electricity,50)\n",
    "\n",
    "df_electricity.tail()"
   ]
  },
  {
   "cell_type": "markdown",
   "id": "198ccca2",
   "metadata": {},
   "source": [
    "## <span style=\"color:#ff5f27;\">👩🏻‍⚖️ 🪄 Validation and Insertion of Generated Data</span>"
   ]
  },
  {
   "cell_type": "code",
   "execution_count": null,
   "id": "86b5ce71",
   "metadata": {},
   "outputs": [],
   "source": [
    "def add_indexes(df,indexes=None):\n",
    "    if indexes is None:\n",
    "        return df.reset_index()\n",
    "    df.reset_index(inplace = True)\n",
    "    df['index'] = df['index'] + indexes.max() + 1\n",
    "    return df"
   ]
  },
  {
   "cell_type": "code",
   "execution_count": null,
   "id": "67bb6e2c",
   "metadata": {},
   "outputs": [],
   "source": [
    "generated_data = generate_data(df_electricity,50)\n",
    "feature_engineering(generated_data)\n",
    "\n",
    "try: \n",
    "    generated_data = add_indexes(generated_data,indexes)\n",
    "except:\n",
    "    generated_data = add_indexes(generated_data)\n",
    "\n",
    "generated_data.head()"
   ]
  },
  {
   "cell_type": "code",
   "execution_count": null,
   "id": "651c1e8f",
   "metadata": {},
   "outputs": [],
   "source": [
    "feature_group.insert(generated_data)"
   ]
  }
 ],
 "metadata": {
  "kernelspec": {
   "display_name": "Python 3 (ipykernel)",
   "language": "python",
   "name": "python3"
  },
  "language_info": {
   "codemirror_mode": {
    "name": "ipython",
    "version": 3
   },
   "file_extension": ".py",
   "mimetype": "text/x-python",
   "name": "python",
   "nbconvert_exporter": "python",
   "pygments_lexer": "ipython3",
   "version": "3.9.12"
  },
  "vscode": {
   "interpreter": {
    "hash": "190ea7959a836f4799545ea0f3718ade3abee093b15861ffdc25233d6ab7050e"
   }
  }
 },
 "nbformat": 4,
 "nbformat_minor": 5
}
