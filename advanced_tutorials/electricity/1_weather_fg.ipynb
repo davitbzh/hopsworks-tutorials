{
 "cells": [
  {
   "cell_type": "markdown",
   "id": "f5bdfb30",
   "metadata": {},
   "source": [
    "## <span style=\"color:#ff5f27;\"> 📝 Imports</span>"
   ]
  },
  {
   "cell_type": "code",
   "execution_count": null,
   "id": "57f74788",
   "metadata": {},
   "outputs": [],
   "source": [
    "import pandas as pd\n",
    "import numpy as np\n",
    "import random\n",
    "from datetime import datetime\n",
    "\n",
    "import matplotlib.pyplot as plt\n",
    "\n",
    "import warnings\n",
    "warnings.filterwarnings('ignore')"
   ]
  },
  {
   "cell_type": "markdown",
   "id": "f4680a7c",
   "metadata": {},
   "source": [
    "## <span style=\"color:#ff5f27;\"> 🔮 Connecting to Hopsworks Feature Store </span>"
   ]
  },
  {
   "cell_type": "code",
   "execution_count": null,
   "id": "a6461309",
   "metadata": {},
   "outputs": [],
   "source": [
    "import hopsworks\n",
    "\n",
    "project = hopsworks.login()\n",
    "\n",
    "fs = project.get_feature_store() "
   ]
  },
  {
   "cell_type": "markdown",
   "id": "1265c270",
   "metadata": {},
   "source": [
    "## <span style=\"color:#ff5f27;\">🧑🏻‍🏫 Functions</span>"
   ]
  },
  {
   "cell_type": "code",
   "execution_count": null,
   "id": "1e583f8d",
   "metadata": {},
   "outputs": [],
   "source": [
    "def get_data(data_path):\n",
    "    df = pd.read_csv(data_path,\n",
    "        index_col = 0,\n",
    "        parse_dates = ['date']\n",
    "    ).dropna()\n",
    "    \n",
    "    return df    \n",
    "\n",
    "def timestamp_2_time(x):\n",
    "    dt_obj = datetime.strptime(str(x), '%Y-%m-%d %H:%M:%S')\n",
    "    dt_obj = dt_obj.timestamp() * 1000\n",
    "    return dt_obj\n",
    "\n",
    "def to_date(unix):\n",
    "    return datetime.utcfromtimestamp(unix / 1000).strftime('%Y-%m-%d %H:%M:%S')\n",
    "\n",
    "def feature_engineering(df):\n",
    "    if type(df.date[0]) == np.int64:\n",
    "        df.date = pd.to_datetime(df.date.apply(to_date))\n",
    "    df['day_of_week'] = df.date.dt.dayofweek\n",
    "    df['day_of_month'] = df.date.dt.day\n",
    "    df['day_of_year'] = df.date.dt.dayofyear\n",
    "    df['week_of_year'] = df.date.dt.weekofyear\n",
    "    df['month'] = df.date.dt.month\n",
    "    df['quarter'] = df.date.dt.quarter\n",
    "    df['year'] = df.date.dt.year\n",
    "    df.date = df.date.apply(lambda x: timestamp_2_time(str(x)[:19])).astype(np.int64)\n",
    "    \n",
    "    return df\n",
    "\n",
    "\n",
    "def create_feature_group(data = None,name='weather_fg',fs=fs):\n",
    "    import great_expectations as ge\n",
    "    \n",
    "    expectation_suite = ge.core.ExpectationSuite(\n",
    "        expectation_suite_name=\"Expectation Suite for Weather Feature Group\"\n",
    "    )\n",
    "    \n",
    "    expectation = ge.core.ExpectationConfiguration(\n",
    "        expectation_type=\"expect_column_max_to_be_between\",\n",
    "        kwargs={\n",
    "            \"column\": \"min_temperature\",\n",
    "            \"min_value\": -30,\n",
    "            \"max_value\": 30\n",
    "        }\n",
    "    )\n",
    "    expectation_suite.add_expectation(expectation)\n",
    "    \n",
    "    feature_group = fs.get_or_create_feature_group(\n",
    "        name=name,\n",
    "        description = 'Daily weather conditions',\n",
    "        version = 1,\n",
    "        primary_key = ['index'],\n",
    "        online_enabled = True,\n",
    "        event_time = ['date'],\n",
    "        expectation_suite=expectation_suite\n",
    "    )\n",
    "        \n",
    "    feature_group.insert(data.reset_index())\n",
    "    \n",
    "    return feature_group\n",
    "\n",
    "\n",
    "def retrieve_feature_group(name='weather_fg',fs=fs):\n",
    "    feature_group = fs.get_feature_group(\n",
    "        name=name,\n",
    "        version=1\n",
    "    )\n",
    "    return feature_group"
   ]
  },
  {
   "cell_type": "markdown",
   "id": "7de1841f",
   "metadata": {},
   "source": [
    "## <span style=\"color:#ff5f27;\">🪄 👩🏻‍🔬 Retrieving or Creating Feature Group</span>"
   ]
  },
  {
   "cell_type": "code",
   "execution_count": null,
   "id": "fb4b3928",
   "metadata": {},
   "outputs": [],
   "source": [
    "try:\n",
    "    feature_group = retrieve_feature_group()\n",
    "    df_weather = feature_group.read()\n",
    "    indexes = df_weather.pop('index')\n",
    "    \n",
    "except: \n",
    "    DATA_PATH = './data/weather.csv'\n",
    "    \n",
    "    df_weather = get_data(DATA_PATH)\n",
    "    feature_engineering(df_weather)\n",
    "    \n",
    "    feature_group = create_feature_group(df_weather)"
   ]
  },
  {
   "cell_type": "code",
   "execution_count": null,
   "id": "d6d5db85",
   "metadata": {},
   "outputs": [],
   "source": [
    "df_weather.head()"
   ]
  },
  {
   "cell_type": "markdown",
   "id": "ff3388ca",
   "metadata": {},
   "source": [
    "## <span style=\"color:#ff5f27;\">🕵🏻‍♂️ Data Exploration</span>"
   ]
  },
  {
   "cell_type": "code",
   "execution_count": null,
   "id": "8936ef0c",
   "metadata": {},
   "outputs": [],
   "source": [
    "fig,ax = plt.subplots(figsize = (16,6))\n",
    "\n",
    "df_plot = df_weather.sort_values('date')\n",
    "df_plot.date = df_plot.date.apply(to_date)\n",
    "\n",
    "df_plot.plot('date','min_temperature', ax = ax)\n",
    "df_plot.plot('date','max_temperature', ax = ax)\n",
    "\n",
    "ax.set_xlabel('Date',fontsize = 15)\n",
    "ax.set_ylabel('Temperature in Celsius',fontsize = 15)\n",
    "ax.set_title('Daily min and max temperature from January 2015 to October 2020',fontsize = 20)\n",
    "\n",
    "plt.show()"
   ]
  },
  {
   "cell_type": "markdown",
   "id": "855bbee8",
   "metadata": {},
   "source": [
    "## <span style=\"color:#ff5f27;\">🧬 Data Generation</span>"
   ]
  },
  {
   "cell_type": "code",
   "execution_count": null,
   "id": "b5474898",
   "metadata": {},
   "outputs": [],
   "source": [
    "def get_statistics(feature):\n",
    "    mean = feature.mean()\n",
    "    lower_value,upper_value = mean - feature.std() * 3,mean + feature.std() * 3\n",
    "    return lower_value,upper_value"
   ]
  },
  {
   "cell_type": "code",
   "execution_count": null,
   "id": "c46c6e00",
   "metadata": {},
   "outputs": [],
   "source": [
    "statistics = {col:get_statistics(df_weather[col]) for col in df_weather.columns[1:]}\n",
    "\n",
    "date_window = 24*60*60*1000"
   ]
  },
  {
   "cell_type": "code",
   "execution_count": null,
   "id": "3a676542",
   "metadata": {},
   "outputs": [],
   "source": [
    "def generate_observation(statistics):\n",
    "    return [round(random.uniform(lower_value, upper_value),1) for lower_value, upper_value in statistics.values()]\n",
    "\n",
    "def generate_data(df,amount = 1,date_window = date_window,statistics=statistics):\n",
    "    df_last = df.sort_values('date').date.iloc[-1]\n",
    "    df_generated = pd.DataFrame(columns = ['date',*statistics.keys()])\n",
    "    for i in range(1, amount + 1):\n",
    "        df_generated.loc[len(df_generated)] = [df_last + date_window * i,*generate_observation(statistics)]\n",
    "    return df_generated.astype({'date':int})\n",
    "\n",
    "def append_generated_data(df,amount = 1,date_window = date_window,statistics=statistics):\n",
    "    df_last = df.sort_values('date').date.iloc[-1]\n",
    "    for i in range(1, amount + 1):\n",
    "        df.loc[len(df)] = [df_last + date_window,*generate_observation(statistics)]\n",
    "    df.date = df.date.apply(int)\n",
    "    return df"
   ]
  },
  {
   "cell_type": "code",
   "execution_count": null,
   "id": "9c9c2b12",
   "metadata": {},
   "outputs": [],
   "source": [
    "append_generated_data(df_weather,50)\n",
    "\n",
    "df_weather.tail()"
   ]
  },
  {
   "cell_type": "markdown",
   "id": "d0eccdbc",
   "metadata": {},
   "source": [
    "## <span style=\"color:#ff5f27;\">👩🏻‍⚖️ 🪄 Validation and Insertion of Generated Data</span>"
   ]
  },
  {
   "cell_type": "code",
   "execution_count": null,
   "id": "08a1bc66",
   "metadata": {},
   "outputs": [],
   "source": [
    "def add_indexes(df,indexes=None):\n",
    "    if indexes is None:\n",
    "        return df.reset_index()\n",
    "    df.reset_index(inplace = True)\n",
    "    df['index'] = df['index'] + indexes.max() + 1\n",
    "    return df"
   ]
  },
  {
   "cell_type": "code",
   "execution_count": null,
   "id": "0451bb2d",
   "metadata": {},
   "outputs": [],
   "source": [
    "generated_data = generate_data(df_weather,50)\n",
    "feature_engineering(generated_data)\n",
    "\n",
    "try: \n",
    "    generated_data = add_indexes(generated_data,indexes)\n",
    "except:\n",
    "    generated_data = add_indexes(generated_data)\n",
    "\n",
    "generated_data.head()"
   ]
  },
  {
   "cell_type": "code",
   "execution_count": null,
   "id": "b9bdc590",
   "metadata": {},
   "outputs": [],
   "source": [
    "feature_group.insert(generated_data)"
   ]
  }
 ],
 "metadata": {
  "kernelspec": {
   "display_name": "Python 3 (ipykernel)",
   "language": "python",
   "name": "python3"
  },
  "language_info": {
   "codemirror_mode": {
    "name": "ipython",
    "version": 3
   },
   "file_extension": ".py",
   "mimetype": "text/x-python",
   "name": "python",
   "nbconvert_exporter": "python",
   "pygments_lexer": "ipython3",
   "version": "3.9.12"
  },
  "vscode": {
   "interpreter": {
    "hash": "190ea7959a836f4799545ea0f3718ade3abee093b15861ffdc25233d6ab7050e"
   }
  }
 },
 "nbformat": 4,
 "nbformat_minor": 5
}
