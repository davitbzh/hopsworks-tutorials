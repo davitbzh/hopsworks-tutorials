{
 "cells": [
  {
   "cell_type": "markdown",
   "id": "16edeafc",
   "metadata": {},
   "source": [
    "# <span style=\"font-width:bold; font-size: 3rem; color:#1EB182;\"><img src=\"images/icon102.png\" width=\"38px\"></img> **Hopsworks Feature Store** </span><span style=\"font-width:bold; font-size: 3rem; color:#333;\">- Part 03: Model training</span>\n",
    "\n",
    "<span style=\"font-width:bold; font-size: 1.4rem;\">In this last notebook, we will train a model on the dataset we created in the previous tutorial. We can train our model using standard Python and machine learning frameworks such as Scikit-learn, PySpark, TensorFlow, and PyTorch.</span>\n",
    "\n",
    "## 🗒️ This notebook is divided in 3 main sections:\n",
    "1. Loading the training data.\n",
    "2. Model training.\n",
    "3. Model's Predictions Visualization.\n",
    "\n",
    "![tutorial-flow](images/03_model.png)"
   ]
  },
  {
   "cell_type": "markdown",
   "id": "5aeee3d9",
   "metadata": {},
   "source": [
    "---\n",
    "## <span style=\"color:#ff5f27;\"> 🔮 Connecting to Hopsworks Feature Store </span>"
   ]
  },
  {
   "cell_type": "code",
   "execution_count": null,
   "id": "e3cd5647",
   "metadata": {},
   "outputs": [],
   "source": [
    "import hopsworks\n",
    "\n",
    "project = hopsworks.login()\n",
    "\n",
    "fs = project.get_feature_store() "
   ]
  },
  {
   "cell_type": "markdown",
   "id": "f1c4865f",
   "metadata": {},
   "source": [
    "---\n",
    "\n",
    "## <span style=\"color:#ff5f27;\">🪝 Feature View and Training Dataset Retrieval</span>"
   ]
  },
  {
   "cell_type": "markdown",
   "id": "44c744c8",
   "metadata": {},
   "source": [
    "To retrieve training dataset from Feature Store we retrieve **Feature View** using `FeatureStore.get_feature_view()` method.\n",
    "\n",
    "Then we can use **Feature View** in order to retrieve **training dataset** using `FeatureView.get_train_test_split()` method."
   ]
  },
  {
   "cell_type": "code",
   "execution_count": null,
   "id": "523517d1",
   "metadata": {},
   "outputs": [],
   "source": [
    "feature_view = fs.get_feature_view(\n",
    "    name = 'electricity_feature_view',\n",
    "    version = 1\n",
    ")"
   ]
  },
  {
   "cell_type": "code",
   "execution_count": null,
   "id": "08bd87d9",
   "metadata": {},
   "outputs": [],
   "source": [
    "X_train, y_train, X_test, y_test = feature_view.get_train_test_split(\n",
    "    training_dataset_version = 1\n",
    ")"
   ]
  },
  {
   "cell_type": "code",
   "execution_count": null,
   "id": "150fa549",
   "metadata": {},
   "outputs": [],
   "source": [
    "X_train.head()"
   ]
  },
  {
   "cell_type": "markdown",
   "id": "607d6a22",
   "metadata": {},
   "source": [
    "---\n",
    "\n",
    "## <span style=\"color:#ff5f27;\">🤖 Model Building</span>"
   ]
  },
  {
   "cell_type": "markdown",
   "id": "14f525ff",
   "metadata": {},
   "source": [
    "### <span style=\"color:#ff5f27;\">📝 Imports</span>"
   ]
  },
  {
   "cell_type": "code",
   "execution_count": null,
   "id": "09b27c56",
   "metadata": {},
   "outputs": [],
   "source": [
    "import matplotlib.pyplot as plt\n",
    "import pandas as pd\n",
    "import numpy as np\n",
    "\n",
    "from sklearn.ensemble import RandomForestRegressor\n",
    "from sklearn.metrics import r2_score"
   ]
  },
  {
   "cell_type": "markdown",
   "id": "0d5ef0d1",
   "metadata": {},
   "source": [
    "### <span style=\"color:#ff5f27;\">🧑🏻‍🔬 RandomForestRegressor</span>"
   ]
  },
  {
   "cell_type": "code",
   "execution_count": null,
   "id": "a7ff9445",
   "metadata": {},
   "outputs": [],
   "source": [
    "reg = RandomForestRegressor(\n",
    "    n_estimators = 25,\n",
    "    max_features = 'sqrt',\n",
    "    n_jobs = -1,\n",
    "    random_state = 42\n",
    ")\n",
    "\n",
    "reg.fit(X_train.drop(['index','date'], axis = 1),y_train)"
   ]
  },
  {
   "cell_type": "code",
   "execution_count": null,
   "id": "80b8fae6",
   "metadata": {},
   "outputs": [],
   "source": [
    "preds = reg.predict(X_test.drop(['index','date'],axis = 1))\n",
    "\n",
    "r2_score(y_test, preds)"
   ]
  },
  {
   "cell_type": "markdown",
   "id": "0ac497f8",
   "metadata": {},
   "source": [
    "---\n",
    "\n",
    "## <span style=\"color:#ff5f27;\">🔬 🧬 Model Predictions Visualization</span>"
   ]
  },
  {
   "cell_type": "code",
   "execution_count": null,
   "id": "26e04f84",
   "metadata": {},
   "outputs": [],
   "source": [
    "X_test['preds'] = preds\n",
    "X_train['target'] = y_train\n",
    "X_train.date = pd.to_datetime(X_train.date)\n",
    "X_test.date = pd.to_datetime(X_test.date)"
   ]
  },
  {
   "cell_type": "code",
   "execution_count": null,
   "id": "e062afe6",
   "metadata": {},
   "outputs": [],
   "source": [
    "fig,ax = plt.subplots(figsize = (16,5))\n",
    "\n",
    "X_train.plot('date','target', ax = ax)\n",
    "X_test.plot('date','preds', ax = ax)\n",
    "\n",
    "ax.set_xlabel('Date',fontsize = 15)\n",
    "ax.set_ylabel('Demand',fontsize = 15)\n",
    "ax.set_title('Real Demand VS Predicted Demand from January 2015 to October 2020',fontsize = 20)\n",
    "\n",
    "plt.show()"
   ]
  },
  {
   "cell_type": "markdown",
   "id": "6fdd1025",
   "metadata": {},
   "source": [
    "---\n",
    "## <span style='color:#ff5f27'>👮🏼‍♀️ Model Registry</span>"
   ]
  },
  {
   "cell_type": "code",
   "execution_count": null,
   "id": "6ce747d4",
   "metadata": {},
   "outputs": [],
   "source": [
    "mr = project.get_model_registry()"
   ]
  },
  {
   "cell_type": "code",
   "execution_count": null,
   "id": "51ba4dc6",
   "metadata": {},
   "outputs": [],
   "source": [
    "from hsml.schema import Schema\n",
    "from hsml.model_schema import ModelSchema\n",
    "\n",
    "input_schema = Schema(X_train.drop(['index','date','target'],axis = 1))\n",
    "output_schema = Schema(y_train)\n",
    "model_schema = ModelSchema(input_schema=input_schema, output_schema=output_schema)\n",
    "\n",
    "model_schema.to_dict()"
   ]
  },
  {
   "cell_type": "code",
   "execution_count": null,
   "id": "63c8a4e4",
   "metadata": {},
   "outputs": [],
   "source": [
    "import joblib\n",
    "\n",
    "pkl_file_name = \"forest.pkl\"\n",
    "\n",
    "joblib.dump(reg, pkl_file_name)\n",
    "\n",
    "model = mr.sklearn.create_model(\n",
    "    name = \"forestmodel\",\n",
    "    input_example = X_train.drop(['index','date','target'],axis = 1).sample(),\n",
    "    model_schema = model_schema\n",
    ")\n",
    "\n",
    "model.save(pkl_file_name)"
   ]
  },
  {
   "cell_type": "markdown",
   "id": "ca2ec221",
   "metadata": {},
   "source": [
    "---\n",
    "\n",
    "## <span style='color:#ff5f27'>🚀 Model Deployment</span>"
   ]
  },
  {
   "cell_type": "code",
   "execution_count": null,
   "id": "e54d2f7a",
   "metadata": {},
   "outputs": [],
   "source": [
    "%%writefile predict_example.py\n",
    "import os\n",
    "import joblib\n",
    "import numpy as np\n",
    "import pandas as pd\n",
    "\n",
    "class Predict(object):\n",
    "\n",
    "    def __init__(self):\n",
    "        \"\"\" Initializes the serving state, reads a trained model\"\"\"        \n",
    "        # load the trained model\n",
    "        self.model = joblib.load(os.environ[\"ARTIFACT_FILES_PATH\"] + \"/forest.pkl\")\n",
    "        print(\"Initialization Complete\")\n",
    "\n",
    "    def predict(self, inputs):\n",
    "        \"\"\" Serves a prediction request usign a trained model\"\"\"\n",
    "        return self.model.predict(np.array(inputs).reshape(1, -1)).tolist()"
   ]
  },
  {
   "cell_type": "code",
   "execution_count": null,
   "id": "eb53c076",
   "metadata": {},
   "outputs": [],
   "source": [
    "import os\n",
    "dataset_api = project.get_dataset_api()\n",
    "\n",
    "uploaded_file_path = dataset_api.upload(\"predict_example.py\", \"Models\", overwrite=True)\n",
    "predictor_script_path = os.path.join(\"/Projects\", project.name, uploaded_file_path)"
   ]
  },
  {
   "cell_type": "code",
   "execution_count": null,
   "id": "3f272b73",
   "metadata": {},
   "outputs": [],
   "source": [
    "# Use the model name from the previous notebook.\n",
    "model = mr.get_model(\"forestmodel\", version = 1)\n",
    "\n",
    "# Give it any name you want\n",
    "deployment = model.deploy(\n",
    "    name=\"forestmodeldeploy\", \n",
    "    model_server=\"PYTHON\",\n",
    "    serving_tool='KSERVE',\n",
    "    script_file=predictor_script_path\n",
    ")"
   ]
  },
  {
   "cell_type": "code",
   "execution_count": null,
   "id": "fd4af176",
   "metadata": {},
   "outputs": [],
   "source": [
    "# get Hopsworks Model Serving\n",
    "ms = project.get_model_serving()\n",
    "\n",
    "# get deployment object\n",
    "deployment = ms.get_deployment(\"forestmodeldeploy\")"
   ]
  },
  {
   "cell_type": "code",
   "execution_count": null,
   "id": "de34ca4f",
   "metadata": {},
   "outputs": [],
   "source": [
    "deployment.start(await_running = 120)"
   ]
  },
  {
   "cell_type": "code",
   "execution_count": null,
   "id": "cab15f5b",
   "metadata": {},
   "outputs": [],
   "source": [
    "deployment.get_logs()"
   ]
  },
  {
   "cell_type": "markdown",
   "id": "5a65ccb0",
   "metadata": {},
   "source": [
    "---\n",
    "## <span style='color:#ff5f27'>🔮 Predicting</span>"
   ]
  },
  {
   "cell_type": "code",
   "execution_count": null,
   "id": "9ace2412",
   "metadata": {},
   "outputs": [],
   "source": [
    "batch = feature_view.get_batch_data()\n",
    "batch.sort_values('date',inplace = True)\n",
    "batch.drop(['index','date'], axis = 1, inplace = True)\n",
    "batch.head()"
   ]
  },
  {
   "cell_type": "code",
   "execution_count": null,
   "id": "40fd6f49",
   "metadata": {},
   "outputs": [],
   "source": [
    "batch.shape"
   ]
  },
  {
   "cell_type": "code",
   "execution_count": null,
   "id": "66892d86",
   "metadata": {},
   "outputs": [],
   "source": [
    "def get_predictions(row, deployment = deployment):\n",
    "    data = {\n",
    "        'inputs': row.tolist()\n",
    "    }\n",
    "    return deployment.predict(data)"
   ]
  },
  {
   "cell_type": "code",
   "execution_count": null,
   "id": "daff9ed6",
   "metadata": {},
   "outputs": [],
   "source": [
    "predictions = [pred['predictions'][0] for pred in batch[:500].apply(get_predictions,axis = 1)]\n",
    "\n",
    "predictions[:5]"
   ]
  },
  {
   "cell_type": "markdown",
   "id": "4b7c702f",
   "metadata": {},
   "source": [
    "---"
   ]
  }
 ],
 "metadata": {
  "kernelspec": {
   "display_name": "Python 3 (ipykernel)",
   "language": "python",
   "name": "python3"
  },
  "language_info": {
   "codemirror_mode": {
    "name": "ipython",
    "version": 3
   },
   "file_extension": ".py",
   "mimetype": "text/x-python",
   "name": "python",
   "nbconvert_exporter": "python",
   "pygments_lexer": "ipython3",
   "version": "3.9.12"
  }
 },
 "nbformat": 4,
 "nbformat_minor": 5
}
