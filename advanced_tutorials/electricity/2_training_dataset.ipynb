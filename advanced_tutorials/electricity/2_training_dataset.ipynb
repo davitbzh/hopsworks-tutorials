{
 "cells": [
  {
   "cell_type": "markdown",
   "id": "7ef576a7",
   "metadata": {},
   "source": [
    "# <span style=\"font-width:bold; font-size: 3rem; color:#1EB182;\"><img src=\"images/icon102.png\" width=\"38px\"></img> **Hopsworks Feature Store** </span><span style=\"font-width:bold; font-size: 3rem; color:#333;\">- Part 02: Training Data & Feature views</span>\n",
    "\n",
    "<span style=\"font-width:bold; font-size: 1.4rem;\">This is the second part of the quick start series of tutorials about Hopsworks Feature Store. This notebook explains how to read from a feature group and create training dataset within the feature store</span>\n",
    "\n",
    "## 🗒️ In this notebook we will see how to create a training dataset from the feature groups: \n",
    "\n",
    "1. Retrieving Feature Groups\n",
    "2. Feature Group investigation\n",
    "3. Transformation functions\n",
    "4. Feature Views\n",
    "5. Training Datasets\n",
    "6. Training Datasets with Event Time filter\n",
    "\n",
    "\n",
    "\n",
    "![tutorial-flow](images/02_training-dataset.png) "
   ]
  },
  {
   "cell_type": "markdown",
   "id": "fcc700df",
   "metadata": {},
   "source": [
    "---\n",
    "\n",
    "## <span style=\"color:#ff5f27;\"> 🔮 🪝 Connecting to Feature Store and Retrieving Feature Groups </span>"
   ]
  },
  {
   "cell_type": "code",
   "execution_count": 1,
   "id": "3b274779",
   "metadata": {},
   "outputs": [
    {
     "name": "stdout",
     "output_type": "stream",
     "text": [
      "Connected. Call `.close()` to terminate connection gracefully.\n",
      "\n",
      "Logged in to project, explore it here https://ed408010-19ac-11ed-9333-c9e9623aac8a.cloud.hopsworks.ai/p/120\n",
      "Connected. Call `.close()` to terminate connection gracefully.\n"
     ]
    }
   ],
   "source": [
    "import hopsworks\n",
    "\n",
    "project = hopsworks.login()\n",
    "\n",
    "fs = project.get_feature_store() "
   ]
  },
  {
   "cell_type": "markdown",
   "id": "faa1d40f",
   "metadata": {},
   "source": [
    "> In order to retrieve necessary Feature Group we can use `FeatureStore.get_or_create_feature_group()` method."
   ]
  },
  {
   "cell_type": "code",
   "execution_count": 2,
   "id": "7b0295ef",
   "metadata": {},
   "outputs": [],
   "source": [
    "fg_weather = fs.get_or_create_feature_group(\n",
    "    name = 'weather_fg',\n",
    "    version = 1\n",
    ")"
   ]
  },
  {
   "cell_type": "code",
   "execution_count": 3,
   "id": "1e14d6f7",
   "metadata": {},
   "outputs": [],
   "source": [
    "fg_calendar = fs.get_or_create_feature_group(\n",
    "    name = 'calendar_fg',\n",
    "    version = 1\n",
    ")"
   ]
  },
  {
   "cell_type": "code",
   "execution_count": 4,
   "id": "4d2f2f12",
   "metadata": {},
   "outputs": [],
   "source": [
    "fg_electricity = fs.get_or_create_feature_group(\n",
    "    name = 'electricity_fg',\n",
    "    version = 1\n",
    ")"
   ]
  },
  {
   "cell_type": "markdown",
   "id": "518fa772",
   "metadata": {},
   "source": [
    "---\n",
    "\n",
    "# <span style=\"color:#ff5f27;\">🕵🏻‍♂️ Feature Groups Investigation</span>"
   ]
  },
  {
   "cell_type": "markdown",
   "id": "c06b35bf",
   "metadata": {},
   "source": [
    "We can use `FeatureGroup.show()` method to select top n rows. \n",
    "\n",
    "Also we use method `FeatureGroup.read()` in order **to aggregate queries**, which are the output of next methods:\n",
    "\n",
    "- `FeatureGroup.get_feature()` to get specific feature from our Feature Group.\n",
    "\n",
    "- `FeatureGroup.select()` to get a subset of features from our Feature Group.\n",
    "\n",
    "- `FeatureGroup.select_all()` to get all features from our Feature Group.\n",
    "\n",
    "- `FeatureGroup.select_except()` to get all features except a few from our Feature Group.\n",
    "\n",
    "- `FeatureGroup.filter()` to apply specific filter to the feature group."
   ]
  },
  {
   "cell_type": "code",
   "execution_count": 5,
   "id": "ad244c17",
   "metadata": {},
   "outputs": [
    {
     "data": {
      "text/plain": [
       "<hsfs.constructor.query.Query at 0x7f17bc9ae820>"
      ]
     },
     "execution_count": 5,
     "metadata": {},
     "output_type": "execute_result"
    }
   ],
   "source": [
    "fg_weather.select_all()"
   ]
  },
  {
   "cell_type": "code",
   "execution_count": 6,
   "id": "c8f90326",
   "metadata": {},
   "outputs": [
    {
     "name": "stdout",
     "output_type": "stream",
     "text": [
      "2022-08-21 21:55:09,666 INFO: USE `electricity_featurestore`\n",
      "2022-08-21 21:55:11,304 INFO: SELECT `fg0`.`index` `index`, `fg0`.`date` `date`, `fg0`.`min_temperature` `min_temperature`, `fg0`.`max_temperature` `max_temperature`, `fg0`.`solar_exposure` `solar_exposure`, `fg0`.`rainfall` `rainfall`, `fg0`.`day_of_week` `day_of_week`, `fg0`.`day_of_month` `day_of_month`, `fg0`.`day_of_year` `day_of_year`, `fg0`.`week_of_year` `week_of_year`, `fg0`.`month` `month`, `fg0`.`quarter` `quarter`, `fg0`.`year` `year`\n",
      "FROM `electricity_featurestore`.`weather_fg_1` `fg0`\n"
     ]
    },
    {
     "data": {
      "text/html": [
       "<div>\n",
       "<style scoped>\n",
       "    .dataframe tbody tr th:only-of-type {\n",
       "        vertical-align: middle;\n",
       "    }\n",
       "\n",
       "    .dataframe tbody tr th {\n",
       "        vertical-align: top;\n",
       "    }\n",
       "\n",
       "    .dataframe thead th {\n",
       "        text-align: right;\n",
       "    }\n",
       "</style>\n",
       "<table border=\"1\" class=\"dataframe\">\n",
       "  <thead>\n",
       "    <tr style=\"text-align: right;\">\n",
       "      <th></th>\n",
       "      <th>index</th>\n",
       "      <th>date</th>\n",
       "      <th>min_temperature</th>\n",
       "      <th>max_temperature</th>\n",
       "      <th>solar_exposure</th>\n",
       "      <th>rainfall</th>\n",
       "      <th>day_of_week</th>\n",
       "      <th>day_of_month</th>\n",
       "      <th>day_of_year</th>\n",
       "      <th>week_of_year</th>\n",
       "      <th>month</th>\n",
       "      <th>quarter</th>\n",
       "      <th>year</th>\n",
       "    </tr>\n",
       "  </thead>\n",
       "  <tbody>\n",
       "    <tr>\n",
       "      <th>0</th>\n",
       "      <td>1886</td>\n",
       "      <td>1583020800000</td>\n",
       "      <td>13.2</td>\n",
       "      <td>32.1</td>\n",
       "      <td>20.8</td>\n",
       "      <td>0.0</td>\n",
       "      <td>6</td>\n",
       "      <td>1</td>\n",
       "      <td>61</td>\n",
       "      <td>9</td>\n",
       "      <td>3</td>\n",
       "      <td>1</td>\n",
       "      <td>2020</td>\n",
       "    </tr>\n",
       "    <tr>\n",
       "      <th>1</th>\n",
       "      <td>2039</td>\n",
       "      <td>1596240000000</td>\n",
       "      <td>5.7</td>\n",
       "      <td>16.4</td>\n",
       "      <td>11.1</td>\n",
       "      <td>0.0</td>\n",
       "      <td>5</td>\n",
       "      <td>1</td>\n",
       "      <td>214</td>\n",
       "      <td>31</td>\n",
       "      <td>8</td>\n",
       "      <td>3</td>\n",
       "      <td>2020</td>\n",
       "    </tr>\n",
       "    <tr>\n",
       "      <th>2</th>\n",
       "      <td>1347</td>\n",
       "      <td>1536451200000</td>\n",
       "      <td>8.6</td>\n",
       "      <td>18.1</td>\n",
       "      <td>7.3</td>\n",
       "      <td>0.0</td>\n",
       "      <td>6</td>\n",
       "      <td>9</td>\n",
       "      <td>252</td>\n",
       "      <td>36</td>\n",
       "      <td>9</td>\n",
       "      <td>3</td>\n",
       "      <td>2018</td>\n",
       "    </tr>\n",
       "    <tr>\n",
       "      <th>3</th>\n",
       "      <td>634</td>\n",
       "      <td>1474848000000</td>\n",
       "      <td>8.1</td>\n",
       "      <td>16.9</td>\n",
       "      <td>13.6</td>\n",
       "      <td>0.6</td>\n",
       "      <td>0</td>\n",
       "      <td>26</td>\n",
       "      <td>270</td>\n",
       "      <td>39</td>\n",
       "      <td>9</td>\n",
       "      <td>3</td>\n",
       "      <td>2016</td>\n",
       "    </tr>\n",
       "    <tr>\n",
       "      <th>4</th>\n",
       "      <td>8</td>\n",
       "      <td>1420761600000</td>\n",
       "      <td>16.5</td>\n",
       "      <td>18.0</td>\n",
       "      <td>3.1</td>\n",
       "      <td>1.2</td>\n",
       "      <td>4</td>\n",
       "      <td>9</td>\n",
       "      <td>9</td>\n",
       "      <td>2</td>\n",
       "      <td>1</td>\n",
       "      <td>1</td>\n",
       "      <td>2015</td>\n",
       "    </tr>\n",
       "  </tbody>\n",
       "</table>\n",
       "</div>"
      ],
      "text/plain": [
       "   index           date  min_temperature  max_temperature  solar_exposure  \\\n",
       "0   1886  1583020800000             13.2             32.1            20.8   \n",
       "1   2039  1596240000000              5.7             16.4            11.1   \n",
       "2   1347  1536451200000              8.6             18.1             7.3   \n",
       "3    634  1474848000000              8.1             16.9            13.6   \n",
       "4      8  1420761600000             16.5             18.0             3.1   \n",
       "\n",
       "   rainfall  day_of_week  day_of_month  day_of_year  week_of_year  month  \\\n",
       "0       0.0            6             1           61             9      3   \n",
       "1       0.0            5             1          214            31      8   \n",
       "2       0.0            6             9          252            36      9   \n",
       "3       0.6            0            26          270            39      9   \n",
       "4       1.2            4             9            9             2      1   \n",
       "\n",
       "   quarter  year  \n",
       "0        1  2020  \n",
       "1        3  2020  \n",
       "2        3  2018  \n",
       "3        3  2016  \n",
       "4        1  2015  "
      ]
     },
     "execution_count": 6,
     "metadata": {},
     "output_type": "execute_result"
    }
   ],
   "source": [
    "fg_weather.select_all().read().head()"
   ]
  },
  {
   "cell_type": "code",
   "execution_count": 7,
   "id": "ffe5ac45",
   "metadata": {},
   "outputs": [
    {
     "name": "stdout",
     "output_type": "stream",
     "text": [
      "2022-08-21 21:55:16,165 INFO: USE `electricity_featurestore`\n",
      "2022-08-21 21:55:16,865 INFO: SELECT `fg0`.`date` `date`, `fg0`.`school_day` `school_day`, `fg0`.`holiday` `holiday`\n",
      "FROM `electricity_featurestore`.`calendar_fg_1` `fg0`\n"
     ]
    },
    {
     "data": {
      "text/html": [
       "<div>\n",
       "<style scoped>\n",
       "    .dataframe tbody tr th:only-of-type {\n",
       "        vertical-align: middle;\n",
       "    }\n",
       "\n",
       "    .dataframe tbody tr th {\n",
       "        vertical-align: top;\n",
       "    }\n",
       "\n",
       "    .dataframe thead th {\n",
       "        text-align: right;\n",
       "    }\n",
       "</style>\n",
       "<table border=\"1\" class=\"dataframe\">\n",
       "  <thead>\n",
       "    <tr style=\"text-align: right;\">\n",
       "      <th></th>\n",
       "      <th>date</th>\n",
       "      <th>school_day</th>\n",
       "      <th>holiday</th>\n",
       "    </tr>\n",
       "  </thead>\n",
       "  <tbody>\n",
       "    <tr>\n",
       "      <th>0</th>\n",
       "      <td>1583020800000</td>\n",
       "      <td>1</td>\n",
       "      <td>0</td>\n",
       "    </tr>\n",
       "    <tr>\n",
       "      <th>1</th>\n",
       "      <td>1596240000000</td>\n",
       "      <td>1</td>\n",
       "      <td>0</td>\n",
       "    </tr>\n",
       "    <tr>\n",
       "      <th>2</th>\n",
       "      <td>1536451200000</td>\n",
       "      <td>1</td>\n",
       "      <td>0</td>\n",
       "    </tr>\n",
       "    <tr>\n",
       "      <th>3</th>\n",
       "      <td>1474848000000</td>\n",
       "      <td>0</td>\n",
       "      <td>0</td>\n",
       "    </tr>\n",
       "    <tr>\n",
       "      <th>4</th>\n",
       "      <td>1420761600000</td>\n",
       "      <td>0</td>\n",
       "      <td>0</td>\n",
       "    </tr>\n",
       "  </tbody>\n",
       "</table>\n",
       "</div>"
      ],
      "text/plain": [
       "            date  school_day  holiday\n",
       "0  1583020800000           1        0\n",
       "1  1596240000000           1        0\n",
       "2  1536451200000           1        0\n",
       "3  1474848000000           0        0\n",
       "4  1420761600000           0        0"
      ]
     },
     "execution_count": 7,
     "metadata": {},
     "output_type": "execute_result"
    }
   ],
   "source": [
    "fg_calendar.select_except(['index']).show(5)"
   ]
  },
  {
   "cell_type": "code",
   "execution_count": 8,
   "id": "3a18c28f",
   "metadata": {},
   "outputs": [
    {
     "name": "stdout",
     "output_type": "stream",
     "text": [
      "2022-08-21 21:55:18,618 INFO: USE `electricity_featurestore`\n",
      "2022-08-21 21:55:19,310 INFO: SELECT `fg0`.`demand` `demand`\n",
      "FROM `electricity_featurestore`.`electricity_fg_1` `fg0`\n"
     ]
    },
    {
     "data": {
      "text/html": [
       "<div>\n",
       "<style scoped>\n",
       "    .dataframe tbody tr th:only-of-type {\n",
       "        vertical-align: middle;\n",
       "    }\n",
       "\n",
       "    .dataframe tbody tr th {\n",
       "        vertical-align: top;\n",
       "    }\n",
       "\n",
       "    .dataframe thead th {\n",
       "        text-align: right;\n",
       "    }\n",
       "</style>\n",
       "<table border=\"1\" class=\"dataframe\">\n",
       "  <thead>\n",
       "    <tr style=\"text-align: right;\">\n",
       "      <th></th>\n",
       "      <th>demand</th>\n",
       "    </tr>\n",
       "  </thead>\n",
       "  <tbody>\n",
       "    <tr>\n",
       "      <th>0</th>\n",
       "      <td>101413.145</td>\n",
       "    </tr>\n",
       "    <tr>\n",
       "      <th>1</th>\n",
       "      <td>111590.650</td>\n",
       "    </tr>\n",
       "    <tr>\n",
       "      <th>2</th>\n",
       "      <td>107838.950</td>\n",
       "    </tr>\n",
       "    <tr>\n",
       "      <th>3</th>\n",
       "      <td>124343.190</td>\n",
       "    </tr>\n",
       "    <tr>\n",
       "      <th>4</th>\n",
       "      <td>135452.260</td>\n",
       "    </tr>\n",
       "  </tbody>\n",
       "</table>\n",
       "</div>"
      ],
      "text/plain": [
       "       demand\n",
       "0  101413.145\n",
       "1  111590.650\n",
       "2  107838.950\n",
       "3  124343.190\n",
       "4  135452.260"
      ]
     },
     "execution_count": 8,
     "metadata": {},
     "output_type": "execute_result"
    }
   ],
   "source": [
    "fg_electricity.select('demand').show(5)"
   ]
  },
  {
   "cell_type": "code",
   "execution_count": 9,
   "id": "9e8c9c40",
   "metadata": {},
   "outputs": [
    {
     "name": "stdout",
     "output_type": "stream",
     "text": [
      "2022-08-21 21:55:21,145 INFO: USE `electricity_featurestore`\n",
      "2022-08-21 21:55:21,852 INFO: SELECT `fg0`.`index` `index`, `fg0`.`date` `date`, `fg0`.`rrp` `rrp`, `fg0`.`frac_at_neg_rrp` `frac_at_neg_rrp`, `fg0`.`demand` `demand`, `fg0`.`rrp_positive` `rrp_positive`, `fg0`.`demand_neg_rrp` `demand_neg_rrp`, `fg0`.`rrp_negative` `rrp_negative`, `fg0`.`demand_pos_rrp` `demand_pos_rrp`, `fg0`.`demand_7_mean` `demand_7_mean`, `fg0`.`demand_7_std` `demand_7_std`, `fg0`.`demand_14_mean` `demand_14_mean`, `fg0`.`demand_14_std` `demand_14_std`, `fg0`.`demand_30_mean` `demand_30_mean`, `fg0`.`demand_30_std` `demand_30_std`\n",
      "FROM `electricity_featurestore`.`electricity_fg_1` `fg0`\n",
      "WHERE `fg0`.`demand` > 10000\n"
     ]
    },
    {
     "data": {
      "text/html": [
       "<div>\n",
       "<style scoped>\n",
       "    .dataframe tbody tr th:only-of-type {\n",
       "        vertical-align: middle;\n",
       "    }\n",
       "\n",
       "    .dataframe tbody tr th {\n",
       "        vertical-align: top;\n",
       "    }\n",
       "\n",
       "    .dataframe thead th {\n",
       "        text-align: right;\n",
       "    }\n",
       "</style>\n",
       "<table border=\"1\" class=\"dataframe\">\n",
       "  <thead>\n",
       "    <tr style=\"text-align: right;\">\n",
       "      <th></th>\n",
       "      <th>index</th>\n",
       "      <th>date</th>\n",
       "      <th>rrp</th>\n",
       "      <th>frac_at_neg_rrp</th>\n",
       "      <th>demand</th>\n",
       "      <th>rrp_positive</th>\n",
       "      <th>demand_neg_rrp</th>\n",
       "      <th>rrp_negative</th>\n",
       "      <th>demand_pos_rrp</th>\n",
       "      <th>demand_7_mean</th>\n",
       "      <th>demand_7_std</th>\n",
       "      <th>demand_14_mean</th>\n",
       "      <th>demand_14_std</th>\n",
       "      <th>demand_30_mean</th>\n",
       "      <th>demand_30_std</th>\n",
       "    </tr>\n",
       "  </thead>\n",
       "  <tbody>\n",
       "    <tr>\n",
       "      <th>0</th>\n",
       "      <td>1886</td>\n",
       "      <td>1583020800000</td>\n",
       "      <td>43.745921</td>\n",
       "      <td>0.000000</td>\n",
       "      <td>101413.145</td>\n",
       "      <td>43.745921</td>\n",
       "      <td>0.000</td>\n",
       "      <td>0.000000</td>\n",
       "      <td>101413.145</td>\n",
       "      <td>110717.865714</td>\n",
       "      <td>9220.740759</td>\n",
       "      <td>110795.223214</td>\n",
       "      <td>8592.274480</td>\n",
       "      <td>113918.470167</td>\n",
       "      <td>11661.928533</td>\n",
       "    </tr>\n",
       "    <tr>\n",
       "      <th>1</th>\n",
       "      <td>2039</td>\n",
       "      <td>1596240000000</td>\n",
       "      <td>47.915895</td>\n",
       "      <td>0.000000</td>\n",
       "      <td>111590.650</td>\n",
       "      <td>47.915895</td>\n",
       "      <td>0.000</td>\n",
       "      <td>0.000000</td>\n",
       "      <td>111590.650</td>\n",
       "      <td>127876.293571</td>\n",
       "      <td>7974.452809</td>\n",
       "      <td>130397.305714</td>\n",
       "      <td>8870.056804</td>\n",
       "      <td>131883.940500</td>\n",
       "      <td>8381.503670</td>\n",
       "    </tr>\n",
       "    <tr>\n",
       "      <th>2</th>\n",
       "      <td>1347</td>\n",
       "      <td>1536451200000</td>\n",
       "      <td>67.615591</td>\n",
       "      <td>0.104167</td>\n",
       "      <td>107838.950</td>\n",
       "      <td>77.332217</td>\n",
       "      <td>9927.775</td>\n",
       "      <td>-28.213155</td>\n",
       "      <td>97911.175</td>\n",
       "      <td>119398.098571</td>\n",
       "      <td>8876.580027</td>\n",
       "      <td>124830.694643</td>\n",
       "      <td>10492.613383</td>\n",
       "      <td>125011.080833</td>\n",
       "      <td>9375.466267</td>\n",
       "    </tr>\n",
       "    <tr>\n",
       "      <th>3</th>\n",
       "      <td>634</td>\n",
       "      <td>1474848000000</td>\n",
       "      <td>47.671470</td>\n",
       "      <td>0.000000</td>\n",
       "      <td>124343.190</td>\n",
       "      <td>47.671470</td>\n",
       "      <td>0.000</td>\n",
       "      <td>0.000000</td>\n",
       "      <td>124343.190</td>\n",
       "      <td>120814.523571</td>\n",
       "      <td>10247.936071</td>\n",
       "      <td>122961.179286</td>\n",
       "      <td>10768.576673</td>\n",
       "      <td>123261.361000</td>\n",
       "      <td>9562.472546</td>\n",
       "    </tr>\n",
       "    <tr>\n",
       "      <th>4</th>\n",
       "      <td>1435</td>\n",
       "      <td>1544054400000</td>\n",
       "      <td>125.308108</td>\n",
       "      <td>0.000000</td>\n",
       "      <td>135452.260</td>\n",
       "      <td>125.308108</td>\n",
       "      <td>0.000</td>\n",
       "      <td>0.000000</td>\n",
       "      <td>135452.260</td>\n",
       "      <td>109817.412143</td>\n",
       "      <td>14171.194821</td>\n",
       "      <td>108530.186071</td>\n",
       "      <td>10633.545758</td>\n",
       "      <td>107938.950000</td>\n",
       "      <td>9656.161129</td>\n",
       "    </tr>\n",
       "  </tbody>\n",
       "</table>\n",
       "</div>"
      ],
      "text/plain": [
       "   index           date         rrp  frac_at_neg_rrp      demand  \\\n",
       "0   1886  1583020800000   43.745921         0.000000  101413.145   \n",
       "1   2039  1596240000000   47.915895         0.000000  111590.650   \n",
       "2   1347  1536451200000   67.615591         0.104167  107838.950   \n",
       "3    634  1474848000000   47.671470         0.000000  124343.190   \n",
       "4   1435  1544054400000  125.308108         0.000000  135452.260   \n",
       "\n",
       "   rrp_positive  demand_neg_rrp  rrp_negative  demand_pos_rrp  demand_7_mean  \\\n",
       "0     43.745921           0.000      0.000000      101413.145  110717.865714   \n",
       "1     47.915895           0.000      0.000000      111590.650  127876.293571   \n",
       "2     77.332217        9927.775    -28.213155       97911.175  119398.098571   \n",
       "3     47.671470           0.000      0.000000      124343.190  120814.523571   \n",
       "4    125.308108           0.000      0.000000      135452.260  109817.412143   \n",
       "\n",
       "   demand_7_std  demand_14_mean  demand_14_std  demand_30_mean  demand_30_std  \n",
       "0   9220.740759   110795.223214    8592.274480   113918.470167   11661.928533  \n",
       "1   7974.452809   130397.305714    8870.056804   131883.940500    8381.503670  \n",
       "2   8876.580027   124830.694643   10492.613383   125011.080833    9375.466267  \n",
       "3  10247.936071   122961.179286   10768.576673   123261.361000    9562.472546  \n",
       "4  14171.194821   108530.186071   10633.545758   107938.950000    9656.161129  "
      ]
     },
     "execution_count": 9,
     "metadata": {},
     "output_type": "execute_result"
    }
   ],
   "source": [
    "fg_electricity.filter(fg_electricity.demand > 10000).show(5)"
   ]
  },
  {
   "cell_type": "markdown",
   "id": "6316b0ec",
   "metadata": {},
   "source": [
    "---\n",
    "\n",
    "# <span style=\"color:#ff5f27;\">🧑🏻‍🔬 Transformation functions</span>"
   ]
  },
  {
   "cell_type": "markdown",
   "id": "500f97bc",
   "metadata": {},
   "source": [
    "Hopsworks Feature Store provides functionality to attach transformation functions to training datasets.\n",
    "\n",
    "Hopsworks Feature Store also comes with built-in transformation functions such as `min_max_scaler`, `standard_scaler`, `robust_scaler` and `label_encoder`."
   ]
  },
  {
   "cell_type": "code",
   "execution_count": 10,
   "id": "8743407a",
   "metadata": {},
   "outputs": [
    {
     "data": {
      "text/plain": [
       "['min_max_scaler', 'standard_scaler', 'robust_scaler', 'label_encoder']"
      ]
     },
     "execution_count": 10,
     "metadata": {},
     "output_type": "execute_result"
    }
   ],
   "source": [
    "[t_func.name for t_func in fs.get_transformation_functions()]"
   ]
  },
  {
   "cell_type": "markdown",
   "id": "e8a7f5e9",
   "metadata": {},
   "source": [
    "We can retrieve transformation function we need .\n",
    "\n",
    "To attach transformation function to training dataset provide transformation functions as dict, where key is feature name and value is online transformation function name.\n",
    "\n",
    "Also training dataset must be created from the Query object. Once attached transformation function will be applied on whenever save, insert and get_serving_vector methods are called on training dataset object."
   ]
  },
  {
   "cell_type": "code",
   "execution_count": 11,
   "id": "a7997ceb",
   "metadata": {},
   "outputs": [],
   "source": [
    "# Load transformation functions.\n",
    "standard_scaler = fs.get_transformation_function(name = 'standard_scaler')\n",
    "label_encoder = fs.get_transformation_function(name = 'label_encoder')\n",
    "\n",
    "#Map features to transformations.\n",
    "mapping_transformers = {\n",
    "    \"rrp_positive\": standard_scaler,\n",
    "    \"rrp_negative\": standard_scaler,\n",
    "    \"school_day\": label_encoder,\n",
    "    \"holiday\": label_encoder\n",
    "}"
   ]
  },
  {
   "cell_type": "markdown",
   "id": "490cc6b2",
   "metadata": {},
   "source": [
    "---\n",
    "\n",
    "## <span style=\"color:#ff5f27;\">💼 Query Preparation</span>"
   ]
  },
  {
   "cell_type": "code",
   "execution_count": 12,
   "id": "69ec52e9",
   "metadata": {},
   "outputs": [
    {
     "name": "stdout",
     "output_type": "stream",
     "text": [
      "2022-08-21 21:55:26,308 INFO: USE `electricity_featurestore`\n",
      "2022-08-21 21:55:27,043 INFO: WITH right_fg0 AS (SELECT *\n",
      "FROM (SELECT `fg1`.`index` `index`, `fg1`.`date` `date`, `fg1`.`min_temperature` `min_temperature`, `fg1`.`max_temperature` `max_temperature`, `fg1`.`solar_exposure` `solar_exposure`, `fg1`.`rainfall` `rainfall`, `fg1`.`day_of_week` `day_of_week`, `fg1`.`day_of_month` `day_of_month`, `fg1`.`day_of_year` `day_of_year`, `fg1`.`week_of_year` `week_of_year`, `fg1`.`month` `month`, `fg1`.`quarter` `quarter`, `fg1`.`year` `year`, `fg1`.`index` `join_pk_index`, `fg1`.`date` `join_evt_date`, `fg0`.`school_day` `school_day`, `fg0`.`holiday` `holiday`, RANK() OVER (PARTITION BY `fg0`.`index`, `fg1`.`date` ORDER BY `fg0`.`date` DESC) pit_rank_hopsworks\n",
      "FROM `electricity_featurestore`.`weather_fg_1` `fg1`\n",
      "INNER JOIN `electricity_featurestore`.`calendar_fg_1` `fg0` ON `fg1`.`index` = `fg0`.`index` AND `fg1`.`date` >= `fg0`.`date`) NA\n",
      "WHERE `pit_rank_hopsworks` = 1) (SELECT `right_fg0`.`index` `index`, `right_fg0`.`date` `date`, `right_fg0`.`min_temperature` `min_temperature`, `right_fg0`.`max_temperature` `max_temperature`, `right_fg0`.`solar_exposure` `solar_exposure`, `right_fg0`.`rainfall` `rainfall`, `right_fg0`.`day_of_week` `day_of_week`, `right_fg0`.`day_of_month` `day_of_month`, `right_fg0`.`day_of_year` `day_of_year`, `right_fg0`.`week_of_year` `week_of_year`, `right_fg0`.`month` `month`, `right_fg0`.`quarter` `quarter`, `right_fg0`.`year` `year`, `right_fg0`.`school_day` `school_day`, `right_fg0`.`holiday` `holiday`\n",
      "FROM right_fg0)\n"
     ]
    },
    {
     "data": {
      "text/html": [
       "<div>\n",
       "<style scoped>\n",
       "    .dataframe tbody tr th:only-of-type {\n",
       "        vertical-align: middle;\n",
       "    }\n",
       "\n",
       "    .dataframe tbody tr th {\n",
       "        vertical-align: top;\n",
       "    }\n",
       "\n",
       "    .dataframe thead th {\n",
       "        text-align: right;\n",
       "    }\n",
       "</style>\n",
       "<table border=\"1\" class=\"dataframe\">\n",
       "  <thead>\n",
       "    <tr style=\"text-align: right;\">\n",
       "      <th></th>\n",
       "      <th>index</th>\n",
       "      <th>date</th>\n",
       "      <th>min_temperature</th>\n",
       "      <th>max_temperature</th>\n",
       "      <th>solar_exposure</th>\n",
       "      <th>rainfall</th>\n",
       "      <th>day_of_week</th>\n",
       "      <th>day_of_month</th>\n",
       "      <th>day_of_year</th>\n",
       "      <th>week_of_year</th>\n",
       "      <th>month</th>\n",
       "      <th>quarter</th>\n",
       "      <th>year</th>\n",
       "      <th>school_day</th>\n",
       "      <th>holiday</th>\n",
       "    </tr>\n",
       "  </thead>\n",
       "  <tbody>\n",
       "    <tr>\n",
       "      <th>0</th>\n",
       "      <td>0</td>\n",
       "      <td>1420070400000</td>\n",
       "      <td>13.3</td>\n",
       "      <td>26.9</td>\n",
       "      <td>23.6</td>\n",
       "      <td>0.0</td>\n",
       "      <td>3</td>\n",
       "      <td>1</td>\n",
       "      <td>1</td>\n",
       "      <td>1</td>\n",
       "      <td>1</td>\n",
       "      <td>1</td>\n",
       "      <td>2015</td>\n",
       "      <td>0</td>\n",
       "      <td>1</td>\n",
       "    </tr>\n",
       "    <tr>\n",
       "      <th>1</th>\n",
       "      <td>0</td>\n",
       "      <td>1602115200000</td>\n",
       "      <td>24.3</td>\n",
       "      <td>26.0</td>\n",
       "      <td>1.8</td>\n",
       "      <td>6.6</td>\n",
       "      <td>3</td>\n",
       "      <td>8</td>\n",
       "      <td>282</td>\n",
       "      <td>41</td>\n",
       "      <td>10</td>\n",
       "      <td>4</td>\n",
       "      <td>2020</td>\n",
       "      <td>1</td>\n",
       "      <td>0</td>\n",
       "    </tr>\n",
       "    <tr>\n",
       "      <th>2</th>\n",
       "      <td>1</td>\n",
       "      <td>1420156800000</td>\n",
       "      <td>15.4</td>\n",
       "      <td>38.8</td>\n",
       "      <td>26.8</td>\n",
       "      <td>0.0</td>\n",
       "      <td>4</td>\n",
       "      <td>2</td>\n",
       "      <td>2</td>\n",
       "      <td>1</td>\n",
       "      <td>1</td>\n",
       "      <td>1</td>\n",
       "      <td>2015</td>\n",
       "      <td>0</td>\n",
       "      <td>0</td>\n",
       "    </tr>\n",
       "    <tr>\n",
       "      <th>3</th>\n",
       "      <td>1</td>\n",
       "      <td>1602201600000</td>\n",
       "      <td>21.1</td>\n",
       "      <td>33.0</td>\n",
       "      <td>15.1</td>\n",
       "      <td>-4.8</td>\n",
       "      <td>4</td>\n",
       "      <td>9</td>\n",
       "      <td>283</td>\n",
       "      <td>41</td>\n",
       "      <td>10</td>\n",
       "      <td>4</td>\n",
       "      <td>2020</td>\n",
       "      <td>0</td>\n",
       "      <td>1</td>\n",
       "    </tr>\n",
       "    <tr>\n",
       "      <th>4</th>\n",
       "      <td>2</td>\n",
       "      <td>1420243200000</td>\n",
       "      <td>20.0</td>\n",
       "      <td>38.2</td>\n",
       "      <td>26.5</td>\n",
       "      <td>0.0</td>\n",
       "      <td>5</td>\n",
       "      <td>3</td>\n",
       "      <td>3</td>\n",
       "      <td>1</td>\n",
       "      <td>1</td>\n",
       "      <td>1</td>\n",
       "      <td>2015</td>\n",
       "      <td>0</td>\n",
       "      <td>0</td>\n",
       "    </tr>\n",
       "  </tbody>\n",
       "</table>\n",
       "</div>"
      ],
      "text/plain": [
       "   index           date  min_temperature  max_temperature  solar_exposure  \\\n",
       "0      0  1420070400000             13.3             26.9            23.6   \n",
       "1      0  1602115200000             24.3             26.0             1.8   \n",
       "2      1  1420156800000             15.4             38.8            26.8   \n",
       "3      1  1602201600000             21.1             33.0            15.1   \n",
       "4      2  1420243200000             20.0             38.2            26.5   \n",
       "\n",
       "   rainfall  day_of_week  day_of_month  day_of_year  week_of_year  month  \\\n",
       "0       0.0            3             1            1             1      1   \n",
       "1       6.6            3             8          282            41     10   \n",
       "2       0.0            4             2            2             1      1   \n",
       "3      -4.8            4             9          283            41     10   \n",
       "4       0.0            5             3            3             1      1   \n",
       "\n",
       "   quarter  year  school_day  holiday  \n",
       "0        1  2015           0        1  \n",
       "1        4  2020           1        0  \n",
       "2        1  2015           0        0  \n",
       "3        4  2020           0        1  \n",
       "4        1  2015           0        0  "
      ]
     },
     "execution_count": 12,
     "metadata": {},
     "output_type": "execute_result"
    }
   ],
   "source": [
    "fg_weather.select_all().join(\n",
    "                            fg_calendar.select_all()).show(5)"
   ]
  },
  {
   "cell_type": "code",
   "execution_count": 13,
   "id": "101bd6f5",
   "metadata": {},
   "outputs": [
    {
     "name": "stdout",
     "output_type": "stream",
     "text": [
      "2022-08-21 21:55:51,541 INFO: USE `electricity_featurestore`\n",
      "2022-08-21 21:55:52,238 INFO: WITH right_fg0 AS (SELECT *\n",
      "FROM (SELECT `fg2`.`index` `index`, `fg2`.`date` `date`, `fg2`.`min_temperature` `min_temperature`, `fg2`.`max_temperature` `max_temperature`, `fg2`.`solar_exposure` `solar_exposure`, `fg2`.`rainfall` `rainfall`, `fg2`.`day_of_week` `day_of_week`, `fg2`.`day_of_month` `day_of_month`, `fg2`.`day_of_year` `day_of_year`, `fg2`.`week_of_year` `week_of_year`, `fg2`.`month` `month`, `fg2`.`quarter` `quarter`, `fg2`.`year` `year`, `fg2`.`index` `join_pk_index`, `fg2`.`date` `join_evt_date`, `fg0`.`school_day` `school_day`, `fg0`.`holiday` `holiday`, RANK() OVER (PARTITION BY `fg2`.`index`, `fg2`.`date` ORDER BY `fg0`.`date` DESC) pit_rank_hopsworks\n",
      "FROM `electricity_featurestore`.`weather_fg_1` `fg2`\n",
      "INNER JOIN `electricity_featurestore`.`calendar_fg_1` `fg0` ON `fg2`.`index` = `fg0`.`index` AND `fg2`.`date` >= `fg0`.`date`) NA\n",
      "WHERE `pit_rank_hopsworks` = 1), right_fg1 AS (SELECT *\n",
      "FROM (SELECT `fg2`.`index` `index`, `fg2`.`date` `date`, `fg2`.`min_temperature` `min_temperature`, `fg2`.`max_temperature` `max_temperature`, `fg2`.`solar_exposure` `solar_exposure`, `fg2`.`rainfall` `rainfall`, `fg2`.`day_of_week` `day_of_week`, `fg2`.`day_of_month` `day_of_month`, `fg2`.`day_of_year` `day_of_year`, `fg2`.`week_of_year` `week_of_year`, `fg2`.`month` `month`, `fg2`.`quarter` `quarter`, `fg2`.`year` `year`, `fg2`.`index` `join_pk_index`, `fg2`.`date` `join_evt_date`, `fg1`.`rrp` `rrp`, `fg1`.`frac_at_neg_rrp` `frac_at_neg_rrp`, `fg1`.`demand` `demand`, `fg1`.`rrp_positive` `rrp_positive`, `fg1`.`demand_neg_rrp` `demand_neg_rrp`, `fg1`.`rrp_negative` `rrp_negative`, `fg1`.`demand_pos_rrp` `demand_pos_rrp`, `fg1`.`demand_7_mean` `demand_7_mean`, `fg1`.`demand_7_std` `demand_7_std`, `fg1`.`demand_14_mean` `demand_14_mean`, `fg1`.`demand_14_std` `demand_14_std`, `fg1`.`demand_30_mean` `demand_30_mean`, `fg1`.`demand_30_std` `demand_30_std`, RANK() OVER (PARTITION BY `fg2`.`index`, `fg2`.`date` ORDER BY `fg1`.`date` DESC) pit_rank_hopsworks\n",
      "FROM `electricity_featurestore`.`weather_fg_1` `fg2`\n",
      "INNER JOIN `electricity_featurestore`.`electricity_fg_1` `fg1` ON `fg2`.`index` = `fg1`.`index` AND `fg2`.`date` >= `fg1`.`date`) NA\n",
      "WHERE `pit_rank_hopsworks` = 1) (SELECT `right_fg0`.`index` `index`, `right_fg0`.`date` `date`, `right_fg0`.`min_temperature` `min_temperature`, `right_fg0`.`max_temperature` `max_temperature`, `right_fg0`.`solar_exposure` `solar_exposure`, `right_fg0`.`rainfall` `rainfall`, `right_fg0`.`day_of_week` `day_of_week`, `right_fg0`.`day_of_month` `day_of_month`, `right_fg0`.`day_of_year` `day_of_year`, `right_fg0`.`week_of_year` `week_of_year`, `right_fg0`.`month` `month`, `right_fg0`.`quarter` `quarter`, `right_fg0`.`year` `year`, `right_fg0`.`school_day` `school_day`, `right_fg0`.`holiday` `holiday`, `right_fg1`.`rrp` `rrp`, `right_fg1`.`frac_at_neg_rrp` `frac_at_neg_rrp`, `right_fg1`.`demand` `demand`, `right_fg1`.`rrp_positive` `rrp_positive`, `right_fg1`.`demand_neg_rrp` `demand_neg_rrp`, `right_fg1`.`rrp_negative` `rrp_negative`, `right_fg1`.`demand_pos_rrp` `demand_pos_rrp`, `right_fg1`.`demand_7_mean` `demand_7_mean`, `right_fg1`.`demand_7_std` `demand_7_std`, `right_fg1`.`demand_14_mean` `demand_14_mean`, `right_fg1`.`demand_14_std` `demand_14_std`, `right_fg1`.`demand_30_mean` `demand_30_mean`, `right_fg1`.`demand_30_std` `demand_30_std`\n",
      "FROM right_fg0\n",
      "INNER JOIN right_fg1 ON `right_fg0`.`join_pk_index` = `right_fg1`.`join_pk_index` AND `right_fg0`.`join_evt_date` = `right_fg1`.`join_evt_date`)\n"
     ]
    },
    {
     "data": {
      "text/html": [
       "<div>\n",
       "<style scoped>\n",
       "    .dataframe tbody tr th:only-of-type {\n",
       "        vertical-align: middle;\n",
       "    }\n",
       "\n",
       "    .dataframe tbody tr th {\n",
       "        vertical-align: top;\n",
       "    }\n",
       "\n",
       "    .dataframe thead th {\n",
       "        text-align: right;\n",
       "    }\n",
       "</style>\n",
       "<table border=\"1\" class=\"dataframe\">\n",
       "  <thead>\n",
       "    <tr style=\"text-align: right;\">\n",
       "      <th></th>\n",
       "      <th>index</th>\n",
       "      <th>date</th>\n",
       "      <th>min_temperature</th>\n",
       "      <th>max_temperature</th>\n",
       "      <th>solar_exposure</th>\n",
       "      <th>rainfall</th>\n",
       "      <th>day_of_week</th>\n",
       "      <th>day_of_month</th>\n",
       "      <th>day_of_year</th>\n",
       "      <th>week_of_year</th>\n",
       "      <th>...</th>\n",
       "      <th>rrp_positive</th>\n",
       "      <th>demand_neg_rrp</th>\n",
       "      <th>rrp_negative</th>\n",
       "      <th>demand_pos_rrp</th>\n",
       "      <th>demand_7_mean</th>\n",
       "      <th>demand_7_std</th>\n",
       "      <th>demand_14_mean</th>\n",
       "      <th>demand_14_std</th>\n",
       "      <th>demand_30_mean</th>\n",
       "      <th>demand_30_std</th>\n",
       "    </tr>\n",
       "  </thead>\n",
       "  <tbody>\n",
       "    <tr>\n",
       "      <th>0</th>\n",
       "      <td>33</td>\n",
       "      <td>1604966400000</td>\n",
       "      <td>17.4</td>\n",
       "      <td>37.1</td>\n",
       "      <td>34.3</td>\n",
       "      <td>-4.8</td>\n",
       "      <td>1</td>\n",
       "      <td>10</td>\n",
       "      <td>315</td>\n",
       "      <td>46</td>\n",
       "      <td>...</td>\n",
       "      <td>83.200000</td>\n",
       "      <td>6956.5</td>\n",
       "      <td>35.1</td>\n",
       "      <td>90990.400</td>\n",
       "      <td>125004.357143</td>\n",
       "      <td>23951.277370</td>\n",
       "      <td>123192.721429</td>\n",
       "      <td>23761.598927</td>\n",
       "      <td>117832.410000</td>\n",
       "      <td>21241.786982</td>\n",
       "    </tr>\n",
       "    <tr>\n",
       "      <th>1</th>\n",
       "      <td>34</td>\n",
       "      <td>1423008000000</td>\n",
       "      <td>14.8</td>\n",
       "      <td>19.0</td>\n",
       "      <td>21.2</td>\n",
       "      <td>0.0</td>\n",
       "      <td>2</td>\n",
       "      <td>4</td>\n",
       "      <td>35</td>\n",
       "      <td>6</td>\n",
       "      <td>...</td>\n",
       "      <td>27.809134</td>\n",
       "      <td>0.0</td>\n",
       "      <td>0.0</td>\n",
       "      <td>117398.030</td>\n",
       "      <td>114758.001429</td>\n",
       "      <td>8948.957583</td>\n",
       "      <td>117702.133929</td>\n",
       "      <td>14693.328802</td>\n",
       "      <td>120100.977833</td>\n",
       "      <td>15883.964829</td>\n",
       "    </tr>\n",
       "    <tr>\n",
       "      <th>2</th>\n",
       "      <td>35</td>\n",
       "      <td>1423094400000</td>\n",
       "      <td>13.3</td>\n",
       "      <td>24.2</td>\n",
       "      <td>28.8</td>\n",
       "      <td>0.0</td>\n",
       "      <td>3</td>\n",
       "      <td>5</td>\n",
       "      <td>36</td>\n",
       "      <td>6</td>\n",
       "      <td>...</td>\n",
       "      <td>31.384571</td>\n",
       "      <td>0.0</td>\n",
       "      <td>0.0</td>\n",
       "      <td>122279.425</td>\n",
       "      <td>115181.672143</td>\n",
       "      <td>9265.201226</td>\n",
       "      <td>115491.228571</td>\n",
       "      <td>10730.117628</td>\n",
       "      <td>119821.209167</td>\n",
       "      <td>15764.813039</td>\n",
       "    </tr>\n",
       "    <tr>\n",
       "      <th>3</th>\n",
       "      <td>36</td>\n",
       "      <td>1423180800000</td>\n",
       "      <td>14.5</td>\n",
       "      <td>35.7</td>\n",
       "      <td>28.4</td>\n",
       "      <td>0.0</td>\n",
       "      <td>4</td>\n",
       "      <td>6</td>\n",
       "      <td>37</td>\n",
       "      <td>6</td>\n",
       "      <td>...</td>\n",
       "      <td>38.840180</td>\n",
       "      <td>0.0</td>\n",
       "      <td>0.0</td>\n",
       "      <td>141837.005</td>\n",
       "      <td>118155.794286</td>\n",
       "      <td>13720.958427</td>\n",
       "      <td>115758.500357</td>\n",
       "      <td>11364.319495</td>\n",
       "      <td>119431.948667</td>\n",
       "      <td>15031.278558</td>\n",
       "    </tr>\n",
       "    <tr>\n",
       "      <th>4</th>\n",
       "      <td>36</td>\n",
       "      <td>1605225600000</td>\n",
       "      <td>8.5</td>\n",
       "      <td>12.1</td>\n",
       "      <td>-5.4</td>\n",
       "      <td>14.1</td>\n",
       "      <td>4</td>\n",
       "      <td>13</td>\n",
       "      <td>318</td>\n",
       "      <td>46</td>\n",
       "      <td>...</td>\n",
       "      <td>-186.200000</td>\n",
       "      <td>1627.5</td>\n",
       "      <td>-49.7</td>\n",
       "      <td>147921.500</td>\n",
       "      <td>122091.871429</td>\n",
       "      <td>23885.930012</td>\n",
       "      <td>119959.142857</td>\n",
       "      <td>23762.544203</td>\n",
       "      <td>117822.043333</td>\n",
       "      <td>22225.094507</td>\n",
       "    </tr>\n",
       "  </tbody>\n",
       "</table>\n",
       "<p>5 rows × 28 columns</p>\n",
       "</div>"
      ],
      "text/plain": [
       "   index           date  min_temperature  max_temperature  solar_exposure  \\\n",
       "0     33  1604966400000             17.4             37.1            34.3   \n",
       "1     34  1423008000000             14.8             19.0            21.2   \n",
       "2     35  1423094400000             13.3             24.2            28.8   \n",
       "3     36  1423180800000             14.5             35.7            28.4   \n",
       "4     36  1605225600000              8.5             12.1            -5.4   \n",
       "\n",
       "   rainfall  day_of_week  day_of_month  day_of_year  week_of_year  ...  \\\n",
       "0      -4.8            1            10          315            46  ...   \n",
       "1       0.0            2             4           35             6  ...   \n",
       "2       0.0            3             5           36             6  ...   \n",
       "3       0.0            4             6           37             6  ...   \n",
       "4      14.1            4            13          318            46  ...   \n",
       "\n",
       "   rrp_positive  demand_neg_rrp  rrp_negative  demand_pos_rrp  demand_7_mean  \\\n",
       "0     83.200000          6956.5          35.1       90990.400  125004.357143   \n",
       "1     27.809134             0.0           0.0      117398.030  114758.001429   \n",
       "2     31.384571             0.0           0.0      122279.425  115181.672143   \n",
       "3     38.840180             0.0           0.0      141837.005  118155.794286   \n",
       "4   -186.200000          1627.5         -49.7      147921.500  122091.871429   \n",
       "\n",
       "   demand_7_std  demand_14_mean  demand_14_std  demand_30_mean  demand_30_std  \n",
       "0  23951.277370   123192.721429   23761.598927   117832.410000   21241.786982  \n",
       "1   8948.957583   117702.133929   14693.328802   120100.977833   15883.964829  \n",
       "2   9265.201226   115491.228571   10730.117628   119821.209167   15764.813039  \n",
       "3  13720.958427   115758.500357   11364.319495   119431.948667   15031.278558  \n",
       "4  23885.930012   119959.142857   23762.544203   117822.043333   22225.094507  \n",
       "\n",
       "[5 rows x 28 columns]"
      ]
     },
     "execution_count": 13,
     "metadata": {},
     "output_type": "execute_result"
    }
   ],
   "source": [
    "fg_query = fg_weather.select_all()\\\n",
    "                        .join(\n",
    "                            fg_calendar.select_all(),\n",
    "                            on = ['index']\n",
    "                        )\\\n",
    "                        .join(\n",
    "                            fg_electricity.select_all(),\n",
    "                            on = ['index']\n",
    "                        )\n",
    "fg_query.show(5)"
   ]
  },
  {
   "cell_type": "markdown",
   "id": "cdbe60fb",
   "metadata": {},
   "source": [
    "---\n",
    "\n",
    "## <span style=\"color:#ff5f27;\"> ⚙️ Feature View Creation </span>\n",
    "\n",
    "`Feature Views` stands between **Feature Groups** and **Training Dataset**. Сombining **Feature Groups** we can create **Feature Views** which store a metadata of our data. Having **Feature Views** we can create **Training Dataset**.\n",
    "\n",
    "The Feature Views allows schema in form of a query with filters, define a model target feature/label and additional transformation functions.\n",
    "\n",
    "In order to create Feature View we can use `FeatureStore.create_feature_view()` method.\n",
    "\n",
    "We can specify next parameters:\n",
    "\n",
    "- `name` - name of a feature group.\n",
    "\n",
    "- `version` - version of a feature group.\n",
    "\n",
    "- `labels`- our target variable.\n",
    "\n",
    "- `transformation_functions` - functions to transform our features.\n",
    "\n",
    "- `query` - query object with data."
   ]
  },
  {
   "cell_type": "code",
   "execution_count": 14,
   "id": "9b9017f8",
   "metadata": {},
   "outputs": [
    {
     "name": "stdout",
     "output_type": "stream",
     "text": [
      "Feature view created successfully, explore it at \n",
      "https://ed408010-19ac-11ed-9333-c9e9623aac8a.cloud.hopsworks.ai/p/120/fs/68/fv/electricity_feature_view/version/1\n"
     ]
    }
   ],
   "source": [
    "feature_view = fs.create_feature_view(\n",
    "    name = 'electricity_feature_view',\n",
    "    version = 1,\n",
    "    labels = ['demand'],\n",
    "    query = fg_query\n",
    ")"
   ]
  },
  {
   "cell_type": "code",
   "execution_count": 15,
   "id": "073d2ddf",
   "metadata": {},
   "outputs": [
    {
     "data": {
      "text/plain": [
       "<hsfs.feature_view.FeatureView at 0x7f17bc958c10>"
      ]
     },
     "execution_count": 15,
     "metadata": {},
     "output_type": "execute_result"
    }
   ],
   "source": [
    "feature_view"
   ]
  },
  {
   "cell_type": "markdown",
   "id": "d7e30e1c",
   "metadata": {},
   "source": [
    "For now `Feature View` is saved in Hopsworks and we can retrieve it using `FeatureStore.get_feature_view()`."
   ]
  },
  {
   "cell_type": "code",
   "execution_count": 16,
   "id": "5094cadd",
   "metadata": {},
   "outputs": [],
   "source": [
    "feature_view = fs.get_feature_view(\n",
    "    name = 'electricity_feature_view',\n",
    "    version = 1\n",
    ")"
   ]
  },
  {
   "cell_type": "code",
   "execution_count": 17,
   "id": "14fec859",
   "metadata": {},
   "outputs": [
    {
     "data": {
      "text/plain": [
       "1"
      ]
     },
     "execution_count": 17,
     "metadata": {},
     "output_type": "execute_result"
    }
   ],
   "source": [
    "feature_view.version"
   ]
  },
  {
   "cell_type": "markdown",
   "id": "0f8db51c",
   "metadata": {},
   "source": [
    "---\n",
    "\n",
    "## <span style=\"color:#ff5f27;\"> 🏋️ Training Dataset Creation</span>\n",
    "\n",
    "In Hopsworks training data is a query where the projection (set of features) is determined by the parent FeatureView with an optional snapshot on disk of the data returned by the query.\n",
    "\n",
    "**Training Dataset  may contain splits such as:** \n",
    "* Training set - the subset of training data used to train a model.\n",
    "* Validation set - the subset of training data used to evaluate hparams when training a model\n",
    "* Test set - the holdout subset of training data used to evaluate a mode\n",
    "\n",
    "To create training dataset we use `FeatureView.create_training_data()` method.\n",
    "\n",
    "Here are some importand things:\n",
    "\n",
    "- It will inherit the name of FeatureView.\n",
    "\n",
    "- The feature store currently supports the following data formats for\n",
    "training datasets: **tfrecord, csv, tsv, parquet, avro, orc**.\n",
    "\n",
    "- We can choose necessary format using **data_format** parameter.\n",
    "\n",
    "- **start_time** and **end_time** in order to filter dataset in specific time range."
   ]
  },
  {
   "cell_type": "markdown",
   "id": "42438d4f",
   "metadata": {},
   "source": [
    "#### <span style=\"color:#ff5f27;\"> ⛳️ Simple Training Dataset</span>"
   ]
  },
  {
   "cell_type": "code",
   "execution_count": 18,
   "id": "05571c69",
   "metadata": {},
   "outputs": [
    {
     "name": "stdout",
     "output_type": "stream",
     "text": [
      "Training dataset job started successfully, you can follow the progress at \n",
      "https://ed408010-19ac-11ed-9333-c9e9623aac8a.cloud.hopsworks.ai/p/120/jobs/named/electricity_feature_view_1_1_create_fv_td_21082022215620/executions\n"
     ]
    },
    {
     "name": "stderr",
     "output_type": "stream",
     "text": [
      "VersionWarning: Incremented version to `1`.\n"
     ]
    },
    {
     "data": {
      "text/plain": [
       "(1, <hsfs.core.job.Job at 0x7f17bc8ff070>)"
      ]
     },
     "execution_count": 18,
     "metadata": {},
     "output_type": "execute_result"
    }
   ],
   "source": [
    "feature_view.create_training_data(\n",
    "    description = 'training_dataset',\n",
    "    data_format = 'csv'\n",
    ")"
   ]
  },
  {
   "cell_type": "markdown",
   "id": "0946b967",
   "metadata": {},
   "source": [
    "- We can create **train, test** splits using `create_train_test_split()`. \n",
    "\n",
    "- We can create **train,validation, test** splits using `create_train_validation_test_splits()` methods.\n",
    "\n",
    "- The only thing is that we should specify desired ratio of splits."
   ]
  },
  {
   "cell_type": "markdown",
   "id": "103bb6c1",
   "metadata": {},
   "source": [
    "#### <span style=\"color:#ff5f27;\"> ⛳️ Dataset with train and test splits</span>"
   ]
  },
  {
   "cell_type": "code",
   "execution_count": 19,
   "id": "4ce67196",
   "metadata": {},
   "outputs": [
    {
     "name": "stdout",
     "output_type": "stream",
     "text": [
      "Training dataset job started successfully, you can follow the progress at \n",
      "https://ed408010-19ac-11ed-9333-c9e9623aac8a.cloud.hopsworks.ai/p/120/jobs/named/electricity_feature_view_1_2_create_fv_td_21082022215904/executions\n"
     ]
    },
    {
     "name": "stderr",
     "output_type": "stream",
     "text": [
      "VersionWarning: Incremented version to `2`.\n"
     ]
    },
    {
     "data": {
      "text/plain": [
       "(2, <hsfs.core.job.Job at 0x7f17bc8ff160>)"
      ]
     },
     "execution_count": 19,
     "metadata": {},
     "output_type": "execute_result"
    }
   ],
   "source": [
    "feature_view.create_train_test_split(\n",
    "    test_size = 0.2\n",
    ")"
   ]
  },
  {
   "cell_type": "markdown",
   "id": "8f587477",
   "metadata": {},
   "source": [
    "#### <span style=\"color:#ff5f27;\"> ⛳️ Dataset with train, validation and test splits</span>"
   ]
  },
  {
   "cell_type": "code",
   "execution_count": 20,
   "id": "dee7f9d3",
   "metadata": {},
   "outputs": [
    {
     "name": "stdout",
     "output_type": "stream",
     "text": [
      "Training dataset job started successfully, you can follow the progress at \n",
      "https://ed408010-19ac-11ed-9333-c9e9623aac8a.cloud.hopsworks.ai/p/120/jobs/named/electricity_feature_view_1_3_create_fv_td_21082022220324/executions\n"
     ]
    },
    {
     "name": "stderr",
     "output_type": "stream",
     "text": [
      "VersionWarning: Incremented version to `3`.\n"
     ]
    },
    {
     "data": {
      "text/plain": [
       "(3, <hsfs.core.job.Job at 0x7f17bc8ff850>)"
      ]
     },
     "execution_count": 20,
     "metadata": {},
     "output_type": "execute_result"
    }
   ],
   "source": [
    "feature_view.create_train_validation_test_split(\n",
    "    validation_size = 0.2,\n",
    "    test_size = 0.1\n",
    ")"
   ]
  },
  {
   "cell_type": "markdown",
   "id": "6e90bcdc",
   "metadata": {},
   "source": [
    "---\n",
    "\n",
    "## <span style=\"color:#ff5f27;\"> 🪝 Retrieving Datasets </span>"
   ]
  },
  {
   "cell_type": "markdown",
   "id": "2ca998b3",
   "metadata": {},
   "source": [
    "#### <span style=\"color:#ff5f27;\"> ⛳️ Simple Training Dataset</span>"
   ]
  },
  {
   "cell_type": "code",
   "execution_count": 21,
   "id": "9c7ac103",
   "metadata": {},
   "outputs": [
    {
     "name": "stderr",
     "output_type": "stream",
     "text": [
      "FutureWarning: pyarrow.hdfs.HadoopFileSystem is deprecated as of 2.0.0, please use pyarrow.fs.HadoopFileSystem instead.\n"
     ]
    }
   ],
   "source": [
    "X_train, y_train = feature_view.get_training_data(\n",
    "    training_dataset_version = 1\n",
    ")"
   ]
  },
  {
   "cell_type": "code",
   "execution_count": 22,
   "id": "3a16c998",
   "metadata": {},
   "outputs": [
    {
     "data": {
      "text/html": [
       "<div>\n",
       "<style scoped>\n",
       "    .dataframe tbody tr th:only-of-type {\n",
       "        vertical-align: middle;\n",
       "    }\n",
       "\n",
       "    .dataframe tbody tr th {\n",
       "        vertical-align: top;\n",
       "    }\n",
       "\n",
       "    .dataframe thead th {\n",
       "        text-align: right;\n",
       "    }\n",
       "</style>\n",
       "<table border=\"1\" class=\"dataframe\">\n",
       "  <thead>\n",
       "    <tr style=\"text-align: right;\">\n",
       "      <th></th>\n",
       "      <th>index</th>\n",
       "      <th>date</th>\n",
       "      <th>min_temperature</th>\n",
       "      <th>max_temperature</th>\n",
       "      <th>solar_exposure</th>\n",
       "      <th>rainfall</th>\n",
       "      <th>day_of_week</th>\n",
       "      <th>day_of_month</th>\n",
       "      <th>day_of_year</th>\n",
       "      <th>week_of_year</th>\n",
       "      <th>...</th>\n",
       "      <th>rrp_positive</th>\n",
       "      <th>demand_neg_rrp</th>\n",
       "      <th>rrp_negative</th>\n",
       "      <th>demand_pos_rrp</th>\n",
       "      <th>demand_7_mean</th>\n",
       "      <th>demand_7_std</th>\n",
       "      <th>demand_14_mean</th>\n",
       "      <th>demand_14_std</th>\n",
       "      <th>demand_30_mean</th>\n",
       "      <th>demand_30_std</th>\n",
       "    </tr>\n",
       "  </thead>\n",
       "  <tbody>\n",
       "    <tr>\n",
       "      <th>0</th>\n",
       "      <td>154</td>\n",
       "      <td>1433376000000</td>\n",
       "      <td>4.4</td>\n",
       "      <td>11.3</td>\n",
       "      <td>5.5</td>\n",
       "      <td>0.0</td>\n",
       "      <td>3</td>\n",
       "      <td>4</td>\n",
       "      <td>155</td>\n",
       "      <td>23</td>\n",
       "      <td>...</td>\n",
       "      <td>33.050285</td>\n",
       "      <td>0.000</td>\n",
       "      <td>0.0</td>\n",
       "      <td>147155.265</td>\n",
       "      <td>134826.100714</td>\n",
       "      <td>15277.541585</td>\n",
       "      <td>132421.544286</td>\n",
       "      <td>12121.312927</td>\n",
       "      <td>129020.392667</td>\n",
       "      <td>11456.502219</td>\n",
       "    </tr>\n",
       "    <tr>\n",
       "      <th>1</th>\n",
       "      <td>573</td>\n",
       "      <td>1469577600000</td>\n",
       "      <td>7.5</td>\n",
       "      <td>12.9</td>\n",
       "      <td>6.9</td>\n",
       "      <td>0.4</td>\n",
       "      <td>2</td>\n",
       "      <td>27</td>\n",
       "      <td>209</td>\n",
       "      <td>30</td>\n",
       "      <td>...</td>\n",
       "      <td>36.397463</td>\n",
       "      <td>0.000</td>\n",
       "      <td>0.0</td>\n",
       "      <td>143209.755</td>\n",
       "      <td>133247.215000</td>\n",
       "      <td>10620.203460</td>\n",
       "      <td>132380.252857</td>\n",
       "      <td>10598.615006</td>\n",
       "      <td>132709.017833</td>\n",
       "      <td>10018.226341</td>\n",
       "    </tr>\n",
       "    <tr>\n",
       "      <th>2</th>\n",
       "      <td>635</td>\n",
       "      <td>1474934400000</td>\n",
       "      <td>7.4</td>\n",
       "      <td>14.8</td>\n",
       "      <td>13.4</td>\n",
       "      <td>12.6</td>\n",
       "      <td>1</td>\n",
       "      <td>27</td>\n",
       "      <td>271</td>\n",
       "      <td>39</td>\n",
       "      <td>...</td>\n",
       "      <td>49.794504</td>\n",
       "      <td>0.000</td>\n",
       "      <td>0.0</td>\n",
       "      <td>126888.770</td>\n",
       "      <td>121418.018571</td>\n",
       "      <td>10496.400154</td>\n",
       "      <td>122401.794643</td>\n",
       "      <td>10304.147294</td>\n",
       "      <td>123663.239167</td>\n",
       "      <td>9448.684467</td>\n",
       "    </tr>\n",
       "    <tr>\n",
       "      <th>3</th>\n",
       "      <td>654</td>\n",
       "      <td>1476576000000</td>\n",
       "      <td>17.4</td>\n",
       "      <td>23.1</td>\n",
       "      <td>8.0</td>\n",
       "      <td>0.0</td>\n",
       "      <td>6</td>\n",
       "      <td>16</td>\n",
       "      <td>290</td>\n",
       "      <td>41</td>\n",
       "      <td>...</td>\n",
       "      <td>22.474960</td>\n",
       "      <td>1740.595</td>\n",
       "      <td>-3.6</td>\n",
       "      <td>100052.440</td>\n",
       "      <td>117109.188571</td>\n",
       "      <td>12509.209925</td>\n",
       "      <td>115471.599286</td>\n",
       "      <td>11851.022854</td>\n",
       "      <td>116607.459500</td>\n",
       "      <td>10873.536035</td>\n",
       "    </tr>\n",
       "    <tr>\n",
       "      <th>4</th>\n",
       "      <td>872</td>\n",
       "      <td>1495411200000</td>\n",
       "      <td>10.4</td>\n",
       "      <td>20.3</td>\n",
       "      <td>10.1</td>\n",
       "      <td>0.0</td>\n",
       "      <td>0</td>\n",
       "      <td>22</td>\n",
       "      <td>142</td>\n",
       "      <td>21</td>\n",
       "      <td>...</td>\n",
       "      <td>72.931488</td>\n",
       "      <td>0.000</td>\n",
       "      <td>0.0</td>\n",
       "      <td>113551.040</td>\n",
       "      <td>118247.162143</td>\n",
       "      <td>8599.465978</td>\n",
       "      <td>119668.648214</td>\n",
       "      <td>8471.561767</td>\n",
       "      <td>116976.748167</td>\n",
       "      <td>9751.151336</td>\n",
       "    </tr>\n",
       "  </tbody>\n",
       "</table>\n",
       "<p>5 rows × 27 columns</p>\n",
       "</div>"
      ],
      "text/plain": [
       "   index           date  min_temperature  max_temperature  solar_exposure  \\\n",
       "0    154  1433376000000              4.4             11.3             5.5   \n",
       "1    573  1469577600000              7.5             12.9             6.9   \n",
       "2    635  1474934400000              7.4             14.8            13.4   \n",
       "3    654  1476576000000             17.4             23.1             8.0   \n",
       "4    872  1495411200000             10.4             20.3            10.1   \n",
       "\n",
       "   rainfall  day_of_week  day_of_month  day_of_year  week_of_year  ...  \\\n",
       "0       0.0            3             4          155            23  ...   \n",
       "1       0.4            2            27          209            30  ...   \n",
       "2      12.6            1            27          271            39  ...   \n",
       "3       0.0            6            16          290            41  ...   \n",
       "4       0.0            0            22          142            21  ...   \n",
       "\n",
       "   rrp_positive  demand_neg_rrp  rrp_negative  demand_pos_rrp  demand_7_mean  \\\n",
       "0     33.050285           0.000           0.0      147155.265  134826.100714   \n",
       "1     36.397463           0.000           0.0      143209.755  133247.215000   \n",
       "2     49.794504           0.000           0.0      126888.770  121418.018571   \n",
       "3     22.474960        1740.595          -3.6      100052.440  117109.188571   \n",
       "4     72.931488           0.000           0.0      113551.040  118247.162143   \n",
       "\n",
       "   demand_7_std  demand_14_mean  demand_14_std  demand_30_mean  demand_30_std  \n",
       "0  15277.541585   132421.544286   12121.312927   129020.392667   11456.502219  \n",
       "1  10620.203460   132380.252857   10598.615006   132709.017833   10018.226341  \n",
       "2  10496.400154   122401.794643   10304.147294   123663.239167    9448.684467  \n",
       "3  12509.209925   115471.599286   11851.022854   116607.459500   10873.536035  \n",
       "4   8599.465978   119668.648214    8471.561767   116976.748167    9751.151336  \n",
       "\n",
       "[5 rows x 27 columns]"
      ]
     },
     "execution_count": 22,
     "metadata": {},
     "output_type": "execute_result"
    }
   ],
   "source": [
    "X_train.head()"
   ]
  },
  {
   "cell_type": "code",
   "execution_count": 23,
   "id": "8ea1f2df",
   "metadata": {},
   "outputs": [
    {
     "data": {
      "text/html": [
       "<div>\n",
       "<style scoped>\n",
       "    .dataframe tbody tr th:only-of-type {\n",
       "        vertical-align: middle;\n",
       "    }\n",
       "\n",
       "    .dataframe tbody tr th {\n",
       "        vertical-align: top;\n",
       "    }\n",
       "\n",
       "    .dataframe thead th {\n",
       "        text-align: right;\n",
       "    }\n",
       "</style>\n",
       "<table border=\"1\" class=\"dataframe\">\n",
       "  <thead>\n",
       "    <tr style=\"text-align: right;\">\n",
       "      <th></th>\n",
       "      <th>demand</th>\n",
       "    </tr>\n",
       "  </thead>\n",
       "  <tbody>\n",
       "    <tr>\n",
       "      <th>0</th>\n",
       "      <td>147155.265</td>\n",
       "    </tr>\n",
       "    <tr>\n",
       "      <th>1</th>\n",
       "      <td>143209.755</td>\n",
       "    </tr>\n",
       "    <tr>\n",
       "      <th>2</th>\n",
       "      <td>126888.770</td>\n",
       "    </tr>\n",
       "    <tr>\n",
       "      <th>3</th>\n",
       "      <td>101793.035</td>\n",
       "    </tr>\n",
       "    <tr>\n",
       "      <th>4</th>\n",
       "      <td>113551.040</td>\n",
       "    </tr>\n",
       "  </tbody>\n",
       "</table>\n",
       "</div>"
      ],
      "text/plain": [
       "       demand\n",
       "0  147155.265\n",
       "1  143209.755\n",
       "2  126888.770\n",
       "3  101793.035\n",
       "4  113551.040"
      ]
     },
     "execution_count": 23,
     "metadata": {},
     "output_type": "execute_result"
    }
   ],
   "source": [
    "y_train.head()"
   ]
  },
  {
   "cell_type": "code",
   "execution_count": 24,
   "id": "fb040725",
   "metadata": {},
   "outputs": [
    {
     "data": {
      "text/plain": [
       "(2094, 27)"
      ]
     },
     "execution_count": 24,
     "metadata": {},
     "output_type": "execute_result"
    }
   ],
   "source": [
    "X_train.shape"
   ]
  },
  {
   "cell_type": "markdown",
   "id": "5df78dc9",
   "metadata": {},
   "source": [
    "#### <span style=\"color:#ff5f27;\"> ⛳️ Dataset with train and test splits</span>"
   ]
  },
  {
   "cell_type": "code",
   "execution_count": 25,
   "id": "8b3390b8",
   "metadata": {},
   "outputs": [],
   "source": [
    "X_train, y_train, X_test, y_test = feature_view.get_train_test_split(\n",
    "    training_dataset_version = 2\n",
    ")"
   ]
  },
  {
   "cell_type": "code",
   "execution_count": 26,
   "id": "b2ef571d",
   "metadata": {},
   "outputs": [
    {
     "data": {
      "text/html": [
       "<div>\n",
       "<style scoped>\n",
       "    .dataframe tbody tr th:only-of-type {\n",
       "        vertical-align: middle;\n",
       "    }\n",
       "\n",
       "    .dataframe tbody tr th {\n",
       "        vertical-align: top;\n",
       "    }\n",
       "\n",
       "    .dataframe thead th {\n",
       "        text-align: right;\n",
       "    }\n",
       "</style>\n",
       "<table border=\"1\" class=\"dataframe\">\n",
       "  <thead>\n",
       "    <tr style=\"text-align: right;\">\n",
       "      <th></th>\n",
       "      <th>index</th>\n",
       "      <th>date</th>\n",
       "      <th>min_temperature</th>\n",
       "      <th>max_temperature</th>\n",
       "      <th>solar_exposure</th>\n",
       "      <th>rainfall</th>\n",
       "      <th>day_of_week</th>\n",
       "      <th>day_of_month</th>\n",
       "      <th>day_of_year</th>\n",
       "      <th>week_of_year</th>\n",
       "      <th>...</th>\n",
       "      <th>rrp_positive</th>\n",
       "      <th>demand_neg_rrp</th>\n",
       "      <th>rrp_negative</th>\n",
       "      <th>demand_pos_rrp</th>\n",
       "      <th>demand_7_mean</th>\n",
       "      <th>demand_7_std</th>\n",
       "      <th>demand_14_mean</th>\n",
       "      <th>demand_14_std</th>\n",
       "      <th>demand_30_mean</th>\n",
       "      <th>demand_30_std</th>\n",
       "    </tr>\n",
       "  </thead>\n",
       "  <tbody>\n",
       "    <tr>\n",
       "      <th>0</th>\n",
       "      <td>154</td>\n",
       "      <td>1433376000000</td>\n",
       "      <td>4.4</td>\n",
       "      <td>11.3</td>\n",
       "      <td>5.5</td>\n",
       "      <td>0.0</td>\n",
       "      <td>3</td>\n",
       "      <td>4</td>\n",
       "      <td>155</td>\n",
       "      <td>23</td>\n",
       "      <td>...</td>\n",
       "      <td>33.050285</td>\n",
       "      <td>0.000</td>\n",
       "      <td>0.0</td>\n",
       "      <td>147155.265</td>\n",
       "      <td>134826.100714</td>\n",
       "      <td>15277.541585</td>\n",
       "      <td>132421.544286</td>\n",
       "      <td>12121.312927</td>\n",
       "      <td>129020.392667</td>\n",
       "      <td>11456.502219</td>\n",
       "    </tr>\n",
       "    <tr>\n",
       "      <th>1</th>\n",
       "      <td>573</td>\n",
       "      <td>1469577600000</td>\n",
       "      <td>7.5</td>\n",
       "      <td>12.9</td>\n",
       "      <td>6.9</td>\n",
       "      <td>0.4</td>\n",
       "      <td>2</td>\n",
       "      <td>27</td>\n",
       "      <td>209</td>\n",
       "      <td>30</td>\n",
       "      <td>...</td>\n",
       "      <td>36.397463</td>\n",
       "      <td>0.000</td>\n",
       "      <td>0.0</td>\n",
       "      <td>143209.755</td>\n",
       "      <td>133247.215000</td>\n",
       "      <td>10620.203460</td>\n",
       "      <td>132380.252857</td>\n",
       "      <td>10598.615006</td>\n",
       "      <td>132709.017833</td>\n",
       "      <td>10018.226341</td>\n",
       "    </tr>\n",
       "    <tr>\n",
       "      <th>2</th>\n",
       "      <td>635</td>\n",
       "      <td>1474934400000</td>\n",
       "      <td>7.4</td>\n",
       "      <td>14.8</td>\n",
       "      <td>13.4</td>\n",
       "      <td>12.6</td>\n",
       "      <td>1</td>\n",
       "      <td>27</td>\n",
       "      <td>271</td>\n",
       "      <td>39</td>\n",
       "      <td>...</td>\n",
       "      <td>49.794504</td>\n",
       "      <td>0.000</td>\n",
       "      <td>0.0</td>\n",
       "      <td>126888.770</td>\n",
       "      <td>121418.018571</td>\n",
       "      <td>10496.400154</td>\n",
       "      <td>122401.794643</td>\n",
       "      <td>10304.147294</td>\n",
       "      <td>123663.239167</td>\n",
       "      <td>9448.684467</td>\n",
       "    </tr>\n",
       "    <tr>\n",
       "      <th>3</th>\n",
       "      <td>654</td>\n",
       "      <td>1476576000000</td>\n",
       "      <td>17.4</td>\n",
       "      <td>23.1</td>\n",
       "      <td>8.0</td>\n",
       "      <td>0.0</td>\n",
       "      <td>6</td>\n",
       "      <td>16</td>\n",
       "      <td>290</td>\n",
       "      <td>41</td>\n",
       "      <td>...</td>\n",
       "      <td>22.474960</td>\n",
       "      <td>1740.595</td>\n",
       "      <td>-3.6</td>\n",
       "      <td>100052.440</td>\n",
       "      <td>117109.188571</td>\n",
       "      <td>12509.209925</td>\n",
       "      <td>115471.599286</td>\n",
       "      <td>11851.022854</td>\n",
       "      <td>116607.459500</td>\n",
       "      <td>10873.536035</td>\n",
       "    </tr>\n",
       "    <tr>\n",
       "      <th>4</th>\n",
       "      <td>872</td>\n",
       "      <td>1495411200000</td>\n",
       "      <td>10.4</td>\n",
       "      <td>20.3</td>\n",
       "      <td>10.1</td>\n",
       "      <td>0.0</td>\n",
       "      <td>0</td>\n",
       "      <td>22</td>\n",
       "      <td>142</td>\n",
       "      <td>21</td>\n",
       "      <td>...</td>\n",
       "      <td>72.931488</td>\n",
       "      <td>0.000</td>\n",
       "      <td>0.0</td>\n",
       "      <td>113551.040</td>\n",
       "      <td>118247.162143</td>\n",
       "      <td>8599.465978</td>\n",
       "      <td>119668.648214</td>\n",
       "      <td>8471.561767</td>\n",
       "      <td>116976.748167</td>\n",
       "      <td>9751.151336</td>\n",
       "    </tr>\n",
       "  </tbody>\n",
       "</table>\n",
       "<p>5 rows × 27 columns</p>\n",
       "</div>"
      ],
      "text/plain": [
       "   index           date  min_temperature  max_temperature  solar_exposure  \\\n",
       "0    154  1433376000000              4.4             11.3             5.5   \n",
       "1    573  1469577600000              7.5             12.9             6.9   \n",
       "2    635  1474934400000              7.4             14.8            13.4   \n",
       "3    654  1476576000000             17.4             23.1             8.0   \n",
       "4    872  1495411200000             10.4             20.3            10.1   \n",
       "\n",
       "   rainfall  day_of_week  day_of_month  day_of_year  week_of_year  ...  \\\n",
       "0       0.0            3             4          155            23  ...   \n",
       "1       0.4            2            27          209            30  ...   \n",
       "2      12.6            1            27          271            39  ...   \n",
       "3       0.0            6            16          290            41  ...   \n",
       "4       0.0            0            22          142            21  ...   \n",
       "\n",
       "   rrp_positive  demand_neg_rrp  rrp_negative  demand_pos_rrp  demand_7_mean  \\\n",
       "0     33.050285           0.000           0.0      147155.265  134826.100714   \n",
       "1     36.397463           0.000           0.0      143209.755  133247.215000   \n",
       "2     49.794504           0.000           0.0      126888.770  121418.018571   \n",
       "3     22.474960        1740.595          -3.6      100052.440  117109.188571   \n",
       "4     72.931488           0.000           0.0      113551.040  118247.162143   \n",
       "\n",
       "   demand_7_std  demand_14_mean  demand_14_std  demand_30_mean  demand_30_std  \n",
       "0  15277.541585   132421.544286   12121.312927   129020.392667   11456.502219  \n",
       "1  10620.203460   132380.252857   10598.615006   132709.017833   10018.226341  \n",
       "2  10496.400154   122401.794643   10304.147294   123663.239167    9448.684467  \n",
       "3  12509.209925   115471.599286   11851.022854   116607.459500   10873.536035  \n",
       "4   8599.465978   119668.648214    8471.561767   116976.748167    9751.151336  \n",
       "\n",
       "[5 rows x 27 columns]"
      ]
     },
     "execution_count": 26,
     "metadata": {},
     "output_type": "execute_result"
    }
   ],
   "source": [
    "X_train.head()"
   ]
  },
  {
   "cell_type": "code",
   "execution_count": 27,
   "id": "4fec727e",
   "metadata": {},
   "outputs": [
    {
     "data": {
      "text/plain": [
       "(1655, 27)"
      ]
     },
     "execution_count": 27,
     "metadata": {},
     "output_type": "execute_result"
    }
   ],
   "source": [
    "X_train.shape"
   ]
  },
  {
   "cell_type": "code",
   "execution_count": 28,
   "id": "feeadcac",
   "metadata": {},
   "outputs": [
    {
     "data": {
      "text/plain": [
       "(439, 27)"
      ]
     },
     "execution_count": 28,
     "metadata": {},
     "output_type": "execute_result"
    }
   ],
   "source": [
    "X_test.shape"
   ]
  },
  {
   "cell_type": "markdown",
   "id": "ee598e1b",
   "metadata": {},
   "source": [
    "#### <span style=\"color:#ff5f27;\"> ⛳️ Dataset with train, validation and test splits</span>"
   ]
  },
  {
   "cell_type": "code",
   "execution_count": 29,
   "id": "bc47495a",
   "metadata": {},
   "outputs": [],
   "source": [
    "X_train, y_train, X_val, y_val, X_test, y_test = feature_view.get_train_validation_test_split(\n",
    "    training_dataset_version = 3\n",
    ")"
   ]
  },
  {
   "cell_type": "code",
   "execution_count": 30,
   "id": "1ae58221",
   "metadata": {},
   "outputs": [
    {
     "data": {
      "text/html": [
       "<div>\n",
       "<style scoped>\n",
       "    .dataframe tbody tr th:only-of-type {\n",
       "        vertical-align: middle;\n",
       "    }\n",
       "\n",
       "    .dataframe tbody tr th {\n",
       "        vertical-align: top;\n",
       "    }\n",
       "\n",
       "    .dataframe thead th {\n",
       "        text-align: right;\n",
       "    }\n",
       "</style>\n",
       "<table border=\"1\" class=\"dataframe\">\n",
       "  <thead>\n",
       "    <tr style=\"text-align: right;\">\n",
       "      <th></th>\n",
       "      <th>index</th>\n",
       "      <th>date</th>\n",
       "      <th>min_temperature</th>\n",
       "      <th>max_temperature</th>\n",
       "      <th>solar_exposure</th>\n",
       "      <th>rainfall</th>\n",
       "      <th>day_of_week</th>\n",
       "      <th>day_of_month</th>\n",
       "      <th>day_of_year</th>\n",
       "      <th>week_of_year</th>\n",
       "      <th>...</th>\n",
       "      <th>rrp_positive</th>\n",
       "      <th>demand_neg_rrp</th>\n",
       "      <th>rrp_negative</th>\n",
       "      <th>demand_pos_rrp</th>\n",
       "      <th>demand_7_mean</th>\n",
       "      <th>demand_7_std</th>\n",
       "      <th>demand_14_mean</th>\n",
       "      <th>demand_14_std</th>\n",
       "      <th>demand_30_mean</th>\n",
       "      <th>demand_30_std</th>\n",
       "    </tr>\n",
       "  </thead>\n",
       "  <tbody>\n",
       "    <tr>\n",
       "      <th>0</th>\n",
       "      <td>154</td>\n",
       "      <td>1433376000000</td>\n",
       "      <td>4.4</td>\n",
       "      <td>11.3</td>\n",
       "      <td>5.5</td>\n",
       "      <td>0.0</td>\n",
       "      <td>3</td>\n",
       "      <td>4</td>\n",
       "      <td>155</td>\n",
       "      <td>23</td>\n",
       "      <td>...</td>\n",
       "      <td>33.050285</td>\n",
       "      <td>0.0</td>\n",
       "      <td>0.0</td>\n",
       "      <td>147155.265</td>\n",
       "      <td>134826.100714</td>\n",
       "      <td>15277.541585</td>\n",
       "      <td>132421.544286</td>\n",
       "      <td>12121.312927</td>\n",
       "      <td>129020.392667</td>\n",
       "      <td>11456.502219</td>\n",
       "    </tr>\n",
       "    <tr>\n",
       "      <th>1</th>\n",
       "      <td>573</td>\n",
       "      <td>1469577600000</td>\n",
       "      <td>7.5</td>\n",
       "      <td>12.9</td>\n",
       "      <td>6.9</td>\n",
       "      <td>0.4</td>\n",
       "      <td>2</td>\n",
       "      <td>27</td>\n",
       "      <td>209</td>\n",
       "      <td>30</td>\n",
       "      <td>...</td>\n",
       "      <td>36.397463</td>\n",
       "      <td>0.0</td>\n",
       "      <td>0.0</td>\n",
       "      <td>143209.755</td>\n",
       "      <td>133247.215000</td>\n",
       "      <td>10620.203460</td>\n",
       "      <td>132380.252857</td>\n",
       "      <td>10598.615006</td>\n",
       "      <td>132709.017833</td>\n",
       "      <td>10018.226341</td>\n",
       "    </tr>\n",
       "    <tr>\n",
       "      <th>2</th>\n",
       "      <td>635</td>\n",
       "      <td>1474934400000</td>\n",
       "      <td>7.4</td>\n",
       "      <td>14.8</td>\n",
       "      <td>13.4</td>\n",
       "      <td>12.6</td>\n",
       "      <td>1</td>\n",
       "      <td>27</td>\n",
       "      <td>271</td>\n",
       "      <td>39</td>\n",
       "      <td>...</td>\n",
       "      <td>49.794504</td>\n",
       "      <td>0.0</td>\n",
       "      <td>0.0</td>\n",
       "      <td>126888.770</td>\n",
       "      <td>121418.018571</td>\n",
       "      <td>10496.400154</td>\n",
       "      <td>122401.794643</td>\n",
       "      <td>10304.147294</td>\n",
       "      <td>123663.239167</td>\n",
       "      <td>9448.684467</td>\n",
       "    </tr>\n",
       "    <tr>\n",
       "      <th>3</th>\n",
       "      <td>971</td>\n",
       "      <td>1503964800000</td>\n",
       "      <td>5.4</td>\n",
       "      <td>12.9</td>\n",
       "      <td>9.1</td>\n",
       "      <td>0.0</td>\n",
       "      <td>1</td>\n",
       "      <td>29</td>\n",
       "      <td>241</td>\n",
       "      <td>35</td>\n",
       "      <td>...</td>\n",
       "      <td>143.848040</td>\n",
       "      <td>0.0</td>\n",
       "      <td>0.0</td>\n",
       "      <td>139814.040</td>\n",
       "      <td>130599.129286</td>\n",
       "      <td>10117.240137</td>\n",
       "      <td>129806.963571</td>\n",
       "      <td>8575.738851</td>\n",
       "      <td>129232.795833</td>\n",
       "      <td>10549.863870</td>\n",
       "    </tr>\n",
       "    <tr>\n",
       "      <th>4</th>\n",
       "      <td>1843</td>\n",
       "      <td>1579305600000</td>\n",
       "      <td>13.9</td>\n",
       "      <td>29.4</td>\n",
       "      <td>27.2</td>\n",
       "      <td>0.0</td>\n",
       "      <td>5</td>\n",
       "      <td>18</td>\n",
       "      <td>18</td>\n",
       "      <td>3</td>\n",
       "      <td>...</td>\n",
       "      <td>52.053155</td>\n",
       "      <td>0.0</td>\n",
       "      <td>0.0</td>\n",
       "      <td>105946.340</td>\n",
       "      <td>115698.075714</td>\n",
       "      <td>16901.740872</td>\n",
       "      <td>112640.898571</td>\n",
       "      <td>14770.620802</td>\n",
       "      <td>110161.665000</td>\n",
       "      <td>15941.806878</td>\n",
       "    </tr>\n",
       "  </tbody>\n",
       "</table>\n",
       "<p>5 rows × 27 columns</p>\n",
       "</div>"
      ],
      "text/plain": [
       "   index           date  min_temperature  max_temperature  solar_exposure  \\\n",
       "0    154  1433376000000              4.4             11.3             5.5   \n",
       "1    573  1469577600000              7.5             12.9             6.9   \n",
       "2    635  1474934400000              7.4             14.8            13.4   \n",
       "3    971  1503964800000              5.4             12.9             9.1   \n",
       "4   1843  1579305600000             13.9             29.4            27.2   \n",
       "\n",
       "   rainfall  day_of_week  day_of_month  day_of_year  week_of_year  ...  \\\n",
       "0       0.0            3             4          155            23  ...   \n",
       "1       0.4            2            27          209            30  ...   \n",
       "2      12.6            1            27          271            39  ...   \n",
       "3       0.0            1            29          241            35  ...   \n",
       "4       0.0            5            18           18             3  ...   \n",
       "\n",
       "   rrp_positive  demand_neg_rrp  rrp_negative  demand_pos_rrp  demand_7_mean  \\\n",
       "0     33.050285             0.0           0.0      147155.265  134826.100714   \n",
       "1     36.397463             0.0           0.0      143209.755  133247.215000   \n",
       "2     49.794504             0.0           0.0      126888.770  121418.018571   \n",
       "3    143.848040             0.0           0.0      139814.040  130599.129286   \n",
       "4     52.053155             0.0           0.0      105946.340  115698.075714   \n",
       "\n",
       "   demand_7_std  demand_14_mean  demand_14_std  demand_30_mean  demand_30_std  \n",
       "0  15277.541585   132421.544286   12121.312927   129020.392667   11456.502219  \n",
       "1  10620.203460   132380.252857   10598.615006   132709.017833   10018.226341  \n",
       "2  10496.400154   122401.794643   10304.147294   123663.239167    9448.684467  \n",
       "3  10117.240137   129806.963571    8575.738851   129232.795833   10549.863870  \n",
       "4  16901.740872   112640.898571   14770.620802   110161.665000   15941.806878  \n",
       "\n",
       "[5 rows x 27 columns]"
      ]
     },
     "execution_count": 30,
     "metadata": {},
     "output_type": "execute_result"
    }
   ],
   "source": [
    "X_train.head()"
   ]
  },
  {
   "cell_type": "markdown",
   "id": "cfd0e7b7",
   "metadata": {},
   "source": [
    "---"
   ]
  },
  {
   "cell_type": "markdown",
   "id": "9dd048ef",
   "metadata": {},
   "source": [
    "## <span style=\"color:#ff5f27;\"> 🔮 Creating Training Datasets with Event Time filter</span>\n",
    "\n",
    "First of all lets import **datetime** from datetime library and set up a time format.\n",
    "\n",
    "Then we can define start_time point and end_time point.\n",
    "\n",
    "Finally we can create training dataset with data in specific time bourders. \n"
   ]
  },
  {
   "cell_type": "code",
   "execution_count": 31,
   "id": "c4969183",
   "metadata": {},
   "outputs": [],
   "source": [
    "from datetime import datetime\n",
    "\n",
    "def from_unix_to_datetime(unix):\n",
    "    return datetime.utcfromtimestamp(unix).strftime('%Y-%m-%d %H:%M:%S')"
   ]
  },
  {
   "cell_type": "code",
   "execution_count": 32,
   "id": "47be0070",
   "metadata": {},
   "outputs": [],
   "source": [
    "date_format = '%Y-%m-%d %H:%M:%S'\n",
    "\n",
    "start_time_train = int(float(datetime.strptime('2017-01-01 00:00:01',date_format).timestamp()) * 1000)\n",
    "end_time_train = int(float(datetime.strptime('2018-02-01 23:59:59',date_format).timestamp()) * 1000)\n",
    "\n",
    "start_time_test = int(float(datetime.strptime('2018-02-02 23:59:59',date_format).timestamp()) * 1000)\n",
    "end_time_test = int(float(datetime.strptime('2019-02-01 23:59:59',date_format).timestamp()) * 1000)"
   ]
  },
  {
   "cell_type": "markdown",
   "id": "9cc1b825",
   "metadata": {},
   "source": [
    "#### <span style=\"color:#ff5f27;\"> ⛳️ Simple Training Dataset with event time</span>"
   ]
  },
  {
   "cell_type": "code",
   "execution_count": 33,
   "id": "bddca72e",
   "metadata": {},
   "outputs": [
    {
     "name": "stdout",
     "output_type": "stream",
     "text": [
      "Training dataset job started successfully, you can follow the progress at \n",
      "https://ed408010-19ac-11ed-9333-c9e9623aac8a.cloud.hopsworks.ai/p/120/jobs/named/electricity_feature_view_1_4_create_fv_td_21082022221121/executions\n"
     ]
    },
    {
     "name": "stderr",
     "output_type": "stream",
     "text": [
      "VersionWarning: Incremented version to `4`.\n"
     ]
    },
    {
     "data": {
      "text/plain": [
       "(4, <hsfs.core.job.Job at 0x7f1772ce7fd0>)"
      ]
     },
     "execution_count": 33,
     "metadata": {},
     "output_type": "execute_result"
    }
   ],
   "source": [
    "feature_view.create_training_data(\n",
    "    description = 'data_2017_2018',\n",
    "    data_format = 'csv',\n",
    "    start_time = start_time_train,\n",
    "    end_time = end_time_train\n",
    ")"
   ]
  },
  {
   "cell_type": "code",
   "execution_count": 34,
   "id": "b3f5593e",
   "metadata": {},
   "outputs": [],
   "source": [
    "X_train_lim, y_train_lim = feature_view.get_training_data(\n",
    "    training_dataset_version = 4\n",
    ")"
   ]
  },
  {
   "cell_type": "markdown",
   "id": "48f71014",
   "metadata": {},
   "source": [
    "#### <span style=\"color:#ff5f27;\"> ⛳️ Training Dataset with train and test splits with event time</span>"
   ]
  },
  {
   "cell_type": "code",
   "execution_count": 35,
   "id": "3f5f4004",
   "metadata": {},
   "outputs": [],
   "source": [
    "# feature_view.create_train_test_split(\n",
    "#     test_size = 0.2,\n",
    "#     train_start = start_time_train,\n",
    "#     train_end = end_time_train,\n",
    "#     test_start = start_time_test,\n",
    "#     test_end = end_time_test\n",
    "# )"
   ]
  },
  {
   "cell_type": "markdown",
   "id": "014ccc9c",
   "metadata": {},
   "source": [
    "---"
   ]
  },
  {
   "cell_type": "markdown",
   "id": "63ffb438",
   "metadata": {},
   "source": [
    "### <span style=\"color:#ff5f27;\"> Next Steps</span>\n",
    "\n",
    "In the next notebook, we will train a model on the Training Dataset we created in this notebook."
   ]
  }
 ],
 "metadata": {
  "kernelspec": {
   "display_name": "Python",
   "language": "python",
   "name": "python3"
  },
  "language_info": {
   "codemirror_mode": {
    "name": "ipython",
    "version": 3
   },
   "file_extension": ".py",
   "mimetype": "text/x-python",
   "name": "python",
   "nbconvert_exporter": "python",
   "pygments_lexer": "ipython3",
   "version": "3.8.11"
  }
 },
 "nbformat": 4,
 "nbformat_minor": 5
}