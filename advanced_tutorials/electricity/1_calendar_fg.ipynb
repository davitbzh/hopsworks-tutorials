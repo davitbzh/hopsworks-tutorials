{
 "cells": [
  {
   "cell_type": "markdown",
   "id": "c6e9cf21",
   "metadata": {},
   "source": [
    "## <span style=\"color:#ff5f27;\"> 📝 Imports</span>"
   ]
  },
  {
   "cell_type": "code",
   "execution_count": 1,
   "id": "3678889f",
   "metadata": {},
   "outputs": [],
   "source": [
    "import pandas as pd\n",
    "import numpy as np\n",
    "import random\n",
    "from datetime import datetime\n",
    "\n",
    "import matplotlib.pyplot as plt\n",
    "\n",
    "import warnings\n",
    "warnings.filterwarnings('ignore')"
   ]
  },
  {
   "cell_type": "code",
   "execution_count": 2,
   "id": "4fe3c843",
   "metadata": {},
   "outputs": [
    {
     "data": {
      "text/plain": [
       "'hdfs://rpc.namenode.service.consul:8020/Projects/electricity/'"
      ]
     },
     "execution_count": 2,
     "metadata": {},
     "output_type": "execute_result"
    }
   ],
   "source": [
    "from hops import hdfs\n",
    "\n",
    "project_path = hdfs.project_path()\n",
    "\n",
    "project_path"
   ]
  },
  {
   "cell_type": "markdown",
   "id": "e6897c22",
   "metadata": {},
   "source": [
    "## <span style=\"color:#ff5f27;\"> 🔮 Connecting to Hopsworks Feature Store </span>"
   ]
  },
  {
   "cell_type": "code",
   "execution_count": 3,
   "id": "60cf6c26",
   "metadata": {},
   "outputs": [
    {
     "name": "stdout",
     "output_type": "stream",
     "text": [
      "Connected. Call `.close()` to terminate connection gracefully.\n",
      "\n",
      "Logged in to project, explore it here https://ed408010-19ac-11ed-9333-c9e9623aac8a.cloud.hopsworks.ai/p/120\n",
      "Connected. Call `.close()` to terminate connection gracefully.\n"
     ]
    }
   ],
   "source": [
    "import hopsworks\n",
    "\n",
    "project = hopsworks.login()\n",
    "\n",
    "fs = project.get_feature_store() "
   ]
  },
  {
   "cell_type": "markdown",
   "id": "1bda60a1",
   "metadata": {},
   "source": [
    "## <span style=\"color:#ff5f27;\">🧑🏻‍🏫 Functions</span>"
   ]
  },
  {
   "cell_type": "code",
   "execution_count": 4,
   "id": "2311f6cb",
   "metadata": {},
   "outputs": [],
   "source": [
    "def get_data(data_path):\n",
    "    df = pd.read_csv(data_path,\n",
    "        index_col = 0,\n",
    "        parse_dates = ['date']\n",
    "    ).dropna()\n",
    "    return df    \n",
    "\n",
    "\n",
    "def timestamp_2_time(x):\n",
    "    dt_obj = datetime.strptime(str(x), '%Y-%m-%d %H:%M:%S')\n",
    "    dt_obj = dt_obj.timestamp() * 1000\n",
    "    return dt_obj\n",
    "\n",
    "\n",
    "def to_date(unix):\n",
    "    return datetime.utcfromtimestamp(unix / 1000).strftime('%Y-%m-%d %H:%M:%S')\n",
    "\n",
    "\n",
    "def feature_engineering(df):\n",
    "    df[['holiday','school_day']] = df[['holiday','school_day']].apply(lambda x: x.map({'Y': 1, 'N': 0}))\n",
    "    if type(df.date[0]) != np.int64:\n",
    "        df.date = df.date.apply(lambda x: timestamp_2_time(str(x)[:19])).astype(np.int64)\n",
    "    return df\n",
    "\n",
    "\n",
    "def create_feature_group(data = None,name='calendar_fg',fs=fs):\n",
    "    import great_expectations as ge\n",
    "    \n",
    "    expectation_suite = ge.core.ExpectationSuite(\n",
    "        expectation_suite_name=\"Expectation Suite for Calendar Feature Group\"\n",
    "    )\n",
    "\n",
    "    expectation = ge.core.ExpectationConfiguration(\n",
    "       expectation_type=\"expect_column_value_lengths_to_be_between\",\n",
    "       kwargs={\n",
    "          \"column\": \"school_day\",\n",
    "          \"min_value\": 1,\n",
    "           \"max_value\": 1,\n",
    "       },\n",
    "        meta={\n",
    "          \"notes\": {\n",
    "             \"format\": \"markdown\",\n",
    "             \"content\": \"Possible values for `holiday` column are **Y** and **No**. *Meaning*: is a specific day a holiday or not.\"\n",
    "          }\n",
    "       }\n",
    "    )\n",
    "\n",
    "    expectation_suite.add_expectation(expectation)\n",
    "    \n",
    "    feature_group = fs.get_or_create_feature_group(\n",
    "        name=name,\n",
    "        description = 'Characteristics of each day',\n",
    "        version = 1,\n",
    "        primary_key = ['index'],\n",
    "        online_enabled = True,\n",
    "        event_time = ['date'],\n",
    "        expectation_suite=expectation_suite\n",
    "    )\n",
    "        \n",
    "    feature_group.insert(data.reset_index())\n",
    "    \n",
    "    return feature_group\n",
    "\n",
    "\n",
    "def retrieve_feature_group(name='calendar_fg',fs=fs):\n",
    "    feature_group = fs.get_feature_group(\n",
    "        name=name,\n",
    "        version=1\n",
    "    )\n",
    "    return feature_group"
   ]
  },
  {
   "cell_type": "markdown",
   "id": "7e64fee3",
   "metadata": {},
   "source": [
    "## <span style=\"color:#ff5f27;\">🪄 👩🏻‍🔬 Retrieving or Creating Feature Group</span>"
   ]
  },
  {
   "cell_type": "code",
   "execution_count": 5,
   "id": "70f9d59e",
   "metadata": {},
   "outputs": [
    {
     "name": "stdout",
     "output_type": "stream",
     "text": [
      "2022-08-22 08:09:14,653 INFO: USE `electricity_featurestore`\n",
      "2022-08-22 08:09:15,340 INFO: SELECT `fg0`.`index` `index`, `fg0`.`date` `date`, `fg0`.`school_day` `school_day`, `fg0`.`holiday` `holiday`\n",
      "FROM `electricity_featurestore`.`calendar_fg_1` `fg0`\n"
     ]
    }
   ],
   "source": [
    "try:\n",
    "    feature_group = retrieve_feature_group()\n",
    "    df_calendar = feature_group.read()\n",
    "    indexes = df_calendar.pop('index')\n",
    "    \n",
    "except: \n",
    "    DATA_PATH = project_path + 'Jupyter/data/calendar.csv'\n",
    "    \n",
    "    df_calendar = get_data(DATA_PATH)\n",
    "    feature_engineering(df_calendar)\n",
    "    \n",
    "    feature_group = create_feature_group(df_calendar)"
   ]
  },
  {
   "cell_type": "code",
   "execution_count": 6,
   "id": "06b1c93a",
   "metadata": {},
   "outputs": [
    {
     "data": {
      "text/html": [
       "<div>\n",
       "<style scoped>\n",
       "    .dataframe tbody tr th:only-of-type {\n",
       "        vertical-align: middle;\n",
       "    }\n",
       "\n",
       "    .dataframe tbody tr th {\n",
       "        vertical-align: top;\n",
       "    }\n",
       "\n",
       "    .dataframe thead th {\n",
       "        text-align: right;\n",
       "    }\n",
       "</style>\n",
       "<table border=\"1\" class=\"dataframe\">\n",
       "  <thead>\n",
       "    <tr style=\"text-align: right;\">\n",
       "      <th></th>\n",
       "      <th>date</th>\n",
       "      <th>school_day</th>\n",
       "      <th>holiday</th>\n",
       "    </tr>\n",
       "  </thead>\n",
       "  <tbody>\n",
       "    <tr>\n",
       "      <th>0</th>\n",
       "      <td>1583020800000</td>\n",
       "      <td>1</td>\n",
       "      <td>0</td>\n",
       "    </tr>\n",
       "    <tr>\n",
       "      <th>1</th>\n",
       "      <td>1596240000000</td>\n",
       "      <td>1</td>\n",
       "      <td>0</td>\n",
       "    </tr>\n",
       "    <tr>\n",
       "      <th>2</th>\n",
       "      <td>1536451200000</td>\n",
       "      <td>1</td>\n",
       "      <td>0</td>\n",
       "    </tr>\n",
       "    <tr>\n",
       "      <th>3</th>\n",
       "      <td>1474848000000</td>\n",
       "      <td>0</td>\n",
       "      <td>0</td>\n",
       "    </tr>\n",
       "    <tr>\n",
       "      <th>4</th>\n",
       "      <td>1420761600000</td>\n",
       "      <td>0</td>\n",
       "      <td>0</td>\n",
       "    </tr>\n",
       "  </tbody>\n",
       "</table>\n",
       "</div>"
      ],
      "text/plain": [
       "            date  school_day  holiday\n",
       "0  1583020800000           1        0\n",
       "1  1596240000000           1        0\n",
       "2  1536451200000           1        0\n",
       "3  1474848000000           0        0\n",
       "4  1420761600000           0        0"
      ]
     },
     "execution_count": 6,
     "metadata": {},
     "output_type": "execute_result"
    }
   ],
   "source": [
    "df_calendar.head()"
   ]
  },
  {
   "cell_type": "markdown",
   "id": "c09ee55e",
   "metadata": {},
   "source": [
    "## <span style=\"color:#ff5f27;\">🕵🏻‍♂️ Data Exploration</span>"
   ]
  },
  {
   "cell_type": "code",
   "execution_count": 7,
   "id": "b917973c",
   "metadata": {},
   "outputs": [
    {
     "data": {
      "image/png": "[encoded data removed]",
      "text/plain": [
       "<Figure size 1600x600 with 2 Axes>"
      ]
     },
     "metadata": {},
     "output_type": "display_data"
    }
   ],
   "source": [
    "fig,ax = plt.subplots(1,2,figsize = (16,6))\n",
    "\n",
    "ax[0].pie(\n",
    "    df_calendar.school_day.value_counts(),\n",
    "    labels = ['Yes','No'],\n",
    "    explode = [0.1, 0],\n",
    "    shadow=True,\n",
    "    autopct='%1.1f%%',\n",
    "    radius = 1.1\n",
    ")\n",
    "\n",
    "ax[1].pie(\n",
    "    df_calendar.holiday.value_counts(),\n",
    "    labels = ['Yes','No'],\n",
    "    explode = [0.35, 0],\n",
    "    shadow=True,\n",
    "    autopct='%1.1f%%',\n",
    "    radius = 1.1\n",
    ")\n",
    "\n",
    "ax[0].set_title(\"Ratio of School Days or Not\", fontsize = 15)\n",
    "ax[1].set_title(\"Ratio of Holidays or Not\", fontsize = 15)\n",
    "\n",
    "plt.show()"
   ]
  },
  {
   "cell_type": "markdown",
   "id": "e064227b",
   "metadata": {},
   "source": [
    "## <span style=\"color:#ff5f27;\">🧬 Data Generation</span>"
   ]
  },
  {
   "cell_type": "code",
   "execution_count": 8,
   "id": "23ba626f",
   "metadata": {},
   "outputs": [],
   "source": [
    "date_window = 24*60*60*1000"
   ]
  },
  {
   "cell_type": "code",
   "execution_count": 9,
   "id": "c640cbdc",
   "metadata": {},
   "outputs": [],
   "source": [
    "def generate_observation(columns):\n",
    "    return [random.choice(['Y','N'],) for col in columns[1:]]\n",
    "\n",
    "def generate_data(df,amount = 1,date_window = date_window):\n",
    "    df_last = df.sort_values('date').date.iloc[-1]\n",
    "    df_generated = pd.DataFrame(columns = ['date',*df.columns[1:]])\n",
    "    for i in range(1, amount + 1):\n",
    "        df_generated.loc[len(df_generated)] = [df_last + date_window * i,*generate_observation(df.columns)]\n",
    "    return df_generated.astype({'date':int})\n",
    "\n",
    "def append_generated_data(df,amount = 1,date_window = date_window):\n",
    "    df_last = df.sort_values('date').date.iloc[-1]\n",
    "    for i in range(1, amount + 1):\n",
    "        df.loc[len(df)] = [df_last + date_window,*generate_observation(df.columns)]\n",
    "    return df"
   ]
  },
  {
   "cell_type": "markdown",
   "id": "9b9c5532",
   "metadata": {},
   "source": [
    "## <span style=\"color:#ff5f27;\">👩🏻‍⚖️ 🪄 Validation and Insertion of Generated Data</span>"
   ]
  },
  {
   "cell_type": "code",
   "execution_count": 10,
   "id": "e2d8b7a2",
   "metadata": {},
   "outputs": [],
   "source": [
    "def add_indexes(df,indexes=None):\n",
    "    if indexes is None:\n",
    "        return df.reset_index()\n",
    "    df.reset_index(inplace = True)\n",
    "    df['index'] = df['index'] + indexes.max() + 1\n",
    "    return df"
   ]
  },
  {
   "cell_type": "code",
   "execution_count": 11,
   "id": "77775310",
   "metadata": {},
   "outputs": [
    {
     "data": {
      "text/html": [
       "<div>\n",
       "<style scoped>\n",
       "    .dataframe tbody tr th:only-of-type {\n",
       "        vertical-align: middle;\n",
       "    }\n",
       "\n",
       "    .dataframe tbody tr th {\n",
       "        vertical-align: top;\n",
       "    }\n",
       "\n",
       "    .dataframe thead th {\n",
       "        text-align: right;\n",
       "    }\n",
       "</style>\n",
       "<table border=\"1\" class=\"dataframe\">\n",
       "  <thead>\n",
       "    <tr style=\"text-align: right;\">\n",
       "      <th></th>\n",
       "      <th>index</th>\n",
       "      <th>date</th>\n",
       "      <th>school_day</th>\n",
       "      <th>holiday</th>\n",
       "    </tr>\n",
       "  </thead>\n",
       "  <tbody>\n",
       "    <tr>\n",
       "      <th>0</th>\n",
       "      <td>0</td>\n",
       "      <td>1606348800000</td>\n",
       "      <td>1</td>\n",
       "      <td>1</td>\n",
       "    </tr>\n",
       "    <tr>\n",
       "      <th>1</th>\n",
       "      <td>1</td>\n",
       "      <td>1606435200000</td>\n",
       "      <td>0</td>\n",
       "      <td>0</td>\n",
       "    </tr>\n",
       "    <tr>\n",
       "      <th>2</th>\n",
       "      <td>2</td>\n",
       "      <td>1606521600000</td>\n",
       "      <td>1</td>\n",
       "      <td>1</td>\n",
       "    </tr>\n",
       "    <tr>\n",
       "      <th>3</th>\n",
       "      <td>3</td>\n",
       "      <td>1606608000000</td>\n",
       "      <td>0</td>\n",
       "      <td>1</td>\n",
       "    </tr>\n",
       "    <tr>\n",
       "      <th>4</th>\n",
       "      <td>4</td>\n",
       "      <td>1606694400000</td>\n",
       "      <td>1</td>\n",
       "      <td>0</td>\n",
       "    </tr>\n",
       "  </tbody>\n",
       "</table>\n",
       "</div>"
      ],
      "text/plain": [
       "   index           date  school_day  holiday\n",
       "0      0  1606348800000           1        1\n",
       "1      1  1606435200000           0        0\n",
       "2      2  1606521600000           1        1\n",
       "3      3  1606608000000           0        1\n",
       "4      4  1606694400000           1        0"
      ]
     },
     "execution_count": 11,
     "metadata": {},
     "output_type": "execute_result"
    }
   ],
   "source": [
    "generated_data = generate_data(df_calendar,50)\n",
    "feature_engineering(generated_data)\n",
    "\n",
    "try: \n",
    "    generated_data = add_indexes(generated_data,indexes)\n",
    "except:\n",
    "    generated_data = add_indexes(generated_data)\n",
    "\n",
    "generated_data.head()"
   ]
  },
  {
   "cell_type": "code",
   "execution_count": 12,
   "id": "2fa558be",
   "metadata": {},
   "outputs": [
    {
     "name": "stdout",
     "output_type": "stream",
     "text": [
      "2022-08-22 08:09:17,437 INFO: \t1 expectation(s) included in expectation_suite.\n",
      "Validation Report saved successfully, explore a summary at https://ed408010-19ac-11ed-9333-c9e9623aac8a.cloud.hopsworks.ai/p/120/fs/68/fg/4109\n"
     ]
    },
    {
     "data": {
      "application/vnd.jupyter.widget-view+json": {
       "model_id": "89bf7eb5e6724327b1f62ef3a29d3305",
       "version_major": 2,
       "version_minor": 0
      },
      "text/plain": [
       "Uploading Dataframe: 0.00% |          | Rows 0/50 | Elapsed Time: 00:00 | Remaining Time: ?"
      ]
     },
     "metadata": {},
     "output_type": "display_data"
    },
    {
     "name": "stdout",
     "output_type": "stream",
     "text": [
      "Launching offline feature group backfill job...\n",
      "Backfill Job started successfully, you can follow the progress at \n",
      "https://ed408010-19ac-11ed-9333-c9e9623aac8a.cloud.hopsworks.ai/p/120/jobs/named/calendar_fg_1_offline_fg_backfill/executions\n"
     ]
    },
    {
     "data": {
      "text/plain": [
       "(<hsfs.core.job.Job at 0x7fa1e3703f10>,\n",
       " {\n",
       "   \"evaluation_parameters\": {},\n",
       "   \"meta\": {\n",
       "     \"great_expectations_version\": \"0.14.3\",\n",
       "     \"expectation_suite_name\": \"Expectation Suite for Calendar Feature Group\",\n",
       "     \"run_id\": {\n",
       "       \"run_time\": \"2022-08-22T08:09:17.437459+00:00\",\n",
       "       \"run_name\": null\n",
       "     },\n",
       "     \"batch_kwargs\": {\n",
       "       \"ge_batch_id\": \"b7e3f58a-21f1-11ed-953f-3e12410945e9\"\n",
       "     },\n",
       "     \"batch_markers\": {},\n",
       "     \"batch_parameters\": {},\n",
       "     \"validation_time\": \"20220822T080917.437331Z\",\n",
       "     \"expectation_suite_meta\": {\n",
       "       \"great_expectations_version\": \"0.14.3\"\n",
       "     }\n",
       "   },\n",
       "   \"results\": [\n",
       "     {\n",
       "       \"result\": {\n",
       "         \"element_count\": 50,\n",
       "         \"missing_count\": 0,\n",
       "         \"missing_percent\": 0.0,\n",
       "         \"unexpected_count\": 0,\n",
       "         \"unexpected_percent\": 0.0,\n",
       "         \"unexpected_percent_total\": 0.0,\n",
       "         \"unexpected_percent_nonmissing\": 0.0,\n",
       "         \"partial_unexpected_list\": []\n",
       "       },\n",
       "       \"exception_info\": {\n",
       "         \"raised_exception\": false,\n",
       "         \"exception_message\": null,\n",
       "         \"exception_traceback\": null\n",
       "       },\n",
       "       \"meta\": {},\n",
       "       \"success\": true,\n",
       "       \"expectation_config\": {\n",
       "         \"kwargs\": {\n",
       "           \"column\": \"school_day\",\n",
       "           \"min_value\": 1,\n",
       "           \"max_value\": 1\n",
       "         },\n",
       "         \"expectation_type\": \"expect_column_value_lengths_to_be_between\",\n",
       "         \"meta\": {\n",
       "           \"notes\": {\n",
       "             \"format\": \"markdown\",\n",
       "             \"content\": \"Possible values for `holiday` column are **Y** and **No**. *Meaning*: is a specific day a holiday or not.\"\n",
       "           },\n",
       "           \"expectationId\": 4097\n",
       "         }\n",
       "       }\n",
       "     }\n",
       "   ],\n",
       "   \"success\": true,\n",
       "   \"statistics\": {\n",
       "     \"evaluated_expectations\": 1,\n",
       "     \"successful_expectations\": 1,\n",
       "     \"unsuccessful_expectations\": 0,\n",
       "     \"success_percent\": 100.0\n",
       "   }\n",
       " })"
      ]
     },
     "execution_count": 12,
     "metadata": {},
     "output_type": "execute_result"
    }
   ],
   "source": [
    "feature_group.insert(generated_data)"
   ]
  }
 ],
 "metadata": {
  "kernelspec": {
   "display_name": "Python",
   "language": "python",
   "name": "python3"
  },
  "language_info": {
   "codemirror_mode": {
    "name": "ipython",
    "version": 3
   },
   "file_extension": ".py",
   "mimetype": "text/x-python",
   "name": "python",
   "nbconvert_exporter": "python",
   "pygments_lexer": "ipython3",
   "version": "3.8.11"
  }
 },
 "nbformat": 4,
 "nbformat_minor": 5
}