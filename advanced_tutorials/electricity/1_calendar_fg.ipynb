{
 "cells": [
  {
   "cell_type": "markdown",
   "id": "c6e9cf21",
   "metadata": {},
   "source": [
    "## <span style=\"color:#ff5f27;\"> 📝 Imports</span>"
   ]
  },
  {
   "cell_type": "code",
   "execution_count": null,
   "id": "3678889f",
   "metadata": {},
   "outputs": [],
   "source": [
    "import pandas as pd\n",
    "import numpy as np\n",
    "import random\n",
    "from datetime import datetime\n",
    "\n",
    "import matplotlib.pyplot as plt\n",
    "\n",
    "import warnings\n",
    "warnings.filterwarnings('ignore')"
   ]
  },
  {
   "cell_type": "markdown",
   "id": "e6897c22",
   "metadata": {},
   "source": [
    "## <span style=\"color:#ff5f27;\"> 🔮 Connecting to Hopsworks Feature Store </span>"
   ]
  },
  {
   "cell_type": "code",
   "execution_count": null,
   "id": "60cf6c26",
   "metadata": {},
   "outputs": [],
   "source": [
    "import hopsworks\n",
    "\n",
    "project = hopsworks.login()\n",
    "\n",
    "fs = project.get_feature_store() "
   ]
  },
  {
   "cell_type": "markdown",
   "id": "1bda60a1",
   "metadata": {},
   "source": [
    "## <span style=\"color:#ff5f27;\">🧑🏻‍🏫 Functions</span>"
   ]
  },
  {
   "cell_type": "code",
   "execution_count": null,
   "id": "2311f6cb",
   "metadata": {},
   "outputs": [],
   "source": [
    "def get_data(data_path):\n",
    "    df = pd.read_csv(data_path,\n",
    "        index_col = 0,\n",
    "        parse_dates = ['date']\n",
    "    ).dropna()\n",
    "    return df    \n",
    "\n",
    "\n",
    "def timestamp_2_time(x):\n",
    "    dt_obj = datetime.strptime(str(x), '%Y-%m-%d %H:%M:%S')\n",
    "    dt_obj = dt_obj.timestamp() * 1000\n",
    "    return dt_obj\n",
    "\n",
    "\n",
    "def to_date(unix):\n",
    "    return datetime.utcfromtimestamp(unix / 1000).strftime('%Y-%m-%d %H:%M:%S')\n",
    "\n",
    "\n",
    "def feature_engineering(df):\n",
    "    df[['holiday','school_day']] = df[['holiday','school_day']].apply(lambda x: x.map({'Y': 1, 'N': 0}))\n",
    "    if type(df.date[0]) != np.int64:\n",
    "        df.date = df.date.apply(lambda x: timestamp_2_time(str(x)[:19])).astype(np.int64)\n",
    "    return df\n",
    "\n",
    "\n",
    "def create_feature_group(data = None,name='calendar_fg',fs=fs):\n",
    "    import great_expectations as ge\n",
    "    \n",
    "    expectation_suite = ge.core.ExpectationSuite(\n",
    "        expectation_suite_name=\"Expectation Suite for Calendar Feature Group\"\n",
    "    )\n",
    "\n",
    "    expectation = ge.core.ExpectationConfiguration(\n",
    "       expectation_type=\"expect_column_value_lengths_to_be_between\",\n",
    "       kwargs={\n",
    "          \"column\": \"school_day\",\n",
    "          \"min_value\": 1,\n",
    "           \"max_value\": 1,\n",
    "       },\n",
    "        meta={\n",
    "          \"notes\": {\n",
    "             \"format\": \"markdown\",\n",
    "             \"content\": \"Possible values for `holiday` column are **Y** and **No**. *Meaning*: is a specific day a holiday or not.\"\n",
    "          }\n",
    "       }\n",
    "    )\n",
    "\n",
    "    expectation_suite.add_expectation(expectation)\n",
    "    \n",
    "    feature_group = fs.get_or_create_feature_group(\n",
    "        name=name,\n",
    "        description = 'Characteristics of each day',\n",
    "        version = 1,\n",
    "        primary_key = ['index'],\n",
    "        online_enabled = True,\n",
    "        event_time = ['date'],\n",
    "        expectation_suite=expectation_suite\n",
    "    )\n",
    "        \n",
    "    feature_group.insert(data.reset_index())\n",
    "    \n",
    "    return feature_group\n",
    "\n",
    "\n",
    "def retrieve_feature_group(name='calendar_fg',fs=fs):\n",
    "    feature_group = fs.get_feature_group(\n",
    "        name=name,\n",
    "        version=1\n",
    "    )\n",
    "    return feature_group"
   ]
  },
  {
   "cell_type": "markdown",
   "id": "7e64fee3",
   "metadata": {},
   "source": [
    "## <span style=\"color:#ff5f27;\">🪄 👩🏻‍🔬 Retrieving or Creating Feature Group</span>"
   ]
  },
  {
   "cell_type": "code",
   "execution_count": null,
   "id": "70f9d59e",
   "metadata": {},
   "outputs": [],
   "source": [
    "try:\n",
    "    feature_group = retrieve_feature_group()\n",
    "    df_calendar = feature_group.read()\n",
    "    indexes = df_calendar.pop('index')\n",
    "    \n",
    "except: \n",
    "    DATA_PATH = './data/calendar.csv'\n",
    "    \n",
    "    df_calendar = get_data(DATA_PATH)\n",
    "    feature_engineering(df_calendar)\n",
    "    \n",
    "    feature_group = create_feature_group(df_calendar)"
   ]
  },
  {
   "cell_type": "code",
   "execution_count": null,
   "id": "06b1c93a",
   "metadata": {},
   "outputs": [],
   "source": [
    "df_calendar.head()"
   ]
  },
  {
   "cell_type": "markdown",
   "id": "c09ee55e",
   "metadata": {},
   "source": [
    "## <span style=\"color:#ff5f27;\">🕵🏻‍♂️ Data Exploration</span>"
   ]
  },
  {
   "cell_type": "code",
   "execution_count": null,
   "id": "b917973c",
   "metadata": {},
   "outputs": [],
   "source": [
    "fig,ax = plt.subplots(1,2,figsize = (16,6))\n",
    "\n",
    "ax[0].pie(\n",
    "    df_calendar.school_day.value_counts(),\n",
    "    labels = ['Yes','No'],\n",
    "    explode = [0.1, 0],\n",
    "    shadow=True,\n",
    "    autopct='%1.1f%%',\n",
    "    radius = 1.1\n",
    ")\n",
    "\n",
    "ax[1].pie(\n",
    "    df_calendar.holiday.value_counts(),\n",
    "    labels = ['Yes','No'],\n",
    "    explode = [0.35, 0],\n",
    "    shadow=True,\n",
    "    autopct='%1.1f%%',\n",
    "    radius = 1.1\n",
    ")\n",
    "\n",
    "ax[0].set_title(\"Ratio of School Days or Not\", fontsize = 15)\n",
    "ax[1].set_title(\"Ratio of Holidays or Not\", fontsize = 15)\n",
    "\n",
    "plt.show()"
   ]
  },
  {
   "cell_type": "markdown",
   "id": "e064227b",
   "metadata": {},
   "source": [
    "## <span style=\"color:#ff5f27;\">🧬 Data Generation</span>"
   ]
  },
  {
   "cell_type": "code",
   "execution_count": null,
   "id": "23ba626f",
   "metadata": {},
   "outputs": [],
   "source": [
    "date_window = 24*60*60*1000"
   ]
  },
  {
   "cell_type": "code",
   "execution_count": null,
   "id": "c640cbdc",
   "metadata": {},
   "outputs": [],
   "source": [
    "def generate_observation(columns):\n",
    "    return [random.choice(['Y','N'],) for col in columns[1:]]\n",
    "\n",
    "def generate_data(df,amount = 1,date_window = date_window):\n",
    "    df_last = df.sort_values('date').date.iloc[-1]\n",
    "    df_generated = pd.DataFrame(columns = ['date',*df.columns[1:]])\n",
    "    for i in range(1, amount + 1):\n",
    "        df_generated.loc[len(df_generated)] = [df_last + date_window * i,*generate_observation(df.columns)]\n",
    "    return df_generated.astype({'date':int})\n",
    "\n",
    "def append_generated_data(df,amount = 1,date_window = date_window):\n",
    "    df_last = df.sort_values('date').date.iloc[-1]\n",
    "    for i in range(1, amount + 1):\n",
    "        df.loc[len(df)] = [df_last + date_window,*generate_observation(df.columns)]\n",
    "    return df"
   ]
  },
  {
   "cell_type": "markdown",
   "id": "9b9c5532",
   "metadata": {},
   "source": [
    "## <span style=\"color:#ff5f27;\">👩🏻‍⚖️ 🪄 Validation and Insertion of Generated Data</span>"
   ]
  },
  {
   "cell_type": "code",
   "execution_count": null,
   "id": "e2d8b7a2",
   "metadata": {},
   "outputs": [],
   "source": [
    "def add_indexes(df,indexes=None):\n",
    "    if indexes is None:\n",
    "        return df.reset_index()\n",
    "    df.reset_index(inplace = True)\n",
    "    df['index'] = df['index'] + indexes.max() + 1\n",
    "    return df"
   ]
  },
  {
   "cell_type": "code",
   "execution_count": null,
   "id": "77775310",
   "metadata": {},
   "outputs": [],
   "source": [
    "generated_data = generate_data(df_calendar,50)\n",
    "feature_engineering(generated_data)\n",
    "\n",
    "try: \n",
    "    generated_data = add_indexes(generated_data,indexes)\n",
    "except:\n",
    "    generated_data = add_indexes(generated_data)\n",
    "\n",
    "generated_data.head()"
   ]
  },
  {
   "cell_type": "code",
   "execution_count": null,
   "id": "2fa558be",
   "metadata": {},
   "outputs": [],
   "source": [
    "feature_group.insert(generated_data)"
   ]
  }
 ],
 "metadata": {
  "kernelspec": {
   "display_name": "Python 3 (ipykernel)",
   "language": "python",
   "name": "python3"
  },
  "language_info": {
   "codemirror_mode": {
    "name": "ipython",
    "version": 3
   },
   "file_extension": ".py",
   "mimetype": "text/x-python",
   "name": "python",
   "nbconvert_exporter": "python",
   "pygments_lexer": "ipython3",
   "version": "3.9.12"
  },
  "vscode": {
   "interpreter": {
    "hash": "190ea7959a836f4799545ea0f3718ade3abee093b15861ffdc25233d6ab7050e"
   }
  }
 },
 "nbformat": 4,
 "nbformat_minor": 5
}
