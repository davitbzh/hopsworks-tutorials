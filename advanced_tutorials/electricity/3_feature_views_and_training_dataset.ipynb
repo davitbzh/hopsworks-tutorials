{
 "cells": [
  {
   "cell_type": "markdown",
   "id": "2db449d8",
   "metadata": {},
   "source": [
    "# <span style=\"font-width:bold; font-size: 3rem; color:#1EB182;\"><img src=\"../../images/icon102.png\" width=\"38px\"></img> **Hopsworks Feature Store** </span><span style=\"font-width:bold; font-size: 3rem; color:#333;\">- Part 02: Training Data & Feature views</span>\n",
    "\n",
    "<span style=\"font-width:bold; font-size: 1.4rem;\"> This notebook explains how to read from a feature group and create training dataset within the feature store</span>\n",
    "\n",
    "## 🗒️ In this notebook you will see how to create a training dataset from the feature groups:\n",
    "1. **Select the features** you want to train our model on,\n",
    "2. **How the features should be preprocessed,**\n",
    "3. **Create a dataset split** for training, validation and test data.\n",
    "\n",
    "![tutorial-flow](../../images/02_training-dataset.png) "
   ]
  },
  {
   "cell_type": "code",
   "execution_count": 1,
   "id": "c34d0d89",
   "metadata": {},
   "outputs": [
    {
     "name": "stdout",
     "output_type": "stream",
     "text": [
      "Connected. Call `.close()` to terminate connection gracefully.\n",
      "\n",
      "Logged in to project, explore it here https://c.app.hopsworks.ai:443/p/258\n",
      "Connected. Call `.close()` to terminate connection gracefully.\n"
     ]
    },
    {
     "name": "stderr",
     "output_type": "stream",
     "text": [
      "DeprecationWarning: the imp module is deprecated in favour of importlib; see the module's documentation for alternative uses\n"
     ]
    }
   ],
   "source": [
    "import hopsworks\n",
    "\n",
    "project = hopsworks.login()\n",
    "\n",
    "fs = project.get_feature_store() "
   ]
  },
  {
   "cell_type": "markdown",
   "id": "f6e12160",
   "metadata": {},
   "source": [
    "## <span style=\"color:#ff5f27;\"> 🔪 Feature Selection </span>\n",
    "\n",
    "You will start by selecting all the features you want to include for model training/inference."
   ]
  },
  {
   "cell_type": "code",
   "execution_count": 2,
   "id": "26448f26",
   "metadata": {},
   "outputs": [],
   "source": [
    "# Load feature groups.\n",
    "meteorological_measurements_fg = fs.get_or_create_feature_group(\n",
    "    name = 'meteorological_measurements_fg',\n",
    "    version = 1\n",
    ")"
   ]
  },
  {
   "cell_type": "code",
   "execution_count": 3,
   "id": "423a98ba",
   "metadata": {},
   "outputs": [],
   "source": [
    "week_days_electricity_prices_fg = fs.get_or_create_feature_group(\n",
    "    name = 'week_days_electricity_prices_fg',\n",
    "    version = 1\n",
    ")"
   ]
  },
  {
   "cell_type": "code",
   "execution_count": 4,
   "id": "de68c02e",
   "metadata": {},
   "outputs": [],
   "source": [
    "intra_day_electricity_prices_fg = fs.get_or_create_feature_group(\n",
    "    name = 'intra_day_electricity_prices_fg',\n",
    "    version = 1\n",
    ")"
   ]
  },
  {
   "cell_type": "markdown",
   "id": "f67795d1",
   "metadata": {},
   "source": [
    "## <span style=\"color:#ff5f27;\">💼 Query Preparation</span>"
   ]
  },
  {
   "cell_type": "code",
   "execution_count": null,
   "id": "2f2871f5",
   "metadata": {},
   "outputs": [],
   "source": [
    "# Select features for training data.\n",
    "fg_query = intra_day_electricity_prices_fg.select_all()\\\n",
    "                        .join(\n",
    "                            meteorological_measurements_fg.select_all()\n",
    "                        )\\\n",
    "                        .join(\n",
    "                            week_days_electricity_prices_fg.select_all()\n",
    "                        )\n",
    "fg_query.show(5)\n",
    "\n",
    "# uncomment this if you would like to view query results\n",
    "#fg_query.show(5)"
   ]
  },
  {
   "cell_type": "markdown",
   "id": "92f3cc10",
   "metadata": {},
   "source": [
    "🤖 Transformation Functions </span>\n",
    "\n",
    "Hopsworks Feature Store provides functionality to attach transformation functions to feature views and comes with built-in transformation functions such as `min_max_scaler`, `standard_scaler`, `robust_scaler` and `label_encoder`.\n",
    "\n",
    "You will preprocess our data using *min-max scaling* on numerical features and *label encoding* on categorical features. To do this you simply define a mapping between our features and transformation functions. This ensures that transformation functions such as *min-max scaling* are fitted only on the training data (and not the validation/test data), which ensures that there is no data leakage."
   ]
  },
  {
   "cell_type": "code",
   "execution_count": 6,
   "id": "db1f7719",
   "metadata": {},
   "outputs": [],
   "source": [
    "# Load transformation functions.\n",
    "standard_scaler = fs.get_transformation_function(name = 'standard_scaler')\n",
    "label_encoder = fs.get_transformation_function(name = 'label_encoder')\n",
    "\n",
    "#Map features to transformations.\n",
    "mapping_transformers = {\n",
    "    \"price\": standard_scaler,\n",
    "    \"mean_temp_per_day\": standard_scaler,\n",
    "    \"mean_wind_speed\": standard_scaler,\n",
    "    \"precipitaton_amount\": standard_scaler,\n",
    "    \"total_sunshine_time\": standard_scaler,\n",
    "    \"mean_cloud_perc\": standard_scaler,\n",
    "    \n",
    "    \"area\": label_encoder,\n",
    "    \"precipitaton_type\": label_encoder,\n",
    "    \"type_of_day\": label_encoder\n",
    "}"
   ]
  },
  {
   "cell_type": "markdown",
   "id": "ffb34ff7",
   "metadata": {},
   "source": [
    "---\n",
    "\n",
    "## <span style=\"color:#ff5f27;\"> ⚙️ Feature View Creation </span>\n",
    "\n",
    "`Feature Views` stands between **Feature Groups** and **Training Dataset**. Сombining **Feature Groups** we can create **Feature Views** which store a metadata of our data. Having **Feature Views** we can create **Training Dataset**.\n",
    "\n",
    "The Feature Views allows schema in form of a query with filters, define a model target feature/label and additional transformation functions.\n",
    "\n",
    "In order to create Feature View we can use `FeatureStore.create_feature_view()` method.\n",
    "\n",
    "We can specify next parameters:\n",
    "\n",
    "- `name` - name of a feature group.\n",
    "\n",
    "- `version` - version of a feature group.\n",
    "\n",
    "- `labels`- our target variable.\n",
    "\n",
    "- `transformation_functions` - functions to transform our features.\n",
    "\n",
    "- `query` - query object with data."
   ]
  },
  {
   "cell_type": "code",
   "execution_count": 9,
   "id": "efc5ca56",
   "metadata": {},
   "outputs": [
    {
     "name": "stdout",
     "output_type": "stream",
     "text": [
      "Feature view created successfully, explore it at \n",
      "https://c.app.hopsworks.ai:443/p/258/fs/198/fv/electricity_feature_view/version/1\n"
     ]
    }
   ],
   "source": [
    "feature_view = fs.create_feature_view(\n",
    "    name = 'electricity_feature_view',\n",
    "    version = 1,\n",
    "    transformation_functions = mapping_transformers,\n",
    "    query = fg_query\n",
    ")"
   ]
  },
  {
   "cell_type": "code",
   "execution_count": 10,
   "id": "a5dafcc5",
   "metadata": {},
   "outputs": [
    {
     "data": {
      "text/plain": [
       "<hsfs.feature_view.FeatureView at 0x7fbbdae10c70>"
      ]
     },
     "execution_count": 10,
     "metadata": {},
     "output_type": "execute_result"
    }
   ],
   "source": [
    "feature_view"
   ]
  },
  {
   "cell_type": "markdown",
   "id": "4f982fdb",
   "metadata": {},
   "source": [
    "For now `Feature View` is saved in Hopsworks and we can retrieve it using `FeatureStore.get_feature_view()`."
   ]
  },
  {
   "cell_type": "code",
   "execution_count": 11,
   "id": "c041ba34",
   "metadata": {},
   "outputs": [],
   "source": [
    "feature_view = fs.get_feature_view(\n",
    "    name = 'electricity_feature_view',\n",
    "    version = 1\n",
    ")"
   ]
  },
  {
   "cell_type": "code",
   "execution_count": 12,
   "id": "612c9e9b",
   "metadata": {},
   "outputs": [
    {
     "data": {
      "text/plain": [
       "1"
      ]
     },
     "execution_count": 12,
     "metadata": {},
     "output_type": "execute_result"
    }
   ],
   "source": [
    "feature_view.version"
   ]
  },
  {
   "cell_type": "markdown",
   "id": "a04075a4",
   "metadata": {},
   "source": [
    "---\n",
    "\n",
    "## <span style=\"color:#ff5f27;\"> 🏋️ Training Dataset Creation</span>\n",
    "\n",
    "In Hopsworks training data is a query where the projection (set of features) is determined by the parent FeatureView with an optional snapshot on disk of the data returned by the query.\n",
    "\n",
    "**Training Dataset  may contain splits such as:** \n",
    "* Training set - the subset of training data used to train a model.\n",
    "* Validation set - the subset of training data used to evaluate hparams when training a model\n",
    "* Test set - the holdout subset of training data used to evaluate a mode\n",
    "\n",
    "To create training dataset we use `FeatureView.create_training_data()` method.\n",
    "\n",
    "Here are some importand things:\n",
    "\n",
    "- It will inherit the name of FeatureView.\n",
    "\n",
    "- The feature store currently supports the following data formats for\n",
    "training datasets: **tfrecord, csv, tsv, parquet, avro, orc**.\n",
    "\n",
    "- We can choose necessary format using **data_format** parameter.\n",
    "\n",
    "- **start_time** and **end_time** in order to filter dataset in specific time range.\n",
    "\n",
    "- We can create **train, test** splits using `create_train_test_split()`. \n",
    "\n",
    "- We can create **train,validation, test** splits using `create_train_validation_test_splits()` methods.\n",
    "\n",
    "- The only thing is that we should specify desired ratio of splits."
   ]
  },
  {
   "cell_type": "markdown",
   "id": "b0993395",
   "metadata": {},
   "source": [
    "#### <span style=\"color:#ff5f27;\"> ⛳️ Dataset with train, test and validation splits</span>"
   ]
  },
  {
   "cell_type": "code",
   "execution_count": 13,
   "id": "15a98408",
   "metadata": {},
   "outputs": [
    {
     "name": "stdout",
     "output_type": "stream",
     "text": [
      "Training dataset job started successfully, you can follow the progress at \n",
      "https://c.app.hopsworks.ai/p/258/jobs/named/electricity_feature_view_1_1_create_fv_td_06092022201105/executions\n"
     ]
    },
    {
     "name": "stderr",
     "output_type": "stream",
     "text": [
      "VersionWarning: Incremented version to `1`.\n"
     ]
    }
   ],
   "source": [
    "# Create training datasets based event time filter\n",
    "td_jan2021_feb2022_version, td_job = feature_view.create_training_data(\n",
    "        start_time = \"20210101\",\n",
    "        end_time = \"20220228\",    \n",
    "        description = 'Electricity price prediction training dataset jan2021/feb2022',\n",
    "        data_format = \"csv\",\n",
    "        coalesce = True,\n",
    "        write_options = {'wait_for_job': True},\n",
    "    )"
   ]
  },
  {
   "cell_type": "code",
   "execution_count": 14,
   "id": "c7176cc4",
   "metadata": {},
   "outputs": [
    {
     "name": "stdout",
     "output_type": "stream",
     "text": [
      "Training dataset job started successfully, you can follow the progress at \n",
      "https://c.app.hopsworks.ai/p/258/jobs/named/electricity_feature_view_1_2_create_fv_td_06092022201217/executions\n"
     ]
    },
    {
     "name": "stderr",
     "output_type": "stream",
     "text": [
      "VersionWarning: Incremented version to `2`.\n"
     ]
    }
   ],
   "source": [
    "# Create training datasets based event time filter\n",
    "td_spring2022, td_job = feature_view.create_training_data(\n",
    "        start_time = \"20220301\",\n",
    "        end_time = \"20220531\",    \n",
    "        description = 'Electricity price prediction training dataset March/May 2022',\n",
    "        data_format = \"csv\",\n",
    "        coalesce = True,\n",
    "        write_options = {'wait_for_job': True},\n",
    "    )"
   ]
  },
  {
   "cell_type": "code",
   "execution_count": 15,
   "id": "ec0a7cbe",
   "metadata": {},
   "outputs": [
    {
     "name": "stdout",
     "output_type": "stream",
     "text": [
      "Training dataset job started successfully, you can follow the progress at \n",
      "https://c.app.hopsworks.ai/p/258/jobs/named/electricity_feature_view_1_3_create_fv_td_06092022201330/executions\n"
     ]
    },
    {
     "name": "stderr",
     "output_type": "stream",
     "text": [
      "VersionWarning: Incremented version to `3`.\n"
     ]
    }
   ],
   "source": [
    "# Create training datasets based event time filter\n",
    "td_summer2022, td_job = feature_view.create_training_data(\n",
    "        start_time = \"20220601\",\n",
    "        end_time = \"20220905\",    \n",
    "        description = 'Electricity price prediction training dataset June/August 2022',\n",
    "        data_format = \"csv\",\n",
    "        coalesce = True,\n",
    "        write_options = {'wait_for_job': True},\n",
    "    )"
   ]
  },
  {
   "cell_type": "markdown",
   "id": "cbfed4fd",
   "metadata": {},
   "source": [
    "---"
   ]
  },
  {
   "cell_type": "markdown",
   "id": "c002b082",
   "metadata": {},
   "source": [
    "### <span style=\"color:#ff5f27;\"> Next Steps</span>\n",
    "\n",
    "In the next notebook, we will train a model on the Training Dataset we created in this notebook."
   ]
  }
 ],
 "metadata": {
  "kernelspec": {
   "display_name": "Python 3 (ipykernel)",
   "language": "python",
   "name": "python3"
  },
  "language_info": {
   "codemirror_mode": {
    "name": "ipython",
    "version": 3
   },
   "file_extension": ".py",
   "mimetype": "text/x-python",
   "name": "python",
   "nbconvert_exporter": "python",
   "pygments_lexer": "ipython3",
   "version": "3.8.13"
  }
 },
 "nbformat": 4,
 "nbformat_minor": 5
}
