{
 "cells": [
  {
   "cell_type": "markdown",
   "id": "4a4b5296",
   "metadata": {},
   "source": [
    "## <span style='color:#ff5f27'> 📝 Imports"
   ]
  },
  {
   "cell_type": "code",
   "execution_count": 1,
   "id": "b6882e9a",
   "metadata": {},
   "outputs": [],
   "source": [
    "import requests\n",
    "import datetime\n",
    "from bs4 import BeautifulSoup\n",
    "import pandas as pd\n",
    "import re"
   ]
  },
  {
   "cell_type": "markdown",
   "id": "6b65f57e",
   "metadata": {},
   "source": [
    "## <span style='color:#ff5f27'> 🧑🏻‍🏫 Functions"
   ]
  },
  {
   "cell_type": "code",
   "execution_count": 2,
   "id": "aa05c439",
   "metadata": {},
   "outputs": [],
   "source": [
    "def parse_data(parser,tag: str, class_: str):\n",
    "    new_data = []\n",
    "    data = parser.find_all(tag,class_)\n",
    "    for el in data:\n",
    "        new_data.append(el.text)\n",
    "    \n",
    "    return new_data"
   ]
  },
  {
   "cell_type": "code",
   "execution_count": 3,
   "id": "8edc791f",
   "metadata": {},
   "outputs": [],
   "source": [
    "def parse_page(page_name):\n",
    "    response = requests.get(f'https://www.elbruk.se/timpriser-{page_name}')\n",
    "    content = response.content\n",
    "    \n",
    "    parser = BeautifulSoup(content, 'html.parser')\n",
    "    \n",
    "    data = parse_data(parser,'div','info-box-content')\n",
    "    electricity_prices = [float(re.findall(r'\\d+\\,\\d+',info.split('\\n')[2])[0].replace(',','.')) for info in data[:4]]\n",
    "    \n",
    "    return electricity_prices"
   ]
  },
  {
   "cell_type": "markdown",
   "id": "56d72514",
   "metadata": {},
   "source": [
    "## <span style='color:#ff5f27'> 🕵🏻‍♂️ Parsing Electricity Data"
   ]
  },
  {
   "cell_type": "code",
   "execution_count": 4,
   "id": "ae37b092",
   "metadata": {},
   "outputs": [
    {
     "data": {
      "text/plain": [
       "[['2022-09-02 20:00', 'Lulea', 45.72, 42.02, 39.05, 65.69],\n",
       " ['2022-09-02 20:00', 'Sundsvall', 45.72, 42.02, 39.05, 65.69],\n",
       " ['2022-09-02 20:00', 'Stockholm', 321.75, 483.3, 39.05, 625.09],\n",
       " ['2022-09-02 20:00', 'Malmo', 451.35, 602.09, 203.32, 625.09]]"
      ]
     },
     "execution_count": 4,
     "metadata": {},
     "output_type": "execute_result"
    }
   ],
   "source": [
    "page_names = ['se1-lulea','se2-sundsvall','se3-stockholm','se4-malmo']\n",
    "\n",
    "data = [[datetime.datetime.now().strftime(\"%Y-%m-%d %H:%M\"),page_name.split('-')[1].capitalize(),*parse_page(page_name)] for page_name in page_names]\n",
    "\n",
    "data"
   ]
  },
  {
   "cell_type": "markdown",
   "id": "1fb5d059",
   "metadata": {},
   "source": [
    "## <span style='color:#ff5f27'> 👩🏻‍🔬 DataFrame Creation/Update"
   ]
  },
  {
   "cell_type": "code",
   "execution_count": 5,
   "id": "25f7965d",
   "metadata": {},
   "outputs": [],
   "source": [
    "columns = [\n",
    "    'date',\n",
    "    'city',\n",
    "    'price_day',\n",
    "    'price_current',\n",
    "    'price_min',\n",
    "    'price_max'\n",
    "]"
   ]
  },
  {
   "cell_type": "code",
   "execution_count": 6,
   "id": "1165a0b9",
   "metadata": {},
   "outputs": [
    {
     "data": {
      "text/html": [
       "<div>\n",
       "<style scoped>\n",
       "    .dataframe tbody tr th:only-of-type {\n",
       "        vertical-align: middle;\n",
       "    }\n",
       "\n",
       "    .dataframe tbody tr th {\n",
       "        vertical-align: top;\n",
       "    }\n",
       "\n",
       "    .dataframe thead th {\n",
       "        text-align: right;\n",
       "    }\n",
       "</style>\n",
       "<table border=\"1\" class=\"dataframe\">\n",
       "  <thead>\n",
       "    <tr style=\"text-align: right;\">\n",
       "      <th></th>\n",
       "      <th>date</th>\n",
       "      <th>city</th>\n",
       "      <th>price_day</th>\n",
       "      <th>price_current</th>\n",
       "      <th>price_min</th>\n",
       "      <th>price_max</th>\n",
       "    </tr>\n",
       "  </thead>\n",
       "  <tbody>\n",
       "    <tr>\n",
       "      <th>0</th>\n",
       "      <td>2022-09-02 20:00</td>\n",
       "      <td>Lulea</td>\n",
       "      <td>45.72</td>\n",
       "      <td>42.02</td>\n",
       "      <td>39.05</td>\n",
       "      <td>65.69</td>\n",
       "    </tr>\n",
       "    <tr>\n",
       "      <th>1</th>\n",
       "      <td>2022-09-02 20:00</td>\n",
       "      <td>Sundsvall</td>\n",
       "      <td>45.72</td>\n",
       "      <td>42.02</td>\n",
       "      <td>39.05</td>\n",
       "      <td>65.69</td>\n",
       "    </tr>\n",
       "    <tr>\n",
       "      <th>2</th>\n",
       "      <td>2022-09-02 20:00</td>\n",
       "      <td>Stockholm</td>\n",
       "      <td>321.75</td>\n",
       "      <td>483.30</td>\n",
       "      <td>39.05</td>\n",
       "      <td>625.09</td>\n",
       "    </tr>\n",
       "    <tr>\n",
       "      <th>3</th>\n",
       "      <td>2022-09-02 20:00</td>\n",
       "      <td>Malmo</td>\n",
       "      <td>451.35</td>\n",
       "      <td>602.09</td>\n",
       "      <td>203.32</td>\n",
       "      <td>625.09</td>\n",
       "    </tr>\n",
       "  </tbody>\n",
       "</table>\n",
       "</div>"
      ],
      "text/plain": [
       "               date       city  price_day  price_current  price_min  price_max\n",
       "0  2022-09-02 20:00      Lulea      45.72          42.02      39.05      65.69\n",
       "1  2022-09-02 20:00  Sundsvall      45.72          42.02      39.05      65.69\n",
       "2  2022-09-02 20:00  Stockholm     321.75         483.30      39.05     625.09\n",
       "3  2022-09-02 20:00      Malmo     451.35         602.09     203.32     625.09"
      ]
     },
     "execution_count": 6,
     "metadata": {},
     "output_type": "execute_result"
    }
   ],
   "source": [
    "dataframe = pd.DataFrame(\n",
    "    data = data,\n",
    "    columns = columns\n",
    ")\n",
    "\n",
    "dataframe.head()"
   ]
  },
  {
   "cell_type": "code",
   "execution_count": 7,
   "id": "cffadf4b",
   "metadata": {},
   "outputs": [],
   "source": [
    "try:\n",
    "    df_historical = pd.read_csv('electricity_prices.csv')\n",
    "    df_historical = pd.concat([df_historical,dataframe],ignore_index=True,)\n",
    "    df_historical.to_csv('electricity_prices.csv',index=False)\n",
    "except:\n",
    "    dataframe.to_csv('electricity_prices.csv',index=False)"
   ]
  },
  {
   "cell_type": "markdown",
   "id": "70e6a45b",
   "metadata": {},
   "source": [
    "## <span style='color:#ff5f27'> 👨🏻‍⚖️ Electricity Prices Data Check"
   ]
  },
  {
   "cell_type": "code",
   "execution_count": 8,
   "id": "b7581c96",
   "metadata": {},
   "outputs": [
    {
     "data": {
      "text/html": [
       "<div>\n",
       "<style scoped>\n",
       "    .dataframe tbody tr th:only-of-type {\n",
       "        vertical-align: middle;\n",
       "    }\n",
       "\n",
       "    .dataframe tbody tr th {\n",
       "        vertical-align: top;\n",
       "    }\n",
       "\n",
       "    .dataframe thead th {\n",
       "        text-align: right;\n",
       "    }\n",
       "</style>\n",
       "<table border=\"1\" class=\"dataframe\">\n",
       "  <thead>\n",
       "    <tr style=\"text-align: right;\">\n",
       "      <th></th>\n",
       "      <th>date</th>\n",
       "      <th>city</th>\n",
       "      <th>price_day</th>\n",
       "      <th>price_current</th>\n",
       "      <th>price_min</th>\n",
       "      <th>price_max</th>\n",
       "    </tr>\n",
       "  </thead>\n",
       "  <tbody>\n",
       "    <tr>\n",
       "      <th>0</th>\n",
       "      <td>2022-09-02 19:43</td>\n",
       "      <td>Lulea</td>\n",
       "      <td>45.72</td>\n",
       "      <td>40.40</td>\n",
       "      <td>39.05</td>\n",
       "      <td>65.69</td>\n",
       "    </tr>\n",
       "    <tr>\n",
       "      <th>1</th>\n",
       "      <td>2022-09-02 19:43</td>\n",
       "      <td>Sundsvall</td>\n",
       "      <td>45.72</td>\n",
       "      <td>40.40</td>\n",
       "      <td>39.05</td>\n",
       "      <td>65.69</td>\n",
       "    </tr>\n",
       "    <tr>\n",
       "      <th>2</th>\n",
       "      <td>2022-09-02 19:43</td>\n",
       "      <td>Stockholm</td>\n",
       "      <td>321.75</td>\n",
       "      <td>532.13</td>\n",
       "      <td>39.05</td>\n",
       "      <td>625.09</td>\n",
       "    </tr>\n",
       "    <tr>\n",
       "      <th>3</th>\n",
       "      <td>2022-09-02 19:43</td>\n",
       "      <td>Malmo</td>\n",
       "      <td>451.35</td>\n",
       "      <td>590.86</td>\n",
       "      <td>203.32</td>\n",
       "      <td>625.09</td>\n",
       "    </tr>\n",
       "    <tr>\n",
       "      <th>4</th>\n",
       "      <td>2022-09-02 19:46</td>\n",
       "      <td>Lulea</td>\n",
       "      <td>45.72</td>\n",
       "      <td>40.40</td>\n",
       "      <td>39.05</td>\n",
       "      <td>65.69</td>\n",
       "    </tr>\n",
       "  </tbody>\n",
       "</table>\n",
       "</div>"
      ],
      "text/plain": [
       "               date       city  price_day  price_current  price_min  price_max\n",
       "0  2022-09-02 19:43      Lulea      45.72          40.40      39.05      65.69\n",
       "1  2022-09-02 19:43  Sundsvall      45.72          40.40      39.05      65.69\n",
       "2  2022-09-02 19:43  Stockholm     321.75         532.13      39.05     625.09\n",
       "3  2022-09-02 19:43      Malmo     451.35         590.86     203.32     625.09\n",
       "4  2022-09-02 19:46      Lulea      45.72          40.40      39.05      65.69"
      ]
     },
     "execution_count": 8,
     "metadata": {},
     "output_type": "execute_result"
    }
   ],
   "source": [
    "df = pd.read_csv('electricity_prices.csv')\n",
    "\n",
    "df.head()"
   ]
  },
  {
   "cell_type": "code",
   "execution_count": 9,
   "id": "35dc4012",
   "metadata": {},
   "outputs": [
    {
     "data": {
      "text/plain": [
       "(20, 6)"
      ]
     },
     "execution_count": 9,
     "metadata": {},
     "output_type": "execute_result"
    }
   ],
   "source": [
    "df.shape"
   ]
  },
  {
   "cell_type": "markdown",
   "id": "ecaef273",
   "metadata": {},
   "source": [
    "---"
   ]
  }
 ],
 "metadata": {
  "kernelspec": {
   "display_name": "Python 3 (ipykernel)",
   "language": "python",
   "name": "python3"
  },
  "language_info": {
   "codemirror_mode": {
    "name": "ipython",
    "version": 3
   },
   "file_extension": ".py",
   "mimetype": "text/x-python",
   "name": "python",
   "nbconvert_exporter": "python",
   "pygments_lexer": "ipython3",
   "version": "3.9.12"
  }
 },
 "nbformat": 4,
 "nbformat_minor": 5
}
