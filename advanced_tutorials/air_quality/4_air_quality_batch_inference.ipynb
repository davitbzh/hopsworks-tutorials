{
 "cells": [
  {
   "cell_type": "markdown",
   "id": "c958e52b",
   "metadata": {},
   "source": [
    "# <span style=\"font-width:bold; font-size: 3rem; color:#1EB182;\"><img src=\"../images/icon102.png\" width=\"38px\"></img> **Hopsworks Feature Store** </span><span style=\"font-width:bold; font-size: 3rem; color:#333;\">- Part 04: Batch Inference</span>\n",
    "\n",
    "## 🗒️ This notebook is divided into the following sections:\n",
    "\n",
    "1. Load batch data.\n",
    "2. Predict using model from Model Registry."
   ]
  },
  {
   "cell_type": "markdown",
   "id": "8855ee1a",
   "metadata": {},
   "source": [
    "## <span style='color:#ff5f27'> 📝 Imports"
   ]
  },
  {
   "cell_type": "code",
   "execution_count": null,
   "id": "019c9226",
   "metadata": {},
   "outputs": [],
   "source": [
    "import joblib\n",
    "import datetime\n",
    "import time\n",
    "import pandas as pd"
   ]
  },
  {
   "cell_type": "markdown",
   "id": "ce2fe8a8",
   "metadata": {},
   "source": [
    "## <span style=\"color:#ff5f27;\"> 📡 Connecting to Hopsworks Feature Store </span>"
   ]
  },
  {
   "cell_type": "code",
   "execution_count": null,
   "id": "39f83bc9",
   "metadata": {},
   "outputs": [],
   "source": [
    "import hopsworks\n",
    "\n",
    "project = hopsworks.login()\n",
    "\n",
    "fs = project.get_feature_store()"
   ]
  },
  {
   "cell_type": "markdown",
   "id": "87485ee0",
   "metadata": {},
   "source": [
    "## <span style=\"color:#ff5f27;\"> ⚙️ Feature View Retrieval</span>\n"
   ]
  },
  {
   "cell_type": "code",
   "execution_count": null,
   "id": "e622d6b4",
   "metadata": {},
   "outputs": [],
   "source": [
    "# Retrieve the 'air_quality_fv' feature view\n",
    "feature_view = fs.get_feature_view(\n",
    "    name='air_quality_fv',\n",
    "    version=1,\n",
    ")"
   ]
  },
  {
   "cell_type": "markdown",
   "id": "e1dac8b6",
   "metadata": {},
   "source": [
    "## <span style=\"color:#ff5f27;\">🗄 Model Registry</span>\n"
   ]
  },
  {
   "cell_type": "code",
   "execution_count": null,
   "id": "ca35a9f4",
   "metadata": {},
   "outputs": [],
   "source": [
    "# Retrieve the model registry\n",
    "mr = project.get_model_registry()"
   ]
  },
  {
   "cell_type": "markdown",
   "id": "6f3589dc",
   "metadata": {},
   "source": [
    "## <span style=\"color:#ff5f27;\">🪝 Retrieving model from Model Registry</span>"
   ]
  },
  {
   "cell_type": "code",
   "execution_count": null,
   "id": "6ac8014f",
   "metadata": {},
   "outputs": [],
   "source": [
    "# Retrieving the 'air_quality_xgboost_model' from the model registry\n",
    "retrieved_model = mr.get_model(\n",
    "    name=\"air_quality_xgboost_model\",\n",
    "    version=1,\n",
    ")\n",
    "\n",
    "# Downloading the saved model artifacts to a local directory\n",
    "saved_model_dir = retrieved_model.download()"
   ]
  },
  {
   "cell_type": "code",
   "execution_count": null,
   "id": "3812f78d",
   "metadata": {},
   "outputs": [],
   "source": [
    "# Loading the XGBoost regressor model and label encoder from the saved model directory\n",
    "retrieved_xgboost_model = joblib.load(saved_model_dir + \"/xgboost_regressor.pkl\")\n",
    "retrieved_encoder = joblib.load(saved_model_dir + \"/label_encoder.pkl\")\n",
    "\n",
    "# Displaying the retrieved XGBoost regressor model\n",
    "retrieved_xgboost_model"
   ]
  },
  {
   "cell_type": "markdown",
   "id": "9a762442",
   "metadata": {},
   "source": [
    "## <span style=\"color:#ff5f27;\">✨ Load Batch Data of last days</span>\n",
    "\n",
    "First, you will need to fetch the training dataset that you created in the previous notebook."
   ]
  },
  {
   "cell_type": "code",
   "execution_count": null,
   "id": "4bd49291",
   "metadata": {},
   "outputs": [],
   "source": [
    "# Getting the current date\n",
    "today = datetime.date.today()\n",
    "\n",
    "# Calculating a date threshold 30 days ago from the current date\n",
    "date_threshold = today - datetime.timedelta(days=30)\n",
    "\n",
    "# Converting the date threshold to a string format\n",
    "str(date_threshold)"
   ]
  },
  {
   "cell_type": "code",
   "execution_count": null,
   "id": "3990e55f",
   "metadata": {},
   "outputs": [],
   "source": [
    "# Initializing batch scoring\n",
    "feature_view.init_batch_scoring(1)\n",
    "\n",
    "# Retrieving batch data from the feature view with a start time set to the date threshold\n",
    "batch_data = feature_view.get_batch_data(start_time=date_threshold)"
   ]
  },
  {
   "cell_type": "markdown",
   "id": "36f82c4a",
   "metadata": {},
   "source": [
    "### <span style=\"color:#ff5f27;\">🤖 Making the predictions</span>"
   ]
  },
  {
   "cell_type": "code",
   "execution_count": null,
   "id": "a10ff736",
   "metadata": {},
   "outputs": [],
   "source": [
    "# Transforming the 'city_name' column in the batch data using the retrieved label encoder\n",
    "encoded = retrieved_encoder.transform(batch_data['city_name'])\n",
    "\n",
    "# Concatenating the label-encoded 'city_name' with the original batch data\n",
    "X_batch = pd.concat([batch_data, pd.DataFrame(encoded)], axis=1)\n",
    "\n",
    "# Dropping unnecessary columns ('date', 'city_name', 'unix_time') from the batch data\n",
    "X_batch = X_batch.drop(columns=['date', 'city_name', 'unix_time'])\n",
    "\n",
    "# Renaming the newly added column with label-encoded city names to 'city_name_encoded'\n",
    "X_batch = X_batch.rename(columns={0: 'city_name_encoded'})\n",
    "\n",
    "# Extracting the target variable 'pm2_5' from the batch data\n",
    "y_batch = X_batch.pop('pm2_5')"
   ]
  },
  {
   "cell_type": "code",
   "execution_count": null,
   "id": "b597ea2b",
   "metadata": {},
   "outputs": [],
   "source": [
    "# Making predictions on the batch data using the retrieved XGBoost regressor model\n",
    "predictions = retrieved_xgboost_model.predict(X_batch)\n",
    "\n",
    "# Displaying the first 5 predictions\n",
    "predictions[:5]"
   ]
  },
  {
   "cell_type": "markdown",
   "id": "80e2b142",
   "metadata": {},
   "source": [
    "---\n",
    "## <span style=\"color:#ff5f27;\">👾 Now try out the Streamlit App!</span>"
   ]
  },
  {
   "cell_type": "code",
   "execution_count": null,
   "id": "c208069a",
   "metadata": {},
   "outputs": [],
   "source": [
    "!python3 -m streamlit run streamlit_app.py"
   ]
  },
  {
   "cell_type": "markdown",
   "id": "c97c7f97",
   "metadata": {},
   "source": [
    "---\n",
    "\n",
    "### <span style=\"color:#ff5f27;\">🥳 <b> Next Steps  </b> </span>\n",
    "Congratulations you've now completed the Air Quality tutorial for Managed Hopsworks.\n",
    "\n",
    "Check out our other tutorials on ➡ https://github.com/logicalclocks/hopsworks-tutorials\n",
    "\n",
    "Or documentation at ➡ https://docs.hopsworks.ai"
   ]
  }
 ],
 "metadata": {
  "kernelspec": {
   "display_name": "Python 3 (ipykernel)",
   "language": "python",
   "name": "python3"
  },
  "language_info": {
   "codemirror_mode": {
    "name": "ipython",
    "version": 3
   },
   "file_extension": ".py",
   "mimetype": "text/x-python",
   "name": "python",
   "nbconvert_exporter": "python",
   "pygments_lexer": "ipython3",
   "version": "3.9.18"
  }
 },
 "nbformat": 4,
 "nbformat_minor": 5
}
