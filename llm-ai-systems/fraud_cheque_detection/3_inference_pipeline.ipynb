{
 "cells": [
  {
   "cell_type": "markdown",
   "id": "292e9456",
   "metadata": {},
   "source": [
    "## <span style='color:#ff5f27'> 📝 Imports"
   ]
  },
  {
   "cell_type": "code",
   "execution_count": null,
   "id": "8bed2e2a",
   "metadata": {},
   "outputs": [],
   "source": [
    "!pip install -r requirements.txt -q"
   ]
  },
  {
   "cell_type": "code",
   "execution_count": null,
   "id": "e1343eb1",
   "metadata": {},
   "outputs": [],
   "source": [
    "from xgboost import XGBClassifier\n",
    "import pandas as pd\n",
    "\n",
    "from functions.utils import (\n",
    "    load_image,\n",
    "    show_image\n",
    ")\n",
    "from functions.donut import (\n",
    "    load_cheque_parser,\n",
    "    parse_text,\n",
    "    evaluate_cheque_fraud,\n",
    ")\n",
    "from functions.llm_chain import(\n",
    "    get_llm_chain,\n",
    "    generate_response,\n",
    "    format_response,\n",
    ")\n",
    "from features.cheque_validation import get_cheque_ids\n",
    "\n",
    "import config\n",
    "\n",
    "import warnings\n",
    "warnings.filterwarnings('ignore')"
   ]
  },
  {
   "cell_type": "markdown",
   "id": "a9fd8c23",
   "metadata": {},
   "source": [
    "## <span style=\"color:#ff5f27;\"> 🔮 Connecting to Hopsworks Feature Store </span>"
   ]
  },
  {
   "cell_type": "code",
   "execution_count": null,
   "id": "c34837f2",
   "metadata": {},
   "outputs": [],
   "source": [
    "import hopsworks\n",
    "\n",
    "project = hopsworks.login()\n",
    "\n",
    "fs = project.get_feature_store() "
   ]
  },
  {
   "cell_type": "markdown",
   "id": "a3569ef7",
   "metadata": {},
   "source": [
    "## <span style=\"color:#ff5f27;\"> 🪝 Download the Fraud Detection Model from Model Registry </span>"
   ]
  },
  {
   "cell_type": "code",
   "execution_count": null,
   "id": "fbecf2c2",
   "metadata": {},
   "outputs": [],
   "source": [
    "mr = project.get_model_registry()\n",
    "\n",
    "retrieved_model = mr.get_model(\n",
    "    name=\"cheque_fraud_detection_model\",\n",
    "    version=1,\n",
    ")\n",
    "\n",
    "# Download the saved model artifacts to a local directory\n",
    "saved_model_dir = retrieved_model.download()"
   ]
  },
  {
   "cell_type": "code",
   "execution_count": null,
   "id": "1f819625",
   "metadata": {},
   "outputs": [],
   "source": [
    "model_fraud_detection = XGBClassifier()\n",
    "\n",
    "model_fraud_detection.load_model(saved_model_dir + \"/model.json\")"
   ]
  },
  {
   "cell_type": "markdown",
   "id": "8e4032ca",
   "metadata": {},
   "source": [
    "## <span style='color:#ff5f27'> 🍩 Donut Model Loading </span>\n"
   ]
  },
  {
   "cell_type": "code",
   "execution_count": null,
   "id": "13efd4a6",
   "metadata": {},
   "outputs": [],
   "source": [
    "processor, model_parser = load_cheque_parser(\n",
    "    config.DONUT_FT_REPO,\n",
    ")"
   ]
  },
  {
   "cell_type": "markdown",
   "id": "9ce9bcae",
   "metadata": {},
   "source": [
    "## <span style='color:#ff5f27'> 🚀 Cheque Text Parsing </span>\n"
   ]
  },
  {
   "cell_type": "code",
   "execution_count": null,
   "id": "3752b514",
   "metadata": {},
   "outputs": [],
   "source": [
    "image1 = load_image('1.jpg')\n",
    "\n",
    "parsed_text1 = parse_text(\n",
    "    image1, \n",
    "    processor, \n",
    "    model_parser,\n",
    ")\n",
    "print(parsed_text1)\n",
    "\n",
    "show_image(image1)"
   ]
  },
  {
   "cell_type": "code",
   "execution_count": null,
   "id": "e1f40889",
   "metadata": {},
   "outputs": [],
   "source": [
    "image2 = load_image('2.jpg')\n",
    "\n",
    "parsed_text2 = parse_text(\n",
    "    image2, \n",
    "    processor, \n",
    "    model_parser,\n",
    ")\n",
    "print(parsed_text2)\n",
    "\n",
    "show_image(image2)"
   ]
  },
  {
   "cell_type": "code",
   "execution_count": null,
   "id": "d73d918b",
   "metadata": {},
   "outputs": [],
   "source": [
    "image502 = load_image('502.jpg')\n",
    "\n",
    "parsed_text502 = parse_text(\n",
    "    image502, \n",
    "    processor, \n",
    "    model_parser,\n",
    ")\n",
    "print(parsed_text502)\n",
    "\n",
    "show_image(image502)"
   ]
  },
  {
   "cell_type": "code",
   "execution_count": null,
   "id": "c78caf91",
   "metadata": {},
   "outputs": [],
   "source": [
    "image503 = load_image('503.jpg')\n",
    "\n",
    "parsed_text503 = parse_text(\n",
    "    image503, \n",
    "    processor, \n",
    "    model_parser,\n",
    ")\n",
    "print(parsed_text503)\n",
    "\n",
    "show_image(image503)"
   ]
  },
  {
   "cell_type": "markdown",
   "id": "5eaf39ca",
   "metadata": {},
   "source": [
    "## <span style='color:#ff5f27'>👨🏻‍⚖️ Check Evaluation </span>\n"
   ]
  },
  {
   "cell_type": "code",
   "execution_count": null,
   "id": "1418a08c",
   "metadata": {},
   "outputs": [],
   "source": [
    "evaluate_cheque_fraud(\n",
    "    parsed_text1, \n",
    "    model_fraud_detection,\n",
    ")"
   ]
  },
  {
   "cell_type": "code",
   "execution_count": null,
   "id": "de7e3d92",
   "metadata": {},
   "outputs": [],
   "source": [
    "evaluate_cheque_fraud(\n",
    "    parsed_text2, \n",
    "    model_fraud_detection,\n",
    ")"
   ]
  },
  {
   "cell_type": "code",
   "execution_count": null,
   "id": "fa656a86",
   "metadata": {},
   "outputs": [],
   "source": [
    "image3 = load_image('3.jpg')\n",
    "\n",
    "parsed_text3 = parse_text(\n",
    "    image3, \n",
    "    processor, \n",
    "    model_parser,\n",
    ")\n",
    "\n",
    "evaluate_cheque_fraud(\n",
    "    parsed_text3, \n",
    "    model_fraud_detection,\n",
    ")"
   ]
  },
  {
   "cell_type": "code",
   "execution_count": null,
   "id": "3bc9afe8",
   "metadata": {},
   "outputs": [],
   "source": [
    "evaluate_cheque_fraud(\n",
    "    parsed_text502, \n",
    "    model_fraud_detection,\n",
    ")"
   ]
  },
  {
   "cell_type": "code",
   "execution_count": null,
   "id": "b91d0b40",
   "metadata": {},
   "outputs": [],
   "source": [
    "evaluate_cheque_fraud(\n",
    "    parsed_text503, \n",
    "    model_fraud_detection,\n",
    ")"
   ]
  },
  {
   "cell_type": "markdown",
   "id": "4f8f7c7b",
   "metadata": {},
   "source": [
    "## <span style='color:#ff5f27'>🔗 LLM Chain Loading </span>\n"
   ]
  },
  {
   "cell_type": "code",
   "execution_count": null,
   "id": "da9bb569",
   "metadata": {},
   "outputs": [],
   "source": [
    "llm_chain = get_llm_chain()"
   ]
  },
  {
   "cell_type": "markdown",
   "id": "a02af846",
   "metadata": {},
   "source": [
    "## <span style='color:#ff5f27'>🚀 Inference </span>\n"
   ]
  },
  {
   "cell_type": "code",
   "execution_count": null,
   "id": "e60661ec",
   "metadata": {},
   "outputs": [],
   "source": [
    "response = generate_response(\n",
    "    '2.jpg', \n",
    "    processor, \n",
    "    model_parser, \n",
    "    model_fraud_detection, \n",
    "    llm_chain,\n",
    "    verbose=True,\n",
    ")\n",
    "print(response)"
   ]
  },
  {
   "cell_type": "code",
   "execution_count": null,
   "id": "232f8e4b",
   "metadata": {},
   "outputs": [],
   "source": [
    "response = generate_response(\n",
    "    '3.jpg', \n",
    "    processor, \n",
    "    model_parser, \n",
    "    model_fraud_detection, \n",
    "    llm_chain,\n",
    "    verbose=True,\n",
    ")\n",
    "print(response)"
   ]
  },
  {
   "cell_type": "code",
   "execution_count": null,
   "id": "7795f95d",
   "metadata": {},
   "outputs": [],
   "source": [
    "response = generate_response(\n",
    "    '502.jpg', \n",
    "    processor, \n",
    "    model_parser, \n",
    "    model_fraud_detection, \n",
    "    llm_chain,\n",
    "    verbose=True,\n",
    ")\n",
    "print(response)"
   ]
  },
  {
   "cell_type": "code",
   "execution_count": null,
   "id": "b8897a01",
   "metadata": {},
   "outputs": [],
   "source": [
    "response = generate_response(\n",
    "    '503.jpg', \n",
    "    processor, \n",
    "    model_parser, \n",
    "    model_fraud_detection, \n",
    "    llm_chain,\n",
    "    verbose=True,\n",
    ")\n",
    "print(response)"
   ]
  },
  {
   "cell_type": "markdown",
   "id": "c67483cf",
   "metadata": {},
   "source": [
    "## <span style='color:#ff5f27'>🗄️ Batch Inference </span>\n"
   ]
  },
  {
   "cell_type": "code",
   "execution_count": null,
   "id": "6953f9a6",
   "metadata": {},
   "outputs": [],
   "source": [
    "from os import listdir\n",
    "from os.path import isfile, join\n",
    "\n",
    "FOLDER_NAME = 'cheques_batch/'\n",
    "\n",
    "cheque_names = [image for image in listdir(FOLDER_NAME)]\n",
    "cheque_names"
   ]
  },
  {
   "cell_type": "code",
   "execution_count": null,
   "id": "cec1a184",
   "metadata": {},
   "outputs": [],
   "source": [
    "cheque_batch_validation = [\n",
    "    generate_response(\n",
    "        cheque_name, \n",
    "        processor, \n",
    "        model_parser, \n",
    "        model_fraud_detection, \n",
    "        llm_chain,verbose=False,\n",
    "        folder_name=FOLDER_NAME,\n",
    "    ) \n",
    "    for cheque_name \n",
    "    in cheque_names\n",
    "]\n",
    "\n",
    "responses_formatted = [\n",
    "    format_response(response) \n",
    "    for response \n",
    "    in cheque_batch_validation\n",
    "]\n",
    "\n",
    "cheque_validation_df = pd.DataFrame(\n",
    "    responses_formatted, \n",
    "    columns=['status', 'description'],\n",
    ")\n",
    "\n",
    "cheque_validation_df.head()"
   ]
  },
  {
   "cell_type": "markdown",
   "id": "72b14181",
   "metadata": {},
   "source": [
    "## <span style=\"color:#ff5f27;\"> 🪄 Feature Group Creation </span>"
   ]
  },
  {
   "cell_type": "code",
   "execution_count": null,
   "id": "a56569be",
   "metadata": {},
   "outputs": [],
   "source": [
    "from hsfs.feature import Feature\n",
    "\n",
    "features = [\n",
    "    Feature(name=\"cheque_id\", type=\"bigint\"),\n",
    "    Feature(name=\"status\", type=\"string\"),\n",
    "    Feature(name=\"description\", type=\"string\", online_type = \"TEXT\"),\n",
    "]"
   ]
  },
  {
   "cell_type": "code",
   "execution_count": null,
   "id": "968b7b16",
   "metadata": {},
   "outputs": [],
   "source": [
    "# Get or create the 'cheque_validation' feature group\n",
    "cheque_validation_fg = fs.get_or_create_feature_group(\n",
    "    name=\"cheque_validation_fg\",\n",
    "    version=1,\n",
    "    description='Cheque Validation and description',\n",
    "    primary_key=['cheque_id'],\n",
    "    online_enabled=True,\n",
    "    features=features,\n",
    ")"
   ]
  },
  {
   "cell_type": "code",
   "execution_count": null,
   "id": "40eb1c4d",
   "metadata": {},
   "outputs": [],
   "source": [
    "cheque_validation_df_w_index = get_cheque_ids(\n",
    "    cheque_validation_fg, \n",
    "    cheque_validation_df,\n",
    ")\n",
    "cheque_validation_df_w_index.head(3)"
   ]
  },
  {
   "cell_type": "code",
   "execution_count": null,
   "id": "83d93efd",
   "metadata": {},
   "outputs": [],
   "source": [
    "cheque_validation_fg.insert(\n",
    "    cheque_validation_df_w_index,\n",
    ")"
   ]
  },
  {
   "cell_type": "markdown",
   "id": "97599fa4",
   "metadata": {},
   "source": [
    "---"
   ]
  }
 ],
 "metadata": {
  "kernelspec": {
   "display_name": "Python",
   "language": "python",
   "name": "python3"
  },
  "language_info": {
   "codemirror_mode": {
    "name": "ipython",
    "version": 3
   },
   "file_extension": ".py",
   "mimetype": "text/x-python",
   "name": "python",
   "nbconvert_exporter": "python",
   "pygments_lexer": "ipython3",
   "version": "3.10.11"
  }
 },
 "nbformat": 4,
 "nbformat_minor": 5
}
