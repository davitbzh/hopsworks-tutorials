{
 "cells": [
  {
   "cell_type": "markdown",
   "id": "610d4489",
   "metadata": {},
   "source": [
    "## <span style='color:#ff5f27'> 📝 Imports"
   ]
  },
  {
   "cell_type": "code",
   "execution_count": null,
   "id": "fbab9b10-4bf9-43d6-a21a-e8d86f314f14",
   "metadata": {},
   "outputs": [],
   "source": [
    "# !pip install -U 'hopsworks[python]' --quiet"
   ]
  },
  {
   "cell_type": "code",
   "execution_count": null,
   "id": "c0bcaa61",
   "metadata": {},
   "outputs": [],
   "source": [
    "!pip install -r requirements.txt -q"
   ]
  },
  {
   "cell_type": "code",
   "execution_count": null,
   "id": "c5760f50",
   "metadata": {},
   "outputs": [],
   "source": [
    "import config\n",
    "import pandas as pd\n",
    "\n",
    "from functions.utils import (\n",
    "    load_image,\n",
    "    show_image,\n",
    "    download_and_extract_zip,\n",
    ")\n",
    "from functions.donut import (\n",
    "    load_cheque_parser,\n",
    "    parse_text,\n",
    ")\n",
    "from features.cheque import (\n",
    "    spell_check,\n",
    "    amount_letter_number_match,\n",
    "    get_amount_match_column,\n",
    ")"
   ]
  },
  {
   "cell_type": "markdown",
   "id": "c25e5d83",
   "metadata": {},
   "source": [
    "## <span style='color:#ff5f27'>🗄️ Data Loading"
   ]
  },
  {
   "cell_type": "code",
   "execution_count": null,
   "id": "65065778",
   "metadata": {},
   "outputs": [],
   "source": [
    "download_and_extract_zip(config.DOWNLOAD_URL)"
   ]
  },
  {
   "cell_type": "code",
   "execution_count": null,
   "id": "e977adb3",
   "metadata": {},
   "outputs": [],
   "source": [
    "data = pd.read_csv('data/res.csv')\n",
    "data.columns = data.columns.str.lower()\n",
    "data.rename(\n",
    "    columns={\n",
    "        'value_letters': 'amount_in_text',\n",
    "        'value_numbers': 'amount_in_numbers',\n",
    "    }, \n",
    "    inplace=True,\n",
    ")\n",
    "data.head()"
   ]
  },
  {
   "cell_type": "code",
   "execution_count": null,
   "id": "88c9bf6c",
   "metadata": {},
   "outputs": [],
   "source": [
    "data.bank_name.value_counts()"
   ]
  },
  {
   "cell_type": "code",
   "execution_count": null,
   "id": "a08ffae4",
   "metadata": {},
   "outputs": [],
   "source": [
    "data.valid.value_counts()"
   ]
  },
  {
   "cell_type": "markdown",
   "id": "f5822567",
   "metadata": {},
   "source": [
    "## <span style='color:#ff5f27'> 👨🏻‍🎨 Data Visualization"
   ]
  },
  {
   "cell_type": "code",
   "execution_count": null,
   "id": "7bdbd2f6",
   "metadata": {},
   "outputs": [],
   "source": [
    "image1 = load_image('1.jpg')\n",
    "\n",
    "show_image(image1)"
   ]
  },
  {
   "cell_type": "code",
   "execution_count": null,
   "id": "9207bb77",
   "metadata": {},
   "outputs": [],
   "source": [
    "data.head(1)"
   ]
  },
  {
   "cell_type": "code",
   "execution_count": null,
   "id": "367d510f",
   "metadata": {},
   "outputs": [],
   "source": [
    "data[data.valid==0].head(5)"
   ]
  },
  {
   "cell_type": "code",
   "execution_count": null,
   "id": "38e49887",
   "metadata": {},
   "outputs": [],
   "source": [
    "image501 = load_image('501.jpg')\n",
    "show_image(image501)"
   ]
  },
  {
   "cell_type": "code",
   "execution_count": null,
   "id": "9359ff42",
   "metadata": {},
   "outputs": [],
   "source": [
    "image502 = load_image('502.jpg')\n",
    "show_image(image502)"
   ]
  },
  {
   "cell_type": "code",
   "execution_count": null,
   "id": "08848b90",
   "metadata": {},
   "outputs": [],
   "source": [
    "image503 = load_image('503.jpg')\n",
    "show_image(image503)"
   ]
  },
  {
   "cell_type": "markdown",
   "id": "def821e2",
   "metadata": {},
   "source": [
    "## <span style='color:#ff5f27'>👩🏻‍🔬 Feature Engineering </span>\n"
   ]
  },
  {
   "cell_type": "markdown",
   "id": "f63c2ba5",
   "metadata": {},
   "source": [
    "### <span style='color:#ff5f27'>⛳️ Spell Check </span>\n"
   ]
  },
  {
   "cell_type": "code",
   "execution_count": null,
   "id": "0c92a0c0",
   "metadata": {},
   "outputs": [],
   "source": [
    "spell_check('Three Thousand Seven Hundred and Fifty Five')"
   ]
  },
  {
   "cell_type": "code",
   "execution_count": null,
   "id": "4f32a09d",
   "metadata": {},
   "outputs": [],
   "source": [
    "spell_check('Threee Thousand Seven Hundred and Fifty Five')"
   ]
  },
  {
   "cell_type": "code",
   "execution_count": null,
   "id": "aa6e373f",
   "metadata": {},
   "outputs": [],
   "source": [
    "spell_check('for thousand seven hundred and thirty six')"
   ]
  },
  {
   "cell_type": "code",
   "execution_count": null,
   "id": "64a54945",
   "metadata": {},
   "outputs": [],
   "source": [
    "spell_check(' ')"
   ]
  },
  {
   "cell_type": "code",
   "execution_count": null,
   "id": "9dc26883",
   "metadata": {},
   "outputs": [],
   "source": [
    "spell_check('missing')"
   ]
  },
  {
   "cell_type": "code",
   "execution_count": null,
   "id": "6c1699fc",
   "metadata": {},
   "outputs": [],
   "source": [
    "data[['spelling_is_correct', 'amount_in_text_corrected']] = data['amount_in_text'].apply(\n",
    "    lambda x: pd.Series(spell_check(x))\n",
    ")\n",
    "data.head(3)"
   ]
  },
  {
   "cell_type": "code",
   "execution_count": null,
   "id": "4362adec",
   "metadata": {},
   "outputs": [],
   "source": [
    "data[(data.amount_in_text == ' ')].head(3)"
   ]
  },
  {
   "cell_type": "markdown",
   "id": "7798f0c5",
   "metadata": {},
   "source": [
    "### <span style='color:#ff5f27'>⛳️ Amount in Letter and Number Match </span>\n"
   ]
  },
  {
   "cell_type": "code",
   "execution_count": null,
   "id": "253c16d8",
   "metadata": {},
   "outputs": [],
   "source": [
    "amount_letter_number_match('three thousand seven hundred and fifty five', '3755')"
   ]
  },
  {
   "cell_type": "code",
   "execution_count": null,
   "id": "17e7799d",
   "metadata": {},
   "outputs": [],
   "source": [
    "amount_letter_number_match('ThreeE Thousand Eight Hundred and Twenty Three', '7203')"
   ]
  },
  {
   "cell_type": "code",
   "execution_count": null,
   "id": "a268a403",
   "metadata": {},
   "outputs": [],
   "source": [
    "amount_letter_number_match('missing', '3754')"
   ]
  },
  {
   "cell_type": "code",
   "execution_count": null,
   "id": "771196e4",
   "metadata": {},
   "outputs": [],
   "source": [
    "amount_letter_number_match('Three Thousand Eight', 'missing')"
   ]
  },
  {
   "cell_type": "code",
   "execution_count": null,
   "id": "151b4791",
   "metadata": {},
   "outputs": [],
   "source": [
    "data['amount_letter_number_match'] = data[['amount_in_text_corrected', 'amount_in_numbers']].apply(\n",
    "    lambda x: get_amount_match_column(x.iloc[0], x.iloc[1]), \n",
    "    axis=1,\n",
    ")\n",
    "data.head(3)"
   ]
  },
  {
   "cell_type": "code",
   "execution_count": null,
   "id": "d7352554",
   "metadata": {},
   "outputs": [],
   "source": [
    "condition = (data['spelling_is_correct'] == False) & (data['amount_letter_number_match'] == False)\n",
    "\n",
    "data.loc[condition, 'valid'] = 0\n",
    "\n",
    "data[condition].head(3)"
   ]
  },
  {
   "cell_type": "code",
   "execution_count": null,
   "id": "fca40774",
   "metadata": {},
   "outputs": [],
   "source": [
    "data.valid.value_counts()"
   ]
  },
  {
   "cell_type": "markdown",
   "id": "1037b491",
   "metadata": {},
   "source": [
    "## <span style=\"color:#ff5f27;\"> 🔮 Connecting to Hopsworks Feature Store </span>"
   ]
  },
  {
   "cell_type": "code",
   "execution_count": null,
   "id": "57b46c7b",
   "metadata": {},
   "outputs": [],
   "source": [
    "import hopsworks\n",
    "\n",
    "project = hopsworks.login()\n",
    "\n",
    "fs = project.get_feature_store() "
   ]
  },
  {
   "cell_type": "markdown",
   "id": "c46a9f7b",
   "metadata": {},
   "source": [
    "## <span style=\"color:#ff5f27;\"> 🪄 Feature Group Creation </span>"
   ]
  },
  {
   "cell_type": "code",
   "execution_count": null,
   "id": "84f64635",
   "metadata": {},
   "outputs": [],
   "source": [
    "# Get or create the 'cheque_fg' feature group\n",
    "cheque_fg = fs.get_or_create_feature_group(\n",
    "    name=\"cheque_fg\",\n",
    "    description='Parsed Cheque Information',\n",
    "    primary_key=['cheque_no'],\n",
    "    version=1,\n",
    ")\n",
    "\n",
    "cheque_fg.insert(data)"
   ]
  },
  {
   "cell_type": "markdown",
   "id": "d70a5d38",
   "metadata": {},
   "source": [
    "---"
   ]
  }
 ],
 "metadata": {
  "kernelspec": {
   "display_name": "Python",
   "language": "python",
   "name": "python3"
  },
  "language_info": {
   "codemirror_mode": {
    "name": "ipython",
    "version": 3
   },
   "file_extension": ".py",
   "mimetype": "text/x-python",
   "name": "python",
   "nbconvert_exporter": "python",
   "pygments_lexer": "ipython3",
   "version": "3.10.11"
  }
 },
 "nbformat": 4,
 "nbformat_minor": 5
}
