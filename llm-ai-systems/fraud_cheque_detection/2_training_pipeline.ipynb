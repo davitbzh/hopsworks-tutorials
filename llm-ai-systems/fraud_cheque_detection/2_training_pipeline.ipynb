{
 "cells": [
  {
   "cell_type": "markdown",
   "id": "10d31d1c",
   "metadata": {},
   "source": [
    "## <span style='color:#ff5f27'> 📝 Imports"
   ]
  },
  {
   "cell_type": "code",
   "execution_count": null,
   "id": "5e1d6709",
   "metadata": {},
   "outputs": [],
   "source": [
    "from xgboost import XGBClassifier, plot_importance\n",
    "import matplotlib.pyplot as plt\n",
    "import os\n",
    "from sklearn.metrics import (\n",
    "    accuracy_score, \n",
    "    precision_score, \n",
    "    recall_score, \n",
    "    f1_score, \n",
    "    confusion_matrix,\n",
    ")"
   ]
  },
  {
   "cell_type": "markdown",
   "id": "9d627011",
   "metadata": {},
   "source": [
    "## <span style=\"color:#ff5f27;\"> 🔮 Connecting to Hopsworks Feature Store </span>"
   ]
  },
  {
   "cell_type": "code",
   "execution_count": null,
   "id": "61c62287",
   "metadata": {},
   "outputs": [],
   "source": [
    "import hopsworks\n",
    "\n",
    "project = hopsworks.login()\n",
    "\n",
    "fs = project.get_feature_store() "
   ]
  },
  {
   "cell_type": "code",
   "execution_count": null,
   "id": "e5425130",
   "metadata": {},
   "outputs": [],
   "source": [
    "cheque_fg = fs.get_feature_group(\n",
    "    name=\"cheque_fg\",\n",
    "    version=1,\n",
    ")"
   ]
  },
  {
   "cell_type": "markdown",
   "id": "848b2616",
   "metadata": {},
   "source": [
    "## <span style=\"color:#ff5f27;\">🪄 Feature View Creation </span>\n"
   ]
  },
  {
   "cell_type": "code",
   "execution_count": null,
   "id": "4cffdd7a",
   "metadata": {},
   "outputs": [],
   "source": [
    "# Get or create the 'cheque_fraud_detection' feature view\n",
    "feature_view = fs.get_or_create_feature_view(\n",
    "    name=\"cheque_fraud_detection\",\n",
    "    version=1,\n",
    "    description='Parsed Cheque Data for Fraud Detection',\n",
    "    query=cheque_fg.select([\"spelling_is_correct\", \"amount_letter_number_match\", \"valid\"]),\n",
    "    labels=['valid'],\n",
    ")"
   ]
  },
  {
   "cell_type": "code",
   "execution_count": null,
   "id": "3184b661",
   "metadata": {},
   "outputs": [],
   "source": [
    "X_train, X_test, y_train, y_test = feature_view.train_test_split(\n",
    "    test_size=0.2\n",
    ")\n",
    "X_train.head(3)"
   ]
  },
  {
   "cell_type": "code",
   "execution_count": null,
   "id": "b8b05533",
   "metadata": {},
   "outputs": [],
   "source": [
    "y_train.head(3)"
   ]
  },
  {
   "cell_type": "markdown",
   "id": "2873a632",
   "metadata": {},
   "source": [
    "## <span style=\"color:#ff5f27;\">🧬 Model Building </span>\n"
   ]
  },
  {
   "cell_type": "code",
   "execution_count": null,
   "id": "0527ae99",
   "metadata": {},
   "outputs": [],
   "source": [
    "# Create an instance of the XGBoost Classifier\n",
    "xgb_classifier = XGBClassifier()\n",
    "\n",
    "# Fit the XGBoost Classifier to the training data\n",
    "xgb_classifier.fit(X_train, y_train)"
   ]
  },
  {
   "cell_type": "markdown",
   "id": "e5f35c0e",
   "metadata": {},
   "source": [
    "## <span style=\"color:#ff5f27;\">⚖️ Model Validation </span>"
   ]
  },
  {
   "cell_type": "code",
   "execution_count": null,
   "id": "48dcd543",
   "metadata": {},
   "outputs": [],
   "source": [
    "# Make predictions on the testing set\n",
    "y_pred = xgb_classifier.predict(X_test)\n",
    "\n",
    "# Calculate metrics\n",
    "accuracy = accuracy_score(y_test, y_pred)\n",
    "precision = precision_score(y_test, y_pred, average='macro')\n",
    "recall = recall_score(y_test, y_pred, average='macro')\n",
    "f1 = f1_score(y_test, y_pred, average='macro')\n",
    "\n",
    "# Optionally, display a confusion matrix\n",
    "cm = confusion_matrix(y_test, y_pred)\n",
    "\n",
    "res_dict = { \n",
    "    \"Accuracy\": str(round(accuracy, 2)),\n",
    "    \"Precision\": str(round(precision, 2)),\n",
    "    \"Recall\": str(round(recall, 2)),\n",
    "    \"F1 Score\": str(round(f1, 2)),\n",
    "}\n",
    "\n",
    "# Print the metrics\n",
    "print(f\"⛳️ Accuracy: {accuracy:.2f}\")\n",
    "print(f\"⛳️ Precision: {precision:.2f}\")\n",
    "print(f\"⛳️ Recall: {recall:.2f}\")\n",
    "print(f\"⛳️ F1 Score: {f1:.2f}\")\n",
    "print(f\"⛳️ Confusion Matrix:\\n{cm}\")"
   ]
  },
  {
   "cell_type": "code",
   "execution_count": null,
   "id": "d7f3bdc2",
   "metadata": {},
   "outputs": [],
   "source": [
    "# Create directories\n",
    "model_dir = \"cheque_fraud_detection_model\"\n",
    "images_dir = os.path.join(model_dir, \"images\")\n",
    "os.makedirs(images_dir, exist_ok=True)"
   ]
  },
  {
   "cell_type": "code",
   "execution_count": null,
   "id": "cb8d4756",
   "metadata": {},
   "outputs": [],
   "source": [
    "# Plotting feature importances using the plot_importance function from XGBoost\n",
    "plot_importance(xgb_classifier)\n",
    "\n",
    "feature_importance_path = images_dir + \"/feature_importance.png\"\n",
    "\n",
    "plt.savefig(feature_importance_path)\n",
    "plt.show()"
   ]
  },
  {
   "cell_type": "markdown",
   "id": "6ca65e8c",
   "metadata": {},
   "source": [
    "## <span style=\"color:#ff5f27;\">🗄 Model Registry </span>"
   ]
  },
  {
   "cell_type": "code",
   "execution_count": null,
   "id": "fc4e83db",
   "metadata": {},
   "outputs": [],
   "source": [
    "# Retrieve the model registry\n",
    "mr = project.get_model_registry()"
   ]
  },
  {
   "cell_type": "code",
   "execution_count": null,
   "id": "5b58fb5c-589c-406c-abda-09d7f0c94568",
   "metadata": {},
   "outputs": [],
   "source": [
    "# Save model\n",
    "xgb_classifier.save_model(os.path.join(model_dir, \"model.json\"))"
   ]
  },
  {
   "cell_type": "code",
   "execution_count": null,
   "id": "80c9ad93",
   "metadata": {},
   "outputs": [],
   "source": [
    "cheque_fraud_detection_model = mr.python.create_model(\n",
    "    name=\"cheque_fraud_detection_model\", \n",
    "    metrics=res_dict,\n",
    "    input_example=X_test.sample().values, \n",
    "    description=\"Cheque Fraud Detection Model\",\n",
    "    feature_view=feature_view,\n",
    ")\n",
    "\n",
    "# Saving the model artifacts to the 'cheque_fraud_detection_model' directory in the model registry\n",
    "cheque_fraud_detection_model.save(model_dir)"
   ]
  },
  {
   "cell_type": "markdown",
   "id": "4174ef20",
   "metadata": {},
   "source": [
    "---"
   ]
  }
 ],
 "metadata": {
  "kernelspec": {
   "display_name": "Python",
   "language": "python",
   "name": "python3"
  },
  "language_info": {
   "codemirror_mode": {
    "name": "ipython",
    "version": 3
   },
   "file_extension": ".py",
   "mimetype": "text/x-python",
   "name": "python",
   "nbconvert_exporter": "python",
   "pygments_lexer": "ipython3",
   "version": "3.10.11"
  }
 },
 "nbformat": 4,
 "nbformat_minor": 5
}
